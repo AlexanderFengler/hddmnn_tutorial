{
 "cells": [
  {
   "cell_type": "markdown",
   "metadata": {},
   "source": [
    "# HAVE A LAN? USE IT THROUGH HDDM !"
   ]
  },
  {
   "cell_type": "markdown",
   "metadata": {},
   "source": [
    "If you have you own LAN, or really, a class with a `predict_on_batch()` method which you can call to get back the log-likelihood of a dataset, \n",
    "\n",
    "you can pass it as an argument to the `HDDMnn`, `HDDMnnRegressor` or `HDDMnnStimCoding` classes. \n",
    "However in addition we also need to construct a likelihood function that PyMC2 can accept. To help with this we provide convenience functions, which make this process simple.\n",
    "\n",
    "In this document we provide you with a simple complete example."
   ]
  },
  {
   "cell_type": "markdown",
   "metadata": {},
   "source": [
    "Let's say we have a new model, the `test_model`, and trained a LAN for it. \n",
    "In the example we are going to use a `Keras` model for the LAN, however as mentioned above, a class with `predict_on_batch()` method will work too.\n",
    "\n",
    "We will have to go through two preparatory steps, before we can pass our model to one of the `HDDMnn..()` classes.\n",
    "\n",
    "1. Construct a config dictionary for our `test_model`\n",
    "2. Construct a PyMC2 ready likelihood function for the `test_model`\n",
    "\n",
    "We will put a runnable example below, however keep the main part of this document non-executable so you do not need an `HDDM` ready environment to read the basic instructions in this tutorial."
   ]
  },
  {
   "cell_type": "markdown",
   "metadata": {},
   "source": [
    "### CONSTRUCT THE CONFIG DICTIONARY"
   ]
  },
  {
   "cell_type": "markdown",
   "metadata": {},
   "source": [
    "You will first have to load the HDDM package into your environment,\n",
    "\n",
    "```python\n",
    "import hddm\n",
    "```\n",
    "\n",
    "you can then access the config dictionary for all models included in `HDDM` by calling the  `hddm.model_config` object.\n",
    "\n",
    "You want to add your `test_model` metadata to the model_config. (We use the config form the `ddm` model for our `test_model` here)\n",
    "\n",
    "```python\n",
    "hddm.model_config[\"test_model\"]: {\n",
    "        \"params\": [\"v\", \"a\", \"z\", \"t\"], # parameter names associated to your model \n",
    "        \"params_trans\": [0, 0, 1, 0], # for each parameter do you want the sampler to transform it into an unconstrained space? (invlogit <--> logistic)\n",
    "        \"params_std_upper\": [1.5, 1.0, None, 1.0], # for group models, what is the maximal standard deviation to consider for the prior on the parameter\n",
    "        \"param_bounds\": [[-3.0, 0.3, 0.1, 1e-3], [3.0, 2.5, 0.9, 2.0]], # the parameter boundaries you used for training your LAN\n",
    "        \"boundary\": hddm.simulators.bf.constant, # add a boundary function (if relevant to your model) (optional)\n",
    "        \"n_params\": 4, # number of parameters of your model\n",
    "        \"default_params\": [0.0, 1.0, 0.5, 1e-3], # defaults for each parameter \n",
    "        \"hddm_include\": [\"z\"], # suggestion for which parameters to include via the include statement of an HDDM model (usually you want all of the parameters from above)\n",
    "        \"n_choices\": 2, # number of choice options of the model\n",
    "        \"choices\": [-1, 1], # choice labels (what your simulator spits out)\n",
    "        \"slice_widths\": {\"v\": 1.5, \"v_std\": 1,  \n",
    "                         \"a\": 1, \"a_std\": 1, \n",
    "                         \"z\": 0.1, \"z_trans\": 0.2, \n",
    "                         \"t\": 0.01, \"t_std\": 0.15}, # hyperparameters for the slice-sampler used for posterior sampling, take these as an orientation, can be helpful to optimize speed (optional)\n",
    "    }\n",
    "```"
   ]
  },
  {
   "cell_type": "markdown",
   "metadata": {},
   "source": [
    "### CONSTRUCT PyMC2 READY LIKELIHOOD"
   ]
  },
  {
   "cell_type": "markdown",
   "metadata": {},
   "source": [
    "Once you have you config dictionary set up, you can now construct a PyMC2 ready likelihood, by using the folowing convenience functions:\n",
    "\n",
    "```python\n",
    "likelihood_string = hddm.utils.make_likelihood_str_mlp(config = hddm.simulators.model_config['test_model'])\n",
    "```\n",
    "\n",
    "The `hddm.utils.make_likelihood_str_mlp()` constructs a string which holds the code to define a PyMC2 ready likelihood function from your `test_model` config dictionary.\n",
    "\n",
    "Now you can call the, `hddm.utils.make_likelihood_fun_from_str()` function, to actually define the likelihood function:\n",
    "\n",
    "```python\n",
    "hddm.utils.make_likelihood_fun_from_str(likelihood_string)\n",
    "```\n",
    "\n",
    "You now have a function called `custom_likelihood` available in your environment."
   ]
  },
  {
   "cell_type": "markdown",
   "metadata": {},
   "source": [
    "### LOAD THE NETWORK"
   ]
  },
  {
   "cell_type": "markdown",
   "metadata": {},
   "source": [
    "To make the example complete, here is a code snippet to load in a `Keras` model.\n",
    "\n",
    "```python\n",
    "my_network = keras.models.load_model('model_final_ddm.h5', compile = False) # or any class with a valid predict on batch function\n",
    "```"
   ]
  },
  {
   "cell_type": "markdown",
   "metadata": {},
   "source": [
    "### INITIALIZE THE HDDM MODEL"
   ]
  },
  {
   "cell_type": "markdown",
   "metadata": {},
   "source": [
    "Now you are ready to load a HDDM model with your `test_model` LAN.\n",
    "\n",
    "```python\n",
    "# Define the HDDM model\n",
    "hddmnn_model = hddm.HDDMnn(data = some_dataset,\n",
    "                           informative = False,\n",
    "                           include = hddm.model_config['test_model']['hddm_include'], # Note: This include statement is an example, you may pick any other subset of the parameters of your model here\n",
    "                           model = 'test_model',\n",
    "                           network = my_network,\n",
    "                           custom_likelihood = custom_likelihood)\n",
    "```\n"
   ]
  },
  {
   "cell_type": "markdown",
   "metadata": {},
   "source": [
    "You are now ready to get samples from your model."
   ]
  },
  {
   "cell_type": "markdown",
   "metadata": {},
   "source": [
    "### WARNING"
   ]
  },
  {
   "cell_type": "markdown",
   "metadata": {},
   "source": [
    "Not all the functionality of the HDDM package will work seamlessly with such custom likelihoods. \n",
    "You will be able to generate some, but not all plots.\n",
    "\n",
    "The utility lies in using HDDM as a vehicle to sample from user defined approximate likelihoods.\n",
    "Most of the packages utility functions have a higher degree of specificity to models that have been fully incorporated into the package.\n",
    "\n",
    "Look at the tutorial in tutorial `add_new_models_to_hddm_tutorial.ipynb` for a higher degree of integration."
   ]
  },
  {
   "cell_type": "markdown",
   "metadata": {},
   "source": [
    "### END"
   ]
  },
  {
   "cell_type": "markdown",
   "metadata": {},
   "source": []
  }
 ],
 "metadata": {
  "interpreter": {
   "hash": "560f708a8e3e7d8a6040d2821b64a1d977dd58637277f7fff51c695b3b27a4a1"
  },
  "kernelspec": {
   "display_name": "Python 3.7.7 64-bit ('hddmnn_tutorial': conda)",
   "name": "python3"
  },
  "language_info": {
   "name": "python",
   "version": ""
  },
  "orig_nbformat": 4
 },
 "nbformat": 4,
 "nbformat_minor": 2
}