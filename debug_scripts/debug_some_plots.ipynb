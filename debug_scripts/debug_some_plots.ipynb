{
 "cells": [
  {
   "cell_type": "code",
   "execution_count": 1,
   "id": "d9588800-88d6-4eb0-af3f-0032ebc52ab4",
   "metadata": {},
   "outputs": [],
   "source": [
    "# MODULE IMPORTS ----\n",
    "\n",
    "# warning settings\n",
    "import warnings\n",
    "warnings.simplefilter(action='ignore', category=FutureWarning)\n",
    "\n",
    "# Data management\n",
    "import pandas as pd\n",
    "import numpy as np\n",
    "import pickle\n",
    "\n",
    "# Plotting\n",
    "import matplotlib.pyplot as plt\n",
    "import matplotlib\n",
    "import seaborn as sns\n",
    "\n",
    "# Stats functionality\n",
    "from statsmodels.distributions.empirical_distribution import ECDF\n",
    "\n",
    "# HDDM\n",
    "import hddm"
   ]
  },
  {
   "cell_type": "code",
   "execution_count": 7,
   "id": "66dec779-30db-4b26-a24e-b7d4748fba02",
   "metadata": {},
   "outputs": [],
   "source": [
    "out = hddm.simulators.simulator_h_c(model = 'ddm',\n",
    "                              theta = [0., 1., 0.5, 0.5],\n",
    "                              n_trials_per_subject = 100,\n",
    "                              n_subjects = 5,\n",
    "                              regression_covariates = None,\n",
    "                              depends_on = {})"
   ]
  },
  {
   "cell_type": "code",
   "execution_count": 8,
   "id": "3f0bc6cb-02da-46df-a6ef-6e05b1138d86",
   "metadata": {},
   "outputs": [],
   "source": [
    "dataset = out[0]\n",
    "dataset['cov1'] = np.random.choice(2, size = 500) # - 0.5\n",
    "dataset['cov2'] = np.random.choice(2, size = 500) # - 0.5\n",
    "dataset['cov3'] = np.random.choice(2, size = 500) # - 0.5"
   ]
  },
  {
   "cell_type": "code",
   "execution_count": 10,
   "id": "50597cd3-4431-4123-a815-7789b10f9a4e",
   "metadata": {},
   "outputs": [],
   "source": [
    "# v_reg = {'model' : \"v ~ 1 + C(Valence) + C(MFCTType)\", 'link_func' : lambda x: x}\n",
    "# t_reg = {'model' : \"t ~ 1 + C(Action)\", 'link_func' : lambda x: x}\n",
    "# a_reg = {'model' : 'a ~ 1 + C(Valence) * C(Action)', 'link_func' : lambda x: x}\n",
    "# reg_descr = [t_reg, a_reg, v_reg]\n",
    "# # m = hddm.HDDMRegressor(data1, reg_descr, p_outlier = .05)\n"
   ]
  },
  {
   "cell_type": "code",
   "execution_count": 12,
   "id": "b0818133-ea28-41da-a8a3-94ad22f9a923",
   "metadata": {},
   "outputs": [],
   "source": [
    "# m_nn = hddm.HDDMnnRegressor(dataset, reg_descr, p_outlier = .05, include = ['z'])"
   ]
  },
  {
   "cell_type": "code",
   "execution_count": 4,
   "id": "812be9a2-440e-44b3-824d-a1c06c3c95a8",
   "metadata": {},
   "outputs": [
    {
     "name": "stdout",
     "output_type": "stream",
     "text": [
      "No model attribute --> setting up standard HDDM\n",
      "Set model to ddm\n"
     ]
    }
   ],
   "source": [
    "v_reg = {'model' : \"v ~ 1 + C(cov1) + C(cov2)\", 'link_func' : lambda x: x}\n",
    "t_reg = {'model' : \"t ~ 1 + C(cov3)\", 'link_func' : lambda x: x}\n",
    "a_reg = {'model' : 'a ~ 1 + C(cov1) * C(cov3)', 'link_func' : lambda x: x}\n",
    "reg_descr = [t_reg, a_reg, v_reg]\n",
    "m = hddm.HDDMRegressor(dataset, reg_descr, p_outlier = .05, include = ['z'])"
   ]
  },
  {
   "cell_type": "code",
   "execution_count": 13,
   "id": "735b16b6-cf0a-4006-8f2b-7ca1079cf599",
   "metadata": {},
   "outputs": [
    {
     "name": "stdout",
     "output_type": "stream",
     "text": [
      "Using default priors: Uninformative\n",
      "Supplied model_config specifies params_std_upper for  z as  None.\n",
      "Changed to 10\n"
     ]
    }
   ],
   "source": [
    "v_reg = {'model' : \"v ~ 1 + C(cov1) + C(cov2)\", 'link_func' : lambda x: x}\n",
    "t_reg = {'model' : \"t ~ 1 + C(cov3)\", 'link_func' : lambda x: x}\n",
    "a_reg = {'model' : 'a ~ 1 + C(cov1) * C(cov3)', 'link_func' : lambda x: x}\n",
    "reg_descr = [t_reg, a_reg, v_reg]\n",
    "\n",
    "m_nn = hddm.HDDMnnRegressor(dataset, reg_descr, p_outlier = .05, include = ['z'])"
   ]
  },
  {
   "cell_type": "code",
   "execution_count": 14,
   "id": "b15914a4-e919-4cfd-a012-cf67dc476aed",
   "metadata": {},
   "outputs": [
    {
     "name": "stdout",
     "output_type": "stream",
     "text": [
      " [-----------------100%-----------------] 501 of 500 complete in 614.6 sec"
     ]
    }
   ],
   "source": [
    "m_nn.sample(500, burn = 200, db = 'pickle', dbname = 'traces_nn.db')\n",
    "m_nn.save('test_nn.pickle')"
   ]
  },
  {
   "cell_type": "code",
   "execution_count": 87,
   "id": "5c7e76a4-322e-4f67-8aba-d2ad7405bbaf",
   "metadata": {},
   "outputs": [
    {
     "name": "stdout",
     "output_type": "stream",
     "text": [
      "No model attribute --> setting up standard HDDM\n",
      "Set model to ddm\n"
     ]
    }
   ],
   "source": [
    "v_reg = {'model' : \"v ~ 1 + C(cov1) + C(cov2)\", 'link_func' : lambda x: x}\n",
    "a_reg = {'model' : 'a ~ 1 + C(cov1) * C(cov3)', 'link_func' : lambda x: x}\n",
    "reg_descr = [a_reg, v_reg]\n",
    "m3 = hddm.HDDMRegressor(dataset, reg_descr, p_outlier = .05, include = ['z'], depends_on = {'t': ['cov3']})"
   ]
  },
  {
   "cell_type": "code",
   "execution_count": 16,
   "id": "ee8f6811-ac7d-478b-8c4a-f4917ff4bcea",
   "metadata": {},
   "outputs": [
    {
     "name": "stdout",
     "output_type": "stream",
     "text": [
      "Using default priors: Uninformative\n",
      "Supplied model_config specifies params_std_upper for  z as  None.\n",
      "Changed to 10\n"
     ]
    }
   ],
   "source": [
    "v_reg = {'model' : \"v ~ 1 + C(cov1) + C(cov2)\", 'link_func' : lambda x: x}\n",
    "a_reg = {'model' : 'a ~ 1 + C(cov1) * C(cov3)', 'link_func' : lambda x: x}\n",
    "reg_descr = [a_reg, v_reg]\n",
    "m3_nn = hddm.HDDMnnRegressor(dataset, reg_descr, p_outlier = .05, include = ['z'], depends_on = {'t': ['cov3']})"
   ]
  },
  {
   "cell_type": "code",
   "execution_count": 17,
   "id": "4f34fb77-4621-4147-ac7b-d48466939590",
   "metadata": {},
   "outputs": [
    {
     "name": "stdout",
     "output_type": "stream",
     "text": [
      " [-----------------100%-----------------] 501 of 500 complete in 934.7 sec"
     ]
    }
   ],
   "source": [
    "m3_nn.sample(500, burn = 200, db = 'pickle', dbname = 'traces3_nn.db')\n",
    "m3_nn.save('test3_nn.pickle')"
   ]
  },
  {
   "cell_type": "code",
   "execution_count": 101,
   "id": "398e8b21-c731-4587-b14f-2499cdb0ed1c",
   "metadata": {},
   "outputs": [
    {
     "name": "stdout",
     "output_type": "stream",
     "text": [
      "No model attribute --> setting up standard HDDM\n",
      "Set model to ddm\n"
     ]
    }
   ],
   "source": [
    "v_reg = {'model' : \"v ~ 1 + C(cov1) + C(cov2)\", 'link_func' : lambda x: x}\n",
    "a_reg = {'model' : 'a ~ 1 + C(cov1)', 'link_func' : lambda x: x}\n",
    "reg_descr = [a_reg, v_reg]\n",
    "m4 = hddm.HDDMRegressor(dataset, reg_descr, p_outlier = .05, include = ['z'], depends_on = {'t': ['cov3']})"
   ]
  },
  {
   "cell_type": "code",
   "execution_count": 102,
   "id": "1299d794-0597-4fd5-b0af-8212a0354441",
   "metadata": {},
   "outputs": [
    {
     "name": "stdout",
     "output_type": "stream",
     "text": [
      " [-----------------100%-----------------] 501 of 500 complete in 541.6 sec"
     ]
    },
    {
     "data": {
      "text/plain": [
       "<pymc.MCMC.MCMC at 0x14624f0d0>"
      ]
     },
     "execution_count": 102,
     "metadata": {},
     "output_type": "execute_result"
    }
   ],
   "source": [
    "m4.sample(500, burn = 200, db = 'pickle', dbname = 'traces4.db')"
   ]
  },
  {
   "cell_type": "code",
   "execution_count": 104,
   "id": "0a06e9d9-f70b-4019-8655-345d07d59a3f",
   "metadata": {},
   "outputs": [],
   "source": [
    "m4.save('test4.pickle')"
   ]
  },
  {
   "cell_type": "code",
   "execution_count": 10,
   "id": "22dfc081-e957-42db-8889-7dc2627f9501",
   "metadata": {},
   "outputs": [
    {
     "name": "stdout",
     "output_type": "stream",
     "text": [
      "No model attribute --> setting up standard HDDM\n",
      "Set model to ddm\n"
     ]
    }
   ],
   "source": [
    "m2 = hddm.HDDM(dataset, p_outlier = .05, include = ['z'], depends_on = {'v': ['cov1']})"
   ]
  },
  {
   "cell_type": "code",
   "execution_count": 11,
   "id": "fc6ade1f-bff2-403d-b97f-b40b18217f86",
   "metadata": {},
   "outputs": [
    {
     "name": "stdout",
     "output_type": "stream",
     "text": [
      " [-----------------100%-----------------] 500 of 500 complete in 55.5 sec"
     ]
    },
    {
     "data": {
      "text/plain": [
       "<pymc.MCMC.MCMC at 0x142bc9610>"
      ]
     },
     "execution_count": 11,
     "metadata": {},
     "output_type": "execute_result"
    }
   ],
   "source": [
    "m2.sample(500, burn = 200, db = 'pickle', dbname = 'traces2.db')"
   ]
  },
  {
   "cell_type": "code",
   "execution_count": 5,
   "id": "48c68751-af84-4edf-91d5-8e95e68bfe75",
   "metadata": {},
   "outputs": [
    {
     "name": "stdout",
     "output_type": "stream",
     "text": [
      " [-----------------100%-----------------] 501 of 500 complete in 488.9 sec"
     ]
    },
    {
     "data": {
      "text/plain": [
       "<pymc.MCMC.MCMC at 0x14c215410>"
      ]
     },
     "execution_count": 5,
     "metadata": {},
     "output_type": "execute_result"
    }
   ],
   "source": [
    "m.sample(500, burn = 200, db = 'pickle', dbname = 'traces.db')"
   ]
  },
  {
   "cell_type": "code",
   "execution_count": 88,
   "id": "2ed6d3c5-1976-4c43-a06c-292aaf0b816f",
   "metadata": {},
   "outputs": [
    {
     "name": "stdout",
     "output_type": "stream",
     "text": [
      " [-----------------100%-----------------] 501 of 500 complete in 563.1 sec"
     ]
    },
    {
     "data": {
      "text/plain": [
       "<pymc.MCMC.MCMC at 0x1465d8350>"
      ]
     },
     "execution_count": 88,
     "metadata": {},
     "output_type": "execute_result"
    }
   ],
   "source": [
    "m3.sample(500, burn = 200, db = 'pickle', dbname = 'traces3.db')"
   ]
  },
  {
   "cell_type": "code",
   "execution_count": 105,
   "id": "7d61caca-df50-4c10-9ad5-a7abb4b0e9ad",
   "metadata": {},
   "outputs": [
    {
     "name": "stdout",
     "output_type": "stream",
     "text": [
      "tracename: \n",
      "v_Intercept\n",
      "tracename: \n",
      "v_Intercept_subj.0\n",
      "tracename: \n",
      "v_Intercept_subj.1\n",
      "tracename: \n",
      "v_Intercept_subj.2\n",
      "tracename: \n",
      "v_Intercept_subj.3\n",
      "tracename: \n",
      "v_Intercept_subj.4\n",
      "tracename: \n",
      "v_C(cov1)[T.1]\n",
      "tracename: \n",
      "v_C(cov2)[T.1]\n",
      "tracename: \n",
      "a_Intercept\n",
      "tracename: \n",
      "a_Intercept_subj.0\n",
      "tracename: \n",
      "a_Intercept_subj.1\n",
      "tracename: \n",
      "a_Intercept_subj.2\n",
      "tracename: \n",
      "a_Intercept_subj.3\n",
      "tracename: \n",
      "a_Intercept_subj.4\n",
      "tracename: \n",
      "a_C(cov1)[T.1]\n",
      "tracename: \n",
      "z\n",
      "tracename: \n",
      "z_subj.0\n",
      "tracename: \n",
      "z_subj.1\n",
      "tracename: \n",
      "z_subj.2\n",
      "tracename: \n",
      "z_subj.3\n",
      "tracename: \n",
      "z_subj.4\n",
      "tracename: \n",
      "t(0)\n",
      "tracename: \n",
      "t(1)\n",
      "tracename: \n",
      "t_subj(0).0\n",
      "tracename: \n",
      "t_subj(0).1\n",
      "tracename: \n",
      "t_subj(0).2\n",
      "tracename: \n",
      "t_subj(0).3\n",
      "tracename: \n",
      "t_subj(0).4\n",
      "tracename: \n",
      "t_subj(1).0\n",
      "tracename: \n",
      "t_subj(1).1\n",
      "tracename: \n",
      "t_subj(1).2\n",
      "tracename: \n",
      "t_subj(1).3\n",
      "tracename: \n",
      "t_subj(1).4\n"
     ]
    },
    {
     "data": {
      "image/png": "[encoded data removed]",
      "text/plain": [
       "<Figure size 1000x1000 with 4 Axes>"
      ]
     },
     "metadata": {},
     "output_type": "display_data"
    }
   ],
   "source": [
    "hddm.plotting.plot_caterpillar(m4)"
   ]
  },
  {
   "cell_type": "code",
   "execution_count": 2,
   "id": "7be3eae3-ce03-4c7c-a317-5953e3ef0689",
   "metadata": {},
   "outputs": [],
   "source": [
    "m4 = hddm.load('test4.pickle')"
   ]
  },
  {
   "cell_type": "code",
   "execution_count": 3,
   "id": "dbda595f-4ab8-46c1-8992-596aa0a0526e",
   "metadata": {},
   "outputs": [
    {
     "data": {
      "text/plain": [
       "'Note: The posterior pair plot does not support regression models at this point! Aborting...'"
      ]
     },
     "execution_count": 3,
     "metadata": {},
     "output_type": "execute_result"
    }
   ],
   "source": [
    "hddm.plotting.plot_posterior_pair(m4)"
   ]
  },
  {
   "cell_type": "code",
   "execution_count": 3,
   "id": "a7ee2240-481c-490f-851f-4f2514e08e68",
   "metadata": {},
   "outputs": [
    {
     "name": "stdout",
     "output_type": "stream",
     "text": [
      " [------------------110%-------------------] 11 of 10 complete in 37.0 sec"
     ]
    },
    {
     "data": {
      "text/html": [
       "<div>\n",
       "<style scoped>\n",
       "    .dataframe tbody tr th:only-of-type {\n",
       "        vertical-align: middle;\n",
       "    }\n",
       "\n",
       "    .dataframe tbody tr th {\n",
       "        vertical-align: top;\n",
       "    }\n",
       "\n",
       "    .dataframe thead th {\n",
       "        text-align: right;\n",
       "    }\n",
       "</style>\n",
       "<table border=\"1\" class=\"dataframe\">\n",
       "  <thead>\n",
       "    <tr style=\"text-align: right;\">\n",
       "      <th></th>\n",
       "      <th></th>\n",
       "      <th></th>\n",
       "      <th>rt</th>\n",
       "      <th>response</th>\n",
       "    </tr>\n",
       "    <tr>\n",
       "      <th>node</th>\n",
       "      <th>sample</th>\n",
       "      <th></th>\n",
       "      <th></th>\n",
       "      <th></th>\n",
       "    </tr>\n",
       "  </thead>\n",
       "  <tbody>\n",
       "    <tr>\n",
       "      <th rowspan=\"5\" valign=\"top\">wfpt(0).0</th>\n",
       "      <th rowspan=\"5\" valign=\"top\">0</th>\n",
       "      <th>0</th>\n",
       "      <td>1.878300</td>\n",
       "      <td>1</td>\n",
       "    </tr>\n",
       "    <tr>\n",
       "      <th>1</th>\n",
       "      <td>2.916337</td>\n",
       "      <td>1</td>\n",
       "    </tr>\n",
       "    <tr>\n",
       "      <th>2</th>\n",
       "      <td>2.529319</td>\n",
       "      <td>1</td>\n",
       "    </tr>\n",
       "    <tr>\n",
       "      <th>3</th>\n",
       "      <td>1.720302</td>\n",
       "      <td>1</td>\n",
       "    </tr>\n",
       "    <tr>\n",
       "      <th>4</th>\n",
       "      <td>2.335310</td>\n",
       "      <td>1</td>\n",
       "    </tr>\n",
       "    <tr>\n",
       "      <th>...</th>\n",
       "      <th>...</th>\n",
       "      <th>...</th>\n",
       "      <td>...</td>\n",
       "      <td>...</td>\n",
       "    </tr>\n",
       "    <tr>\n",
       "      <th rowspan=\"5\" valign=\"top\">wfpt(1).4</th>\n",
       "      <th rowspan=\"5\" valign=\"top\">499</th>\n",
       "      <th>42</th>\n",
       "      <td>3.139461</td>\n",
       "      <td>1</td>\n",
       "    </tr>\n",
       "    <tr>\n",
       "      <th>43</th>\n",
       "      <td>1.742431</td>\n",
       "      <td>1</td>\n",
       "    </tr>\n",
       "    <tr>\n",
       "      <th>44</th>\n",
       "      <td>1.858429</td>\n",
       "      <td>1</td>\n",
       "    </tr>\n",
       "    <tr>\n",
       "      <th>45</th>\n",
       "      <td>1.710431</td>\n",
       "      <td>1</td>\n",
       "    </tr>\n",
       "    <tr>\n",
       "      <th>46</th>\n",
       "      <td>3.790413</td>\n",
       "      <td>1</td>\n",
       "    </tr>\n",
       "  </tbody>\n",
       "</table>\n",
       "<p>250000 rows × 2 columns</p>\n",
       "</div>"
      ],
      "text/plain": [
       "                           rt  response\n",
       "node      sample                       \n",
       "wfpt(0).0 0      0   1.878300         1\n",
       "                 1   2.916337         1\n",
       "                 2   2.529319         1\n",
       "                 3   1.720302         1\n",
       "                 4   2.335310         1\n",
       "...                       ...       ...\n",
       "wfpt(1).4 499    42  3.139461         1\n",
       "                 43  1.742431         1\n",
       "                 44  1.858429         1\n",
       "                 45  1.710431         1\n",
       "                 46  3.790413         1\n",
       "\n",
       "[250000 rows x 2 columns]"
      ]
     },
     "execution_count": 3,
     "metadata": {},
     "output_type": "execute_result"
    }
   ],
   "source": [
    "hddm.utils.post_pred_gen(m4)"
   ]
  },
  {
   "cell_type": "code",
   "execution_count": null,
   "id": "e9994297-c710-41e3-9c0c-959ebacf322a",
   "metadata": {},
   "outputs": [],
   "source": []
  },
  {
   "cell_type": "code",
   "execution_count": 4,
   "id": "8a2a9fd1-165a-4a7c-b33e-07359a7f51c1",
   "metadata": {},
   "outputs": [
    {
     "name": "stdout",
     "output_type": "stream",
     "text": [
      " [------------------110%-------------------] 11 of 10 complete in 36.2 sec"
     ]
    },
    {
     "data": {
      "text/html": [
       "<div>\n",
       "<style scoped>\n",
       "    .dataframe tbody tr th:only-of-type {\n",
       "        vertical-align: middle;\n",
       "    }\n",
       "\n",
       "    .dataframe tbody tr th {\n",
       "        vertical-align: top;\n",
       "    }\n",
       "\n",
       "    .dataframe thead th {\n",
       "        text-align: right;\n",
       "    }\n",
       "</style>\n",
       "<table border=\"1\" class=\"dataframe\">\n",
       "  <thead>\n",
       "    <tr style=\"text-align: right;\">\n",
       "      <th></th>\n",
       "      <th></th>\n",
       "      <th></th>\n",
       "      <th>rt</th>\n",
       "      <th>response</th>\n",
       "    </tr>\n",
       "    <tr>\n",
       "      <th>node</th>\n",
       "      <th>sample</th>\n",
       "      <th></th>\n",
       "      <th></th>\n",
       "      <th></th>\n",
       "    </tr>\n",
       "  </thead>\n",
       "  <tbody>\n",
       "    <tr>\n",
       "      <th rowspan=\"5\" valign=\"top\">wfpt(0).0</th>\n",
       "      <th rowspan=\"5\" valign=\"top\">0</th>\n",
       "      <th>0</th>\n",
       "      <td>2.143439</td>\n",
       "      <td>1</td>\n",
       "    </tr>\n",
       "    <tr>\n",
       "      <th>1</th>\n",
       "      <td>2.639462</td>\n",
       "      <td>1</td>\n",
       "    </tr>\n",
       "    <tr>\n",
       "      <th>2</th>\n",
       "      <td>1.786440</td>\n",
       "      <td>1</td>\n",
       "    </tr>\n",
       "    <tr>\n",
       "      <th>3</th>\n",
       "      <td>1.711441</td>\n",
       "      <td>1</td>\n",
       "    </tr>\n",
       "    <tr>\n",
       "      <th>4</th>\n",
       "      <td>3.682439</td>\n",
       "      <td>1</td>\n",
       "    </tr>\n",
       "    <tr>\n",
       "      <th>...</th>\n",
       "      <th>...</th>\n",
       "      <th>...</th>\n",
       "      <td>...</td>\n",
       "      <td>...</td>\n",
       "    </tr>\n",
       "    <tr>\n",
       "      <th rowspan=\"5\" valign=\"top\">wfpt(1).4</th>\n",
       "      <th rowspan=\"5\" valign=\"top\">499</th>\n",
       "      <th>42</th>\n",
       "      <td>2.367393</td>\n",
       "      <td>1</td>\n",
       "    </tr>\n",
       "    <tr>\n",
       "      <th>43</th>\n",
       "      <td>1.886371</td>\n",
       "      <td>1</td>\n",
       "    </tr>\n",
       "    <tr>\n",
       "      <th>44</th>\n",
       "      <td>2.331392</td>\n",
       "      <td>1</td>\n",
       "    </tr>\n",
       "    <tr>\n",
       "      <th>45</th>\n",
       "      <td>1.423359</td>\n",
       "      <td>1</td>\n",
       "    </tr>\n",
       "    <tr>\n",
       "      <th>46</th>\n",
       "      <td>3.328350</td>\n",
       "      <td>1</td>\n",
       "    </tr>\n",
       "  </tbody>\n",
       "</table>\n",
       "<p>250000 rows × 2 columns</p>\n",
       "</div>"
      ],
      "text/plain": [
       "                           rt  response\n",
       "node      sample                       \n",
       "wfpt(0).0 0      0   2.143439         1\n",
       "                 1   2.639462         1\n",
       "                 2   1.786440         1\n",
       "                 3   1.711441         1\n",
       "                 4   3.682439         1\n",
       "...                       ...       ...\n",
       "wfpt(1).4 499    42  2.367393         1\n",
       "                 43  1.886371         1\n",
       "                 44  2.331392         1\n",
       "                 45  1.423359         1\n",
       "                 46  3.328350         1\n",
       "\n",
       "[250000 rows x 2 columns]"
      ]
     },
     "execution_count": 4,
     "metadata": {},
     "output_type": "execute_result"
    }
   ],
   "source": [
    "m3 = hddm.load('test3.pickle')\n",
    "hddm.utils.post_pred_gen(m3)"
   ]
  },
  {
   "cell_type": "code",
   "execution_count": 15,
   "id": "efb1cf9e-8570-4524-b4af-882812f7dcc5",
   "metadata": {},
   "outputs": [
    {
     "name": "stdout",
     "output_type": "stream",
     "text": [
      " [--------------------120%---------------------] 6 of 5 complete in 15.4 sec"
     ]
    },
    {
     "data": {
      "text/html": [
       "<div>\n",
       "<style scoped>\n",
       "    .dataframe tbody tr th:only-of-type {\n",
       "        vertical-align: middle;\n",
       "    }\n",
       "\n",
       "    .dataframe tbody tr th {\n",
       "        vertical-align: top;\n",
       "    }\n",
       "\n",
       "    .dataframe thead th {\n",
       "        text-align: right;\n",
       "    }\n",
       "</style>\n",
       "<table border=\"1\" class=\"dataframe\">\n",
       "  <thead>\n",
       "    <tr style=\"text-align: right;\">\n",
       "      <th></th>\n",
       "      <th></th>\n",
       "      <th></th>\n",
       "      <th>rt</th>\n",
       "      <th>response</th>\n",
       "    </tr>\n",
       "    <tr>\n",
       "      <th>node</th>\n",
       "      <th>sample</th>\n",
       "      <th></th>\n",
       "      <th></th>\n",
       "      <th></th>\n",
       "    </tr>\n",
       "  </thead>\n",
       "  <tbody>\n",
       "    <tr>\n",
       "      <th rowspan=\"5\" valign=\"top\">wfpt.0</th>\n",
       "      <th rowspan=\"5\" valign=\"top\">0</th>\n",
       "      <th>0</th>\n",
       "      <td>1.820265</td>\n",
       "      <td>1</td>\n",
       "    </tr>\n",
       "    <tr>\n",
       "      <th>1</th>\n",
       "      <td>2.252271</td>\n",
       "      <td>1</td>\n",
       "    </tr>\n",
       "    <tr>\n",
       "      <th>2</th>\n",
       "      <td>1.461835</td>\n",
       "      <td>1</td>\n",
       "    </tr>\n",
       "    <tr>\n",
       "      <th>3</th>\n",
       "      <td>2.105826</td>\n",
       "      <td>1</td>\n",
       "    </tr>\n",
       "    <tr>\n",
       "      <th>4</th>\n",
       "      <td>1.649832</td>\n",
       "      <td>1</td>\n",
       "    </tr>\n",
       "    <tr>\n",
       "      <th>...</th>\n",
       "      <th>...</th>\n",
       "      <th>...</th>\n",
       "      <td>...</td>\n",
       "      <td>...</td>\n",
       "    </tr>\n",
       "    <tr>\n",
       "      <th rowspan=\"5\" valign=\"top\">wfpt.4</th>\n",
       "      <th rowspan=\"5\" valign=\"top\">499</th>\n",
       "      <th>95</th>\n",
       "      <td>1.207451</td>\n",
       "      <td>1</td>\n",
       "    </tr>\n",
       "    <tr>\n",
       "      <th>96</th>\n",
       "      <td>2.233460</td>\n",
       "      <td>1</td>\n",
       "    </tr>\n",
       "    <tr>\n",
       "      <th>97</th>\n",
       "      <td>1.154452</td>\n",
       "      <td>1</td>\n",
       "    </tr>\n",
       "    <tr>\n",
       "      <th>98</th>\n",
       "      <td>1.771351</td>\n",
       "      <td>1</td>\n",
       "    </tr>\n",
       "    <tr>\n",
       "      <th>99</th>\n",
       "      <td>2.176458</td>\n",
       "      <td>1</td>\n",
       "    </tr>\n",
       "  </tbody>\n",
       "</table>\n",
       "<p>250000 rows × 2 columns</p>\n",
       "</div>"
      ],
      "text/plain": [
       "                        rt  response\n",
       "node   sample                       \n",
       "wfpt.0 0      0   1.820265         1\n",
       "              1   2.252271         1\n",
       "              2   1.461835         1\n",
       "              3   2.105826         1\n",
       "              4   1.649832         1\n",
       "...                    ...       ...\n",
       "wfpt.4 499    95  1.207451         1\n",
       "              96  2.233460         1\n",
       "              97  1.154452         1\n",
       "              98  1.771351         1\n",
       "              99  2.176458         1\n",
       "\n",
       "[250000 rows x 2 columns]"
      ]
     },
     "execution_count": 15,
     "metadata": {},
     "output_type": "execute_result"
    }
   ],
   "source": [
    "hddm.utils.post_pred_gen(m_nn)"
   ]
  },
  {
   "cell_type": "code",
   "execution_count": 2,
   "id": "06750afd-cac7-443d-93e7-cd39041aa928",
   "metadata": {},
   "outputs": [
    {
     "name": "stdout",
     "output_type": "stream",
     "text": [
      "Supplied model_config specifies params_std_upper for  z as  None.\n",
      "Changed to 10\n",
      " [------------------110%-------------------] 11 of 10 complete in 24.5 sec"
     ]
    },
    {
     "data": {
      "text/html": [
       "<div>\n",
       "<style scoped>\n",
       "    .dataframe tbody tr th:only-of-type {\n",
       "        vertical-align: middle;\n",
       "    }\n",
       "\n",
       "    .dataframe tbody tr th {\n",
       "        vertical-align: top;\n",
       "    }\n",
       "\n",
       "    .dataframe thead th {\n",
       "        text-align: right;\n",
       "    }\n",
       "</style>\n",
       "<table border=\"1\" class=\"dataframe\">\n",
       "  <thead>\n",
       "    <tr style=\"text-align: right;\">\n",
       "      <th></th>\n",
       "      <th></th>\n",
       "      <th></th>\n",
       "      <th>rt</th>\n",
       "      <th>response</th>\n",
       "    </tr>\n",
       "    <tr>\n",
       "      <th>node</th>\n",
       "      <th>sample</th>\n",
       "      <th></th>\n",
       "      <th></th>\n",
       "      <th></th>\n",
       "    </tr>\n",
       "  </thead>\n",
       "  <tbody>\n",
       "    <tr>\n",
       "      <th rowspan=\"5\" valign=\"top\">wfpt(0).0</th>\n",
       "      <th rowspan=\"5\" valign=\"top\">0</th>\n",
       "      <th>0</th>\n",
       "      <td>1.452724</td>\n",
       "      <td>1</td>\n",
       "    </tr>\n",
       "    <tr>\n",
       "      <th>1</th>\n",
       "      <td>1.599722</td>\n",
       "      <td>1</td>\n",
       "    </tr>\n",
       "    <tr>\n",
       "      <th>2</th>\n",
       "      <td>1.946718</td>\n",
       "      <td>1</td>\n",
       "    </tr>\n",
       "    <tr>\n",
       "      <th>3</th>\n",
       "      <td>2.802748</td>\n",
       "      <td>1</td>\n",
       "    </tr>\n",
       "    <tr>\n",
       "      <th>4</th>\n",
       "      <td>1.918718</td>\n",
       "      <td>1</td>\n",
       "    </tr>\n",
       "    <tr>\n",
       "      <th>...</th>\n",
       "      <th>...</th>\n",
       "      <th>...</th>\n",
       "      <td>...</td>\n",
       "      <td>...</td>\n",
       "    </tr>\n",
       "    <tr>\n",
       "      <th rowspan=\"5\" valign=\"top\">wfpt(1).4</th>\n",
       "      <th rowspan=\"5\" valign=\"top\">499</th>\n",
       "      <th>49</th>\n",
       "      <td>1.214400</td>\n",
       "      <td>-1</td>\n",
       "    </tr>\n",
       "    <tr>\n",
       "      <th>50</th>\n",
       "      <td>1.690394</td>\n",
       "      <td>1</td>\n",
       "    </tr>\n",
       "    <tr>\n",
       "      <th>51</th>\n",
       "      <td>1.282399</td>\n",
       "      <td>1</td>\n",
       "    </tr>\n",
       "    <tr>\n",
       "      <th>52</th>\n",
       "      <td>1.187400</td>\n",
       "      <td>1</td>\n",
       "    </tr>\n",
       "    <tr>\n",
       "      <th>53</th>\n",
       "      <td>1.341398</td>\n",
       "      <td>1</td>\n",
       "    </tr>\n",
       "  </tbody>\n",
       "</table>\n",
       "<p>250000 rows × 2 columns</p>\n",
       "</div>"
      ],
      "text/plain": [
       "                           rt  response\n",
       "node      sample                       \n",
       "wfpt(0).0 0      0   1.452724         1\n",
       "                 1   1.599722         1\n",
       "                 2   1.946718         1\n",
       "                 3   2.802748         1\n",
       "                 4   1.918718         1\n",
       "...                       ...       ...\n",
       "wfpt(1).4 499    49  1.214400        -1\n",
       "                 50  1.690394         1\n",
       "                 51  1.282399         1\n",
       "                 52  1.187400         1\n",
       "                 53  1.341398         1\n",
       "\n",
       "[250000 rows x 2 columns]"
      ]
     },
     "execution_count": 2,
     "metadata": {},
     "output_type": "execute_result"
    }
   ],
   "source": [
    "m3_nn = hddm.load('test3_nn.pickle')\n",
    "hddm.utils.post_pred_gen(m3_nn)"
   ]
  },
  {
   "cell_type": "code",
   "execution_count": 5,
   "id": "14352fd1-1435-48df-b268-156b38ff0b8b",
   "metadata": {},
   "outputs": [
    {
     "data": {
      "text/plain": [
       "['__class__',\n",
       " '__delattr__',\n",
       " '__dict__',\n",
       " '__dir__',\n",
       " '__doc__',\n",
       " '__eq__',\n",
       " '__format__',\n",
       " '__ge__',\n",
       " '__getattribute__',\n",
       " '__getitem__',\n",
       " '__getstate__',\n",
       " '__gt__',\n",
       " '__hash__',\n",
       " '__init__',\n",
       " '__init_subclass__',\n",
       " '__le__',\n",
       " '__lt__',\n",
       " '__module__',\n",
       " '__ne__',\n",
       " '__new__',\n",
       " '__reduce__',\n",
       " '__reduce_ex__',\n",
       " '__repr__',\n",
       " '__setattr__',\n",
       " '__setstate__',\n",
       " '__sizeof__',\n",
       " '__str__',\n",
       " '__subclasshook__',\n",
       " '__weakref__',\n",
       " '_add_indirect_betas',\n",
       " '_add_indirect_regressors',\n",
       " '_approximate_map_subj',\n",
       " '_create_an_average_model',\n",
       " '_create_family_exp',\n",
       " '_create_family_gamma_gamma_hnormal',\n",
       " '_create_family_invlogit',\n",
       " '_create_family_normal',\n",
       " '_create_family_normal_non_centered',\n",
       " '_create_family_normal_normal_hnormal',\n",
       " '_create_family_trunc_normal',\n",
       " '_create_family_trunc_normal_trunc_normal',\n",
       " '_create_family_trunc_normal_trunc_normal_hnormal',\n",
       " '_create_stochastic_knodes',\n",
       " '_create_stochastic_knodes_info',\n",
       " '_create_stochastic_knodes_nn_info',\n",
       " '_create_stochastic_knodes_nn_noninfo',\n",
       " '_create_stochastic_knodes_nn_rl_noninfo',\n",
       " '_create_stochastic_knodes_noninfo',\n",
       " '_create_wfpt_knode',\n",
       " '_create_wfpt_parents_dict',\n",
       " '_kwargs',\n",
       " '_num_subjs',\n",
       " '_optimization_single',\n",
       " '_output_stats',\n",
       " '_partial_optimize',\n",
       " '_prepare_model_descriptors',\n",
       " '_quantiles_optimization',\n",
       " '_run_optimization',\n",
       " '_setup_model',\n",
       " '_stats',\n",
       " '_stats_chain',\n",
       " '_subjs',\n",
       " 'aic',\n",
       " 'append_stats_to_nodes_db',\n",
       " 'approximate_map',\n",
       " 'bic',\n",
       " 'cdf_range',\n",
       " 'create_knodes',\n",
       " 'create_model',\n",
       " 'create_nodes_db',\n",
       " 'data',\n",
       " 'db',\n",
       " 'dbname',\n",
       " 'default_intervars',\n",
       " 'depends',\n",
       " 'depends_on',\n",
       " 'dic',\n",
       " 'dic_info',\n",
       " 'draw_from_prior',\n",
       " 'find_starting_values',\n",
       " 'gen_stats',\n",
       " 'get_average_model',\n",
       " 'get_data_nodes',\n",
       " 'get_group_nodes',\n",
       " 'get_group_traces',\n",
       " 'get_non_observeds',\n",
       " 'get_observeds',\n",
       " 'get_stochastics',\n",
       " 'get_subj_nodes',\n",
       " 'get_traces',\n",
       " 'group_only_nodes',\n",
       " 'include',\n",
       " 'is_group_model',\n",
       " 'is_informative',\n",
       " 'iter_group_nodes',\n",
       " 'iter_non_observeds',\n",
       " 'iter_observeds',\n",
       " 'iter_stochastics',\n",
       " 'iter_subj_nodes',\n",
       " 'keep_regressor_trace',\n",
       " 'knodes',\n",
       " 'load_db',\n",
       " 'logp',\n",
       " 'map',\n",
       " 'mc',\n",
       " 'mcmc',\n",
       " 'model',\n",
       " 'model_config',\n",
       " 'model_descrs',\n",
       " 'network',\n",
       " 'nn',\n",
       " 'nodes_db',\n",
       " 'non_centered',\n",
       " 'num_subjs',\n",
       " 'optimize',\n",
       " 'p_outlier',\n",
       " 'plot_posterior_predictive',\n",
       " 'plot_posterior_quantiles',\n",
       " 'plot_posteriors',\n",
       " 'plot_posteriors_conditions',\n",
       " 'plot_subjs',\n",
       " 'pre_sample',\n",
       " 'print_stats',\n",
       " 'reg_outcomes',\n",
       " 'rlssm_model',\n",
       " 'sample',\n",
       " 'sample_emcee',\n",
       " 'sampled',\n",
       " 'save',\n",
       " 'set_values',\n",
       " 'slice_widths',\n",
       " 'std_depends',\n",
       " 'values',\n",
       " 'w_outlier',\n",
       " 'wfpt_class',\n",
       " 'wfpt_nn_reg_class',\n",
       " 'wfpt_reg_class',\n",
       " 'wiener_params']"
      ]
     },
     "execution_count": 5,
     "metadata": {},
     "output_type": "execute_result"
    }
   ],
   "source": [
    "dir(m3_nn)"
   ]
  },
  {
   "cell_type": "code",
   "execution_count": 7,
   "id": "672226d4-b297-4709-9515-a4086e61c8d5",
   "metadata": {},
   "outputs": [
    {
     "data": {
      "text/plain": [
       "True"
      ]
     },
     "execution_count": 7,
     "metadata": {},
     "output_type": "execute_result"
    }
   ],
   "source": [
    "hasattr(m3_nn, 'reg_outcomes')"
   ]
  },
  {
   "cell_type": "code",
   "execution_count": null,
   "id": "8907c5ca-3e61-4fa3-bc76-7fafbc730fbf",
   "metadata": {},
   "outputs": [],
   "source": [
    "ppc_data = hddm.utils.post_pred_gen(m)"
   ]
  },
  {
   "cell_type": "code",
   "execution_count": 96,
   "id": "d54740ff-14df-4560-82f5-ff7091cb5ead",
   "metadata": {},
   "outputs": [
    {
     "name": "stdout",
     "output_type": "stream",
     "text": [
      "Help on function post_pred_gen in module kabuki.analyze:\n",
      "\n",
      "post_pred_gen(model, groupby=None, samples=500, append_data=False, add_model_parameters=False, progress_bar=True)\n",
      "    Run posterior predictive check on a model.\n",
      "    \n",
      "    :Arguments:\n",
      "        model : kabuki.Hierarchical\n",
      "            Kabuki model over which to compute the ppc on.\n",
      "    \n",
      "    :Optional:\n",
      "        samples : int\n",
      "            How many samples to generate for each node.\n",
      "        groupby : list\n",
      "            Alternative grouping of the data. If not supplied, uses splitting\n",
      "            of the model (as provided by depends_on).\n",
      "        append_data : bool (default=False)\n",
      "            Whether to append the observed data of each node to the replicatons.\n",
      "        progress_bar : bool (default=True)\n",
      "            Display progress bar\n",
      "    \n",
      "    :Returns:\n",
      "        Hierarchical pandas.DataFrame with multiple sampled RT data sets.\n",
      "        1st level: wfpt node\n",
      "        2nd level: posterior predictive sample\n",
      "        3rd level: original data index\n",
      "    \n",
      "    :See also:\n",
      "        post_pred_stats\n",
      "\n"
     ]
    }
   ],
   "source": [
    "help(hddm.utils.post_pred_gen)"
   ]
  },
  {
   "cell_type": "code",
   "execution_count": 107,
   "id": "bc726a3e-b301-4430-823c-d2311d6c09b9",
   "metadata": {},
   "outputs": [
    {
     "ename": "ValueError",
     "evalue": "could not broadcast input array from shape (100) into shape (42)",
     "output_type": "error",
     "traceback": [
      "\u001b[0;31m---------------------------------------------------------------------------\u001b[0m",
      "\u001b[0;31mValueError\u001b[0m                                Traceback (most recent call last)",
      "\u001b[0;32m<ipython-input-107-dadbeeac0b55>\u001b[0m in \u001b[0;36m<module>\u001b[0;34m\u001b[0m\n\u001b[0;32m----> 1\u001b[0;31m \u001b[0mppc_data\u001b[0m \u001b[0;34m=\u001b[0m \u001b[0mhddm\u001b[0m\u001b[0;34m.\u001b[0m\u001b[0mutils\u001b[0m\u001b[0;34m.\u001b[0m\u001b[0mpost_pred_gen\u001b[0m\u001b[0;34m(\u001b[0m\u001b[0mm4\u001b[0m\u001b[0;34m)\u001b[0m\u001b[0;34m\u001b[0m\u001b[0;34m\u001b[0m\u001b[0m\n\u001b[0m",
      "\u001b[0;32m~/OneDrive/project_hddm_extension/kabuki/kabuki/analyze.py\u001b[0m in \u001b[0;36mpost_pred_gen\u001b[0;34m(model, groupby, samples, append_data, add_model_parameters, progress_bar)\u001b[0m\n\u001b[1;32m    346\u001b[0m \u001b[0;34m\u001b[0m\u001b[0m\n\u001b[1;32m    347\u001b[0m         \u001b[0;31m# Sample and generate stats\u001b[0m\u001b[0;34m\u001b[0m\u001b[0;34m\u001b[0m\u001b[0;34m\u001b[0m\u001b[0m\n\u001b[0;32m--> 348\u001b[0;31m         \u001b[0mdatasets\u001b[0m \u001b[0;34m=\u001b[0m \u001b[0m_post_pred_generate\u001b[0m\u001b[0;34m(\u001b[0m\u001b[0mnode\u001b[0m\u001b[0;34m,\u001b[0m \u001b[0msamples\u001b[0m\u001b[0;34m=\u001b[0m\u001b[0msamples\u001b[0m\u001b[0;34m,\u001b[0m \u001b[0mdata\u001b[0m\u001b[0;34m=\u001b[0m\u001b[0mdata\u001b[0m\u001b[0;34m,\u001b[0m \u001b[0mappend_data\u001b[0m\u001b[0;34m=\u001b[0m\u001b[0mappend_data\u001b[0m\u001b[0;34m,\u001b[0m \u001b[0madd_model_parameters\u001b[0m \u001b[0;34m=\u001b[0m \u001b[0madd_model_parameters\u001b[0m\u001b[0;34m)\u001b[0m\u001b[0;34m\u001b[0m\u001b[0;34m\u001b[0m\u001b[0m\n\u001b[0m\u001b[1;32m    349\u001b[0m         \u001b[0mresults\u001b[0m\u001b[0;34m[\u001b[0m\u001b[0mnew_name\u001b[0m\u001b[0;34m]\u001b[0m \u001b[0;34m=\u001b[0m \u001b[0mpd\u001b[0m\u001b[0;34m.\u001b[0m\u001b[0mconcat\u001b[0m\u001b[0;34m(\u001b[0m\u001b[0mdatasets\u001b[0m\u001b[0;34m,\u001b[0m \u001b[0mnames\u001b[0m\u001b[0;34m=\u001b[0m\u001b[0;34m[\u001b[0m\u001b[0;34m'sample'\u001b[0m\u001b[0;34m]\u001b[0m\u001b[0;34m,\u001b[0m \u001b[0mkeys\u001b[0m\u001b[0;34m=\u001b[0m\u001b[0mlist\u001b[0m\u001b[0;34m(\u001b[0m\u001b[0mrange\u001b[0m\u001b[0;34m(\u001b[0m\u001b[0mlen\u001b[0m\u001b[0;34m(\u001b[0m\u001b[0mdatasets\u001b[0m\u001b[0;34m)\u001b[0m\u001b[0;34m)\u001b[0m\u001b[0;34m)\u001b[0m\u001b[0;34m)\u001b[0m\u001b[0;34m\u001b[0m\u001b[0;34m\u001b[0m\u001b[0m\n\u001b[1;32m    350\u001b[0m     \u001b[0;32mreturn\u001b[0m \u001b[0mpd\u001b[0m\u001b[0;34m.\u001b[0m\u001b[0mconcat\u001b[0m\u001b[0;34m(\u001b[0m\u001b[0mresults\u001b[0m\u001b[0;34m,\u001b[0m \u001b[0mnames\u001b[0m\u001b[0;34m=\u001b[0m\u001b[0;34m[\u001b[0m\u001b[0;34m'node'\u001b[0m\u001b[0;34m]\u001b[0m\u001b[0;34m)\u001b[0m\u001b[0;34m\u001b[0m\u001b[0;34m\u001b[0m\u001b[0m\n",
      "\u001b[0;32m~/OneDrive/project_hddm_extension/kabuki/kabuki/analyze.py\u001b[0m in \u001b[0;36m_post_pred_generate\u001b[0;34m(bottom_node, samples, data, append_data, add_model_parameters)\u001b[0m\n\u001b[1;32m    279\u001b[0m         \u001b[0m_parents_to_random_posterior_sample\u001b[0m\u001b[0;34m(\u001b[0m\u001b[0mbottom_node\u001b[0m\u001b[0;34m)\u001b[0m\u001b[0;34m\u001b[0m\u001b[0;34m\u001b[0m\u001b[0m\n\u001b[1;32m    280\u001b[0m         \u001b[0;31m# Generate data from bottom node\u001b[0m\u001b[0;34m\u001b[0m\u001b[0;34m\u001b[0m\u001b[0;34m\u001b[0m\u001b[0m\n\u001b[0;32m--> 281\u001b[0;31m         \u001b[0msampled_data\u001b[0m \u001b[0;34m=\u001b[0m \u001b[0mbottom_node\u001b[0m\u001b[0;34m.\u001b[0m\u001b[0mrandom\u001b[0m\u001b[0;34m(\u001b[0m\u001b[0madd_model_parameters\u001b[0m \u001b[0;34m=\u001b[0m \u001b[0madd_model_parameters\u001b[0m\u001b[0;34m)\u001b[0m\u001b[0;34m\u001b[0m\u001b[0;34m\u001b[0m\u001b[0m\n\u001b[0m\u001b[1;32m    282\u001b[0m         \u001b[0;32mif\u001b[0m \u001b[0mappend_data\u001b[0m \u001b[0;32mand\u001b[0m \u001b[0mdata\u001b[0m \u001b[0;32mis\u001b[0m \u001b[0;32mnot\u001b[0m \u001b[0;32mNone\u001b[0m\u001b[0;34m:\u001b[0m\u001b[0;34m\u001b[0m\u001b[0;34m\u001b[0m\u001b[0m\n\u001b[1;32m    283\u001b[0m             \u001b[0msampled_data\u001b[0m \u001b[0;34m=\u001b[0m \u001b[0msampled_data\u001b[0m\u001b[0;34m.\u001b[0m\u001b[0mjoin\u001b[0m\u001b[0;34m(\u001b[0m\u001b[0mdata\u001b[0m\u001b[0;34m.\u001b[0m\u001b[0mreset_index\u001b[0m\u001b[0;34m(\u001b[0m\u001b[0;34m)\u001b[0m\u001b[0;34m,\u001b[0m \u001b[0mlsuffix\u001b[0m\u001b[0;34m=\u001b[0m\u001b[0;34m'_sampled'\u001b[0m\u001b[0;34m)\u001b[0m\u001b[0;34m\u001b[0m\u001b[0;34m\u001b[0m\u001b[0m\n",
      "\u001b[0;32m~/OneDrive/project_hddm_extension/hddm/hddm/models/hddm_regression.py\u001b[0m in \u001b[0;36mrandom\u001b[0;34m(self, keep_negative_responses, add_model_parameters, keep_subj_idx)\u001b[0m\n\u001b[1;32m     97\u001b[0m             \u001b[0;32mfor\u001b[0m \u001b[0mtmp_str\u001b[0m \u001b[0;32min\u001b[0m \u001b[0mmodel_config\u001b[0m\u001b[0;34m[\u001b[0m\u001b[0;34m\"full_ddm_vanilla\"\u001b[0m\u001b[0;34m]\u001b[0m\u001b[0;34m[\u001b[0m\u001b[0;34m\"params\"\u001b[0m\u001b[0;34m]\u001b[0m\u001b[0;34m:\u001b[0m\u001b[0;34m\u001b[0m\u001b[0;34m\u001b[0m\u001b[0m\n\u001b[1;32m     98\u001b[0m                 \u001b[0;32mif\u001b[0m \u001b[0mtmp_str\u001b[0m \u001b[0;32min\u001b[0m \u001b[0mself\u001b[0m\u001b[0;34m.\u001b[0m\u001b[0mparents\u001b[0m\u001b[0;34m[\u001b[0m\u001b[0;34m\"reg_outcomes\"\u001b[0m\u001b[0;34m]\u001b[0m\u001b[0;34m:\u001b[0m\u001b[0;34m\u001b[0m\u001b[0;34m\u001b[0m\u001b[0m\n\u001b[0;32m---> 99\u001b[0;31m                     \u001b[0mparam_data\u001b[0m\u001b[0;34m[\u001b[0m\u001b[0;34m:\u001b[0m\u001b[0;34m,\u001b[0m \u001b[0mcnt\u001b[0m\u001b[0;34m]\u001b[0m \u001b[0;34m=\u001b[0m \u001b[0mparam_dict\u001b[0m\u001b[0;34m[\u001b[0m\u001b[0mtmp_str\u001b[0m\u001b[0;34m]\u001b[0m\u001b[0;34m.\u001b[0m\u001b[0mvalues\u001b[0m\u001b[0;34m\u001b[0m\u001b[0;34m\u001b[0m\u001b[0m\n\u001b[0m\u001b[1;32m    100\u001b[0m                     \u001b[0;31m# changed from iloc[self.value.index]\u001b[0m\u001b[0;34m\u001b[0m\u001b[0;34m\u001b[0m\u001b[0;34m\u001b[0m\u001b[0m\n\u001b[1;32m    101\u001b[0m                 \u001b[0;32melse\u001b[0m\u001b[0;34m:\u001b[0m\u001b[0;34m\u001b[0m\u001b[0;34m\u001b[0m\u001b[0m\n",
      "\u001b[0;31mValueError\u001b[0m: could not broadcast input array from shape (100) into shape (42)"
     ]
    }
   ],
   "source": [
    "ppc_data = hddm.utils.post_pred_gen(m4)"
   ]
  },
  {
   "cell_type": "code",
   "execution_count": 6,
   "id": "7204f729-c611-497c-9819-235c47e2dad4",
   "metadata": {},
   "outputs": [],
   "source": [
    "m.save('test.pickle')"
   ]
  },
  {
   "cell_type": "code",
   "execution_count": null,
   "id": "30b0a33a-39da-4065-afc0-839e25705801",
   "metadata": {},
   "outputs": [],
   "source": [
    "m2.save('test2.pickle')"
   ]
  },
  {
   "cell_type": "code",
   "execution_count": 90,
   "id": "bbea1e34-58a9-4c6b-923f-7aeaa77d1039",
   "metadata": {},
   "outputs": [],
   "source": [
    "m3.save('test3.pickle')"
   ]
  },
  {
   "cell_type": "code",
   "execution_count": 2,
   "id": "0ca336d4-fc6b-4824-b64c-16c74f4431e4",
   "metadata": {},
   "outputs": [],
   "source": [
    "m = hddm.load('test.pickle')"
   ]
  },
  {
   "cell_type": "code",
   "execution_count": 3,
   "id": "b423bbed-3b41-464b-85ea-72e712bb9675",
   "metadata": {},
   "outputs": [
    {
     "data": {
      "text/plain": [
       "Index(['z_trans', 'z', 'z_std', 'z_tau', 'z_subj_trans.0', 'z_subj_trans.1',\n",
       "       'z_subj_trans.2', 'z_subj_trans.3', 'z_subj_trans.4', 'z_subj.0',\n",
       "       'z_subj.1', 'z_subj.2', 'z_subj.3', 'z_subj.4', 't_Intercept',\n",
       "       't_Intercept_std', 't_Intercept_rate', 't_Intercept_shape',\n",
       "       't_Intercept_subj.0', 't_Intercept_subj.1', 't_Intercept_subj.2',\n",
       "       't_Intercept_subj.3', 't_Intercept_subj.4', 't_C(cov3)[T.1]', 't_reg.0',\n",
       "       't_reg.1', 't_reg.2', 't_reg.3', 't_reg.4', 'a_Intercept',\n",
       "       'a_Intercept_std', 'a_Intercept_rate', 'a_Intercept_shape',\n",
       "       'a_Intercept_subj.0', 'a_Intercept_subj.1', 'a_Intercept_subj.2',\n",
       "       'a_Intercept_subj.3', 'a_Intercept_subj.4', 'a_C(cov1)[T.1]',\n",
       "       'a_C(cov3)[T.1]', 'a_C(cov1)[T.1]:C(cov3)[T.1]', 'a_reg.0', 'a_reg.1',\n",
       "       'a_reg.2', 'a_reg.3', 'a_reg.4', 'v_Intercept', 'v_Intercept_std',\n",
       "       'v_Intercept_tau', 'v_Intercept_subj.0', 'v_Intercept_subj.1',\n",
       "       'v_Intercept_subj.2', 'v_Intercept_subj.3', 'v_Intercept_subj.4',\n",
       "       'v_C(cov1)[T.1]', 'v_C(cov2)[T.1]', 'v_reg.0', 'v_reg.1', 'v_reg.2',\n",
       "       'v_reg.3', 'v_reg.4', 'wfpt.0', 'wfpt.1', 'wfpt.2', 'wfpt.3', 'wfpt.4'],\n",
       "      dtype='object')"
      ]
     },
     "execution_count": 3,
     "metadata": {},
     "output_type": "execute_result"
    }
   ],
   "source": [
    "m.nodes_db.index"
   ]
  },
  {
   "cell_type": "code",
   "execution_count": 69,
   "id": "845b1e6c-7000-4960-80ac-2345c091bc6e",
   "metadata": {},
   "outputs": [
    {
     "data": {
      "text/html": [
       "<div>\n",
       "<style scoped>\n",
       "    .dataframe tbody tr th:only-of-type {\n",
       "        vertical-align: middle;\n",
       "    }\n",
       "\n",
       "    .dataframe tbody tr th {\n",
       "        vertical-align: top;\n",
       "    }\n",
       "\n",
       "    .dataframe thead th {\n",
       "        text-align: right;\n",
       "    }\n",
       "</style>\n",
       "<table border=\"1\" class=\"dataframe\">\n",
       "  <thead>\n",
       "    <tr style=\"text-align: right;\">\n",
       "      <th></th>\n",
       "      <th>knode_name</th>\n",
       "      <th>stochastic</th>\n",
       "      <th>observed</th>\n",
       "      <th>subj</th>\n",
       "      <th>node</th>\n",
       "      <th>tag</th>\n",
       "      <th>depends</th>\n",
       "      <th>hidden</th>\n",
       "      <th>rt</th>\n",
       "      <th>response</th>\n",
       "      <th>...</th>\n",
       "      <th>cov2</th>\n",
       "      <th>cov3</th>\n",
       "      <th>mean</th>\n",
       "      <th>std</th>\n",
       "      <th>2.5q</th>\n",
       "      <th>25q</th>\n",
       "      <th>50q</th>\n",
       "      <th>75q</th>\n",
       "      <th>97.5q</th>\n",
       "      <th>mc err</th>\n",
       "    </tr>\n",
       "  </thead>\n",
       "  <tbody>\n",
       "    <tr>\n",
       "      <th>z_trans</th>\n",
       "      <td>z_trans</td>\n",
       "      <td>True</td>\n",
       "      <td>False</td>\n",
       "      <td>False</td>\n",
       "      <td>z_trans</td>\n",
       "      <td>()</td>\n",
       "      <td>[]</td>\n",
       "      <td>True</td>\n",
       "      <td>NaN</td>\n",
       "      <td>NaN</td>\n",
       "      <td>...</td>\n",
       "      <td>NaN</td>\n",
       "      <td>NaN</td>\n",
       "      <td>NaN</td>\n",
       "      <td>NaN</td>\n",
       "      <td>NaN</td>\n",
       "      <td>NaN</td>\n",
       "      <td>NaN</td>\n",
       "      <td>NaN</td>\n",
       "      <td>NaN</td>\n",
       "      <td>NaN</td>\n",
       "    </tr>\n",
       "    <tr>\n",
       "      <th>z</th>\n",
       "      <td>z</td>\n",
       "      <td>False</td>\n",
       "      <td>False</td>\n",
       "      <td>False</td>\n",
       "      <td>z</td>\n",
       "      <td>()</td>\n",
       "      <td>[]</td>\n",
       "      <td>False</td>\n",
       "      <td>NaN</td>\n",
       "      <td>NaN</td>\n",
       "      <td>...</td>\n",
       "      <td>NaN</td>\n",
       "      <td>NaN</td>\n",
       "      <td>0.61513</td>\n",
       "      <td>0.022981</td>\n",
       "      <td>0.576556</td>\n",
       "      <td>0.600548</td>\n",
       "      <td>0.608673</td>\n",
       "      <td>0.636484</td>\n",
       "      <td>0.664656</td>\n",
       "      <td>0.002281</td>\n",
       "    </tr>\n",
       "    <tr>\n",
       "      <th>z_std</th>\n",
       "      <td>z_std</td>\n",
       "      <td>True</td>\n",
       "      <td>False</td>\n",
       "      <td>False</td>\n",
       "      <td>z_std</td>\n",
       "      <td>()</td>\n",
       "      <td>[]</td>\n",
       "      <td>False</td>\n",
       "      <td>NaN</td>\n",
       "      <td>NaN</td>\n",
       "      <td>...</td>\n",
       "      <td>NaN</td>\n",
       "      <td>NaN</td>\n",
       "      <td>0.025565</td>\n",
       "      <td>0.018621</td>\n",
       "      <td>0.001553</td>\n",
       "      <td>0.010142</td>\n",
       "      <td>0.023317</td>\n",
       "      <td>0.036824</td>\n",
       "      <td>0.075958</td>\n",
       "      <td>0.001724</td>\n",
       "    </tr>\n",
       "    <tr>\n",
       "      <th>z_tau</th>\n",
       "      <td>z_tau</td>\n",
       "      <td>False</td>\n",
       "      <td>False</td>\n",
       "      <td>False</td>\n",
       "      <td>z_tau</td>\n",
       "      <td>()</td>\n",
       "      <td>[]</td>\n",
       "      <td>True</td>\n",
       "      <td>NaN</td>\n",
       "      <td>NaN</td>\n",
       "      <td>...</td>\n",
       "      <td>NaN</td>\n",
       "      <td>NaN</td>\n",
       "      <td>NaN</td>\n",
       "      <td>NaN</td>\n",
       "      <td>NaN</td>\n",
       "      <td>NaN</td>\n",
       "      <td>NaN</td>\n",
       "      <td>NaN</td>\n",
       "      <td>NaN</td>\n",
       "      <td>NaN</td>\n",
       "    </tr>\n",
       "    <tr>\n",
       "      <th>z_subj_trans.0</th>\n",
       "      <td>z_subj_trans</td>\n",
       "      <td>True</td>\n",
       "      <td>False</td>\n",
       "      <td>True</td>\n",
       "      <td>z_subj_trans.0</td>\n",
       "      <td>()</td>\n",
       "      <td>[subj_idx]</td>\n",
       "      <td>True</td>\n",
       "      <td>NaN</td>\n",
       "      <td>NaN</td>\n",
       "      <td>...</td>\n",
       "      <td>NaN</td>\n",
       "      <td>NaN</td>\n",
       "      <td>NaN</td>\n",
       "      <td>NaN</td>\n",
       "      <td>NaN</td>\n",
       "      <td>NaN</td>\n",
       "      <td>NaN</td>\n",
       "      <td>NaN</td>\n",
       "      <td>NaN</td>\n",
       "      <td>NaN</td>\n",
       "    </tr>\n",
       "    <tr>\n",
       "      <th>...</th>\n",
       "      <td>...</td>\n",
       "      <td>...</td>\n",
       "      <td>...</td>\n",
       "      <td>...</td>\n",
       "      <td>...</td>\n",
       "      <td>...</td>\n",
       "      <td>...</td>\n",
       "      <td>...</td>\n",
       "      <td>...</td>\n",
       "      <td>...</td>\n",
       "      <td>...</td>\n",
       "      <td>...</td>\n",
       "      <td>...</td>\n",
       "      <td>...</td>\n",
       "      <td>...</td>\n",
       "      <td>...</td>\n",
       "      <td>...</td>\n",
       "      <td>...</td>\n",
       "      <td>...</td>\n",
       "      <td>...</td>\n",
       "      <td>...</td>\n",
       "    </tr>\n",
       "    <tr>\n",
       "      <th>wfpt.0</th>\n",
       "      <td>wfpt</td>\n",
       "      <td>False</td>\n",
       "      <td>True</td>\n",
       "      <td>False</td>\n",
       "      <td>wfpt.0</td>\n",
       "      <td>()</td>\n",
       "      <td>[subj_idx]</td>\n",
       "      <td>False</td>\n",
       "      <td>NaN</td>\n",
       "      <td>NaN</td>\n",
       "      <td>...</td>\n",
       "      <td>NaN</td>\n",
       "      <td>NaN</td>\n",
       "      <td>NaN</td>\n",
       "      <td>NaN</td>\n",
       "      <td>NaN</td>\n",
       "      <td>NaN</td>\n",
       "      <td>NaN</td>\n",
       "      <td>NaN</td>\n",
       "      <td>NaN</td>\n",
       "      <td>NaN</td>\n",
       "    </tr>\n",
       "    <tr>\n",
       "      <th>wfpt.1</th>\n",
       "      <td>wfpt</td>\n",
       "      <td>False</td>\n",
       "      <td>True</td>\n",
       "      <td>False</td>\n",
       "      <td>wfpt.1</td>\n",
       "      <td>()</td>\n",
       "      <td>[subj_idx]</td>\n",
       "      <td>False</td>\n",
       "      <td>NaN</td>\n",
       "      <td>NaN</td>\n",
       "      <td>...</td>\n",
       "      <td>NaN</td>\n",
       "      <td>NaN</td>\n",
       "      <td>NaN</td>\n",
       "      <td>NaN</td>\n",
       "      <td>NaN</td>\n",
       "      <td>NaN</td>\n",
       "      <td>NaN</td>\n",
       "      <td>NaN</td>\n",
       "      <td>NaN</td>\n",
       "      <td>NaN</td>\n",
       "    </tr>\n",
       "    <tr>\n",
       "      <th>wfpt.2</th>\n",
       "      <td>wfpt</td>\n",
       "      <td>False</td>\n",
       "      <td>True</td>\n",
       "      <td>False</td>\n",
       "      <td>wfpt.2</td>\n",
       "      <td>()</td>\n",
       "      <td>[subj_idx]</td>\n",
       "      <td>False</td>\n",
       "      <td>NaN</td>\n",
       "      <td>NaN</td>\n",
       "      <td>...</td>\n",
       "      <td>NaN</td>\n",
       "      <td>NaN</td>\n",
       "      <td>NaN</td>\n",
       "      <td>NaN</td>\n",
       "      <td>NaN</td>\n",
       "      <td>NaN</td>\n",
       "      <td>NaN</td>\n",
       "      <td>NaN</td>\n",
       "      <td>NaN</td>\n",
       "      <td>NaN</td>\n",
       "    </tr>\n",
       "    <tr>\n",
       "      <th>wfpt.3</th>\n",
       "      <td>wfpt</td>\n",
       "      <td>False</td>\n",
       "      <td>True</td>\n",
       "      <td>False</td>\n",
       "      <td>wfpt.3</td>\n",
       "      <td>()</td>\n",
       "      <td>[subj_idx]</td>\n",
       "      <td>False</td>\n",
       "      <td>NaN</td>\n",
       "      <td>NaN</td>\n",
       "      <td>...</td>\n",
       "      <td>NaN</td>\n",
       "      <td>NaN</td>\n",
       "      <td>NaN</td>\n",
       "      <td>NaN</td>\n",
       "      <td>NaN</td>\n",
       "      <td>NaN</td>\n",
       "      <td>NaN</td>\n",
       "      <td>NaN</td>\n",
       "      <td>NaN</td>\n",
       "      <td>NaN</td>\n",
       "    </tr>\n",
       "    <tr>\n",
       "      <th>wfpt.4</th>\n",
       "      <td>wfpt</td>\n",
       "      <td>False</td>\n",
       "      <td>True</td>\n",
       "      <td>False</td>\n",
       "      <td>wfpt.4</td>\n",
       "      <td>()</td>\n",
       "      <td>[subj_idx]</td>\n",
       "      <td>False</td>\n",
       "      <td>NaN</td>\n",
       "      <td>NaN</td>\n",
       "      <td>...</td>\n",
       "      <td>NaN</td>\n",
       "      <td>NaN</td>\n",
       "      <td>NaN</td>\n",
       "      <td>NaN</td>\n",
       "      <td>NaN</td>\n",
       "      <td>NaN</td>\n",
       "      <td>NaN</td>\n",
       "      <td>NaN</td>\n",
       "      <td>NaN</td>\n",
       "      <td>NaN</td>\n",
       "    </tr>\n",
       "  </tbody>\n",
       "</table>\n",
       "<p>66 rows × 26 columns</p>\n",
       "</div>"
      ],
      "text/plain": [
       "                  knode_name stochastic observed   subj            node tag  \\\n",
       "z_trans              z_trans       True    False  False         z_trans  ()   \n",
       "z                          z      False    False  False               z  ()   \n",
       "z_std                  z_std       True    False  False           z_std  ()   \n",
       "z_tau                  z_tau      False    False  False           z_tau  ()   \n",
       "z_subj_trans.0  z_subj_trans       True    False   True  z_subj_trans.0  ()   \n",
       "...                      ...        ...      ...    ...             ...  ..   \n",
       "wfpt.0                  wfpt      False     True  False          wfpt.0  ()   \n",
       "wfpt.1                  wfpt      False     True  False          wfpt.1  ()   \n",
       "wfpt.2                  wfpt      False     True  False          wfpt.2  ()   \n",
       "wfpt.3                  wfpt      False     True  False          wfpt.3  ()   \n",
       "wfpt.4                  wfpt      False     True  False          wfpt.4  ()   \n",
       "\n",
       "                   depends hidden   rt response  ... cov2 cov3      mean  \\\n",
       "z_trans                 []   True  NaN      NaN  ...  NaN  NaN       NaN   \n",
       "z                       []  False  NaN      NaN  ...  NaN  NaN   0.61513   \n",
       "z_std                   []  False  NaN      NaN  ...  NaN  NaN  0.025565   \n",
       "z_tau                   []   True  NaN      NaN  ...  NaN  NaN       NaN   \n",
       "z_subj_trans.0  [subj_idx]   True  NaN      NaN  ...  NaN  NaN       NaN   \n",
       "...                    ...    ...  ...      ...  ...  ...  ...       ...   \n",
       "wfpt.0          [subj_idx]  False  NaN      NaN  ...  NaN  NaN       NaN   \n",
       "wfpt.1          [subj_idx]  False  NaN      NaN  ...  NaN  NaN       NaN   \n",
       "wfpt.2          [subj_idx]  False  NaN      NaN  ...  NaN  NaN       NaN   \n",
       "wfpt.3          [subj_idx]  False  NaN      NaN  ...  NaN  NaN       NaN   \n",
       "wfpt.4          [subj_idx]  False  NaN      NaN  ...  NaN  NaN       NaN   \n",
       "\n",
       "                     std      2.5q       25q       50q       75q     97.5q  \\\n",
       "z_trans              NaN       NaN       NaN       NaN       NaN       NaN   \n",
       "z               0.022981  0.576556  0.600548  0.608673  0.636484  0.664656   \n",
       "z_std           0.018621  0.001553  0.010142  0.023317  0.036824  0.075958   \n",
       "z_tau                NaN       NaN       NaN       NaN       NaN       NaN   \n",
       "z_subj_trans.0       NaN       NaN       NaN       NaN       NaN       NaN   \n",
       "...                  ...       ...       ...       ...       ...       ...   \n",
       "wfpt.0               NaN       NaN       NaN       NaN       NaN       NaN   \n",
       "wfpt.1               NaN       NaN       NaN       NaN       NaN       NaN   \n",
       "wfpt.2               NaN       NaN       NaN       NaN       NaN       NaN   \n",
       "wfpt.3               NaN       NaN       NaN       NaN       NaN       NaN   \n",
       "wfpt.4               NaN       NaN       NaN       NaN       NaN       NaN   \n",
       "\n",
       "                  mc err  \n",
       "z_trans              NaN  \n",
       "z               0.002281  \n",
       "z_std           0.001724  \n",
       "z_tau                NaN  \n",
       "z_subj_trans.0       NaN  \n",
       "...                  ...  \n",
       "wfpt.0               NaN  \n",
       "wfpt.1               NaN  \n",
       "wfpt.2               NaN  \n",
       "wfpt.3               NaN  \n",
       "wfpt.4               NaN  \n",
       "\n",
       "[66 rows x 26 columns]"
      ]
     },
     "execution_count": 69,
     "metadata": {},
     "output_type": "execute_result"
    }
   ],
   "source": [
    "m.nodes_db"
   ]
  },
  {
   "cell_type": "code",
   "execution_count": 97,
   "id": "d9d774b5-6470-4089-8bec-2684649b48eb",
   "metadata": {},
   "outputs": [],
   "source": [
    "# m.nodes_db['node'].loc['v_Intercept'].trace()"
   ]
  },
  {
   "cell_type": "code",
   "execution_count": 63,
   "id": "b2890953-e8b6-4b36-ad7a-1a5190f9512c",
   "metadata": {},
   "outputs": [],
   "source": [
    "x = pickle.load(open('traces.db', 'rb'))"
   ]
  },
  {
   "cell_type": "code",
   "execution_count": 98,
   "id": "105a2d1e-f038-4e6c-a541-0903be2b7c13",
   "metadata": {},
   "outputs": [],
   "source": [
    "# x"
   ]
  },
  {
   "cell_type": "code",
   "execution_count": 26,
   "id": "0683ffc4-1bd7-4755-8604-537678bee9fe",
   "metadata": {},
   "outputs": [
    {
     "name": "stdout",
     "output_type": "stream",
     "text": [
      "Help on method trace in module pymc.Model:\n",
      "\n",
      "trace(name, chain=-1) method of pymc.MCMC.MCMC instance\n",
      "    Return the trace of a tallyable object stored in the database.\n",
      "    \n",
      "    :Parameters:\n",
      "    name : string\n",
      "      The name of the tallyable object.\n",
      "    chain : int\n",
      "      The trace index. Setting `chain=i` will return the trace created by\n",
      "      the ith call to `sample`.\n",
      "\n"
     ]
    }
   ],
   "source": [
    "help(m2.mc.trace)"
   ]
  },
  {
   "cell_type": "code",
   "execution_count": 99,
   "id": "fecec22b-a5d9-4e03-857e-229fd45a3aea",
   "metadata": {},
   "outputs": [
    {
     "name": "stdout",
     "output_type": "stream",
     "text": [
      "tracename: \n",
      "v_Intercept\n",
      "tracename: \n",
      "v_Intercept_subj.0\n",
      "tracename: \n",
      "v_Intercept_subj.1\n",
      "tracename: \n",
      "v_Intercept_subj.2\n",
      "tracename: \n",
      "v_Intercept_subj.3\n",
      "tracename: \n",
      "v_Intercept_subj.4\n",
      "tracename: \n",
      "v_C(cov1)[T.1]\n",
      "tracename: \n",
      "v_C(cov2)[T.1]\n",
      "tracename: \n",
      "a_Intercept\n",
      "tracename: \n",
      "a_Intercept_subj.0\n",
      "tracename: \n",
      "a_Intercept_subj.1\n",
      "tracename: \n",
      "a_Intercept_subj.2\n",
      "tracename: \n",
      "a_Intercept_subj.3\n",
      "tracename: \n",
      "a_Intercept_subj.4\n",
      "tracename: \n",
      "a_C(cov1)[T.1]\n",
      "tracename: \n",
      "a_C(cov3)[T.1]\n",
      "tracename: \n",
      "a_C(cov1)[T.1]:C(cov3)[T.1]\n",
      "tracename: \n",
      "z\n",
      "tracename: \n",
      "z_subj.0\n",
      "tracename: \n",
      "z_subj.1\n",
      "tracename: \n",
      "z_subj.2\n",
      "tracename: \n",
      "z_subj.3\n",
      "tracename: \n",
      "z_subj.4\n",
      "tracename: \n",
      "t(0)\n",
      "tracename: \n",
      "t(1)\n",
      "tracename: \n",
      "t_subj(0).0\n",
      "tracename: \n",
      "t_subj(0).1\n",
      "tracename: \n",
      "t_subj(0).2\n",
      "tracename: \n",
      "t_subj(0).3\n",
      "tracename: \n",
      "t_subj(0).4\n",
      "tracename: \n",
      "t_subj(1).0\n",
      "tracename: \n",
      "t_subj(1).1\n",
      "tracename: \n",
      "t_subj(1).2\n",
      "tracename: \n",
      "t_subj(1).3\n",
      "tracename: \n",
      "t_subj(1).4\n"
     ]
    },
    {
     "data": {
      "image/png": "[encoded data removed]",
      "text/plain": [
       "<Figure size 1000x1000 with 4 Axes>"
      ]
     },
     "metadata": {},
     "output_type": "display_data"
    }
   ],
   "source": [
    "hddm.plotting.plot_caterpillar(m3)"
   ]
  },
  {
   "cell_type": "code",
   "execution_count": null,
   "id": "340ee002-f720-4bdc-a8bd-97bb50ddfc51",
   "metadata": {},
   "outputs": [],
   "source": []
  }
 ],
 "metadata": {
  "kernelspec": {
   "display_name": "hddmnn_tutorial",
   "language": "python",
   "name": "hddmnn_tutorial"
  },
  "language_info": {
   "codemirror_mode": {
    "name": "ipython",
    "version": 3
   },
   "file_extension": ".py",
   "mimetype": "text/x-python",
   "name": "python",
   "nbconvert_exporter": "python",
   "pygments_lexer": "ipython3",
   "version": "3.7.7"
  }
 },
 "nbformat": 4,
 "nbformat_minor": 5
}
