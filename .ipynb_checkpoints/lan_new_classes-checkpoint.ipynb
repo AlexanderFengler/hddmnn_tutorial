{
 "cells": [
  {
   "cell_type": "markdown",
   "id": "cae66cc3-25c8-4824-9e70-95fa5455ee6f",
   "metadata": {},
   "source": [
    "## LAN Extension: New Classes"
   ]
  },
  {
   "cell_type": "markdown",
   "id": "adc4f5f4-1308-4cc2-8e80-718311d99d75",
   "metadata": {},
   "source": [
    "The **LAN extension (HDDM >= 0.9.0)**, provides three new classes which are LAN-enabled versions of the respective classes in base HDDM.\n",
    "These new classes are, \n",
    "\n",
    "- The `HDDMnn()` class\n",
    "- The `HDDMnnStimCoding()` class\n",
    "- The `HDDMnnRegressor()` class"
   ]
  },
  {
   "cell_type": "markdown",
   "id": "876585c8-170e-4332-b5b0-2bb75eb9d5c7",
   "metadata": {},
   "source": [
    "The usage mirrors what you are used to from standard HDDM equivalents. \n",
    "\n",
    "What changes is that you now use the `model` argument to specify one of the models you find listed in the `hddm.model_config.model_config` dictionary (you can also provide a custom model, for which you should look into the respective section in this documentation).\n",
    "\n",
    "Moreover, you have to be a little more careful when specifying the `include` argument, since the ability to use new models comes with new parameters. To help get started here, the `hddm.model_config.model_config` dictionary provides you a `hddm_include` key *for every model-specific sub-dictionary*. This let's you fit all parameters of a given model. To keep some parameters fixed, remove them respectively from the resulting list. "
   ]
  },
  {
   "cell_type": "markdown",
   "id": "814f5484-f6c4-49a0-9520-fe3d4d44a2ef",
   "metadata": {},
   "source": [
    "### Short example"
   ]
  },
  {
   "cell_type": "code",
   "execution_count": 10,
   "id": "c7d08aa0-63ef-493e-b174-cd52dce56741",
   "metadata": {},
   "outputs": [],
   "source": [
    "import hddm"
   ]
  },
  {
   "cell_type": "code",
   "execution_count": 11,
   "id": "c0a532b9-3f46-4206-8d9b-3ffd9f48dccf",
   "metadata": {},
   "outputs": [
    {
     "name": "stdout",
     "output_type": "stream",
     "text": [
      "Setting priors uninformative (LANs only work with uninformative priors for now)\n",
      "Includes supplied:  ['z', 'theta']\n"
     ]
    }
   ],
   "source": [
    "model = 'angle'\n",
    "cavanagh_data = hddm.load_csv(hddm.__path__[0] + '/examples/cavanagh_theta_nn.csv')\n",
    "model_ = hddm.HDDMnn(cavanagh_data,\n",
    "                     model = model,\n",
    "                     include = hddm.model_config.model_config[model]['hddm_include'],\n",
    "                     is_group_model = False)"
   ]
  },
  {
   "cell_type": "code",
   "execution_count": 12,
   "id": "ebc7b171-817d-41e0-a74c-310e9af0c29b",
   "metadata": {},
   "outputs": [
    {
     "name": "stdout",
     "output_type": "stream",
     "text": [
      " [-----------------100%-----------------] 1001 of 1000 complete in 22.0 sec"
     ]
    },
    {
     "data": {
      "text/plain": [
       "<pymc.MCMC.MCMC at 0x7f044c3a4550>"
      ]
     },
     "execution_count": 12,
     "metadata": {},
     "output_type": "execute_result"
    }
   ],
   "source": [
    "model_.sample(1000, burn = 200)"
   ]
  },
  {
   "cell_type": "code",
   "execution_count": 13,
   "id": "4e31a4f8-5070-4915-a965-b8d5fc6d4ff8",
   "metadata": {},
   "outputs": [
    {
     "data": {
      "text/html": [
       "<div>\n",
       "<style scoped>\n",
       "    .dataframe tbody tr th:only-of-type {\n",
       "        vertical-align: middle;\n",
       "    }\n",
       "\n",
       "    .dataframe tbody tr th {\n",
       "        vertical-align: top;\n",
       "    }\n",
       "\n",
       "    .dataframe thead th {\n",
       "        text-align: right;\n",
       "    }\n",
       "</style>\n",
       "<table border=\"1\" class=\"dataframe\">\n",
       "  <thead>\n",
       "    <tr style=\"text-align: right;\">\n",
       "      <th></th>\n",
       "      <th>v</th>\n",
       "      <th>a</th>\n",
       "      <th>z_trans</th>\n",
       "      <th>t</th>\n",
       "      <th>theta</th>\n",
       "    </tr>\n",
       "  </thead>\n",
       "  <tbody>\n",
       "    <tr>\n",
       "      <th>0</th>\n",
       "      <td>0.362657</td>\n",
       "      <td>1.279809</td>\n",
       "      <td>0.100552</td>\n",
       "      <td>0.293367</td>\n",
       "      <td>0.219623</td>\n",
       "    </tr>\n",
       "    <tr>\n",
       "      <th>1</th>\n",
       "      <td>0.347255</td>\n",
       "      <td>1.265401</td>\n",
       "      <td>0.065679</td>\n",
       "      <td>0.303313</td>\n",
       "      <td>0.217390</td>\n",
       "    </tr>\n",
       "    <tr>\n",
       "      <th>2</th>\n",
       "      <td>0.353600</td>\n",
       "      <td>1.260157</td>\n",
       "      <td>0.074713</td>\n",
       "      <td>0.297913</td>\n",
       "      <td>0.213457</td>\n",
       "    </tr>\n",
       "    <tr>\n",
       "      <th>3</th>\n",
       "      <td>0.327564</td>\n",
       "      <td>1.261381</td>\n",
       "      <td>0.043989</td>\n",
       "      <td>0.309488</td>\n",
       "      <td>0.216046</td>\n",
       "    </tr>\n",
       "    <tr>\n",
       "      <th>4</th>\n",
       "      <td>0.363990</td>\n",
       "      <td>1.274243</td>\n",
       "      <td>0.030869</td>\n",
       "      <td>0.295772</td>\n",
       "      <td>0.221900</td>\n",
       "    </tr>\n",
       "    <tr>\n",
       "      <th>...</th>\n",
       "      <td>...</td>\n",
       "      <td>...</td>\n",
       "      <td>...</td>\n",
       "      <td>...</td>\n",
       "      <td>...</td>\n",
       "    </tr>\n",
       "    <tr>\n",
       "      <th>795</th>\n",
       "      <td>0.369220</td>\n",
       "      <td>1.322772</td>\n",
       "      <td>0.013902</td>\n",
       "      <td>0.287593</td>\n",
       "      <td>0.242824</td>\n",
       "    </tr>\n",
       "    <tr>\n",
       "      <th>796</th>\n",
       "      <td>0.383198</td>\n",
       "      <td>1.300787</td>\n",
       "      <td>0.018496</td>\n",
       "      <td>0.281645</td>\n",
       "      <td>0.230118</td>\n",
       "    </tr>\n",
       "    <tr>\n",
       "      <th>797</th>\n",
       "      <td>0.352363</td>\n",
       "      <td>1.298063</td>\n",
       "      <td>-0.004444</td>\n",
       "      <td>0.283756</td>\n",
       "      <td>0.235838</td>\n",
       "    </tr>\n",
       "    <tr>\n",
       "      <th>798</th>\n",
       "      <td>0.355785</td>\n",
       "      <td>1.303034</td>\n",
       "      <td>0.032976</td>\n",
       "      <td>0.285204</td>\n",
       "      <td>0.232276</td>\n",
       "    </tr>\n",
       "    <tr>\n",
       "      <th>799</th>\n",
       "      <td>0.368346</td>\n",
       "      <td>1.295958</td>\n",
       "      <td>0.038444</td>\n",
       "      <td>0.286766</td>\n",
       "      <td>0.230839</td>\n",
       "    </tr>\n",
       "  </tbody>\n",
       "</table>\n",
       "<p>800 rows × 5 columns</p>\n",
       "</div>"
      ],
      "text/plain": [
       "            v         a   z_trans         t     theta\n",
       "0    0.362657  1.279809  0.100552  0.293367  0.219623\n",
       "1    0.347255  1.265401  0.065679  0.303313  0.217390\n",
       "2    0.353600  1.260157  0.074713  0.297913  0.213457\n",
       "3    0.327564  1.261381  0.043989  0.309488  0.216046\n",
       "4    0.363990  1.274243  0.030869  0.295772  0.221900\n",
       "..        ...       ...       ...       ...       ...\n",
       "795  0.369220  1.322772  0.013902  0.287593  0.242824\n",
       "796  0.383198  1.300787  0.018496  0.281645  0.230118\n",
       "797  0.352363  1.298063 -0.004444  0.283756  0.235838\n",
       "798  0.355785  1.303034  0.032976  0.285204  0.232276\n",
       "799  0.368346  1.295958  0.038444  0.286766  0.230839\n",
       "\n",
       "[800 rows x 5 columns]"
      ]
     },
     "execution_count": 13,
     "metadata": {},
     "output_type": "execute_result"
    }
   ],
   "source": [
    "model_.get_traces()"
   ]
  },
  {
   "cell_type": "code",
   "execution_count": 14,
   "id": "39af4fdf-600c-48de-8366-d21ab4ad9437",
   "metadata": {},
   "outputs": [
    {
     "data": {
      "text/html": [
       "<div>\n",
       "<style scoped>\n",
       "    .dataframe tbody tr th:only-of-type {\n",
       "        vertical-align: middle;\n",
       "    }\n",
       "\n",
       "    .dataframe tbody tr th {\n",
       "        vertical-align: top;\n",
       "    }\n",
       "\n",
       "    .dataframe thead th {\n",
       "        text-align: right;\n",
       "    }\n",
       "</style>\n",
       "<table border=\"1\" class=\"dataframe\">\n",
       "  <thead>\n",
       "    <tr style=\"text-align: right;\">\n",
       "      <th></th>\n",
       "      <th>mean</th>\n",
       "      <th>std</th>\n",
       "      <th>2.5q</th>\n",
       "      <th>25q</th>\n",
       "      <th>50q</th>\n",
       "      <th>75q</th>\n",
       "      <th>97.5q</th>\n",
       "      <th>mc err</th>\n",
       "    </tr>\n",
       "  </thead>\n",
       "  <tbody>\n",
       "    <tr>\n",
       "      <th>v</th>\n",
       "      <td>0.367355</td>\n",
       "      <td>0.022102</td>\n",
       "      <td>0.325831</td>\n",
       "      <td>0.352295</td>\n",
       "      <td>0.367635</td>\n",
       "      <td>0.383658</td>\n",
       "      <td>0.409726</td>\n",
       "      <td>0.001155</td>\n",
       "    </tr>\n",
       "    <tr>\n",
       "      <th>a</th>\n",
       "      <td>1.310485</td>\n",
       "      <td>0.023723</td>\n",
       "      <td>1.264522</td>\n",
       "      <td>1.295559</td>\n",
       "      <td>1.309213</td>\n",
       "      <td>1.325134</td>\n",
       "      <td>1.361408</td>\n",
       "      <td>0.002074</td>\n",
       "    </tr>\n",
       "    <tr>\n",
       "      <th>z</th>\n",
       "      <td>0.505486</td>\n",
       "      <td>0.005988</td>\n",
       "      <td>0.493992</td>\n",
       "      <td>0.501693</td>\n",
       "      <td>0.505369</td>\n",
       "      <td>0.509463</td>\n",
       "      <td>0.517051</td>\n",
       "      <td>0.00034</td>\n",
       "    </tr>\n",
       "    <tr>\n",
       "      <th>t</th>\n",
       "      <td>0.285347</td>\n",
       "      <td>0.009728</td>\n",
       "      <td>0.266361</td>\n",
       "      <td>0.279472</td>\n",
       "      <td>0.28532</td>\n",
       "      <td>0.291927</td>\n",
       "      <td>0.304614</td>\n",
       "      <td>0.00077</td>\n",
       "    </tr>\n",
       "    <tr>\n",
       "      <th>theta</th>\n",
       "      <td>0.242268</td>\n",
       "      <td>0.014679</td>\n",
       "      <td>0.214883</td>\n",
       "      <td>0.233054</td>\n",
       "      <td>0.241219</td>\n",
       "      <td>0.252035</td>\n",
       "      <td>0.273616</td>\n",
       "      <td>0.001201</td>\n",
       "    </tr>\n",
       "  </tbody>\n",
       "</table>\n",
       "</div>"
      ],
      "text/plain": [
       "           mean       std      2.5q       25q       50q       75q     97.5q  \\\n",
       "v      0.367355  0.022102  0.325831  0.352295  0.367635  0.383658  0.409726   \n",
       "a      1.310485  0.023723  1.264522  1.295559  1.309213  1.325134  1.361408   \n",
       "z      0.505486  0.005988  0.493992  0.501693  0.505369  0.509463  0.517051   \n",
       "t      0.285347  0.009728  0.266361  0.279472   0.28532  0.291927  0.304614   \n",
       "theta  0.242268  0.014679  0.214883  0.233054  0.241219  0.252035  0.273616   \n",
       "\n",
       "         mc err  \n",
       "v      0.001155  \n",
       "a      0.002074  \n",
       "z       0.00034  \n",
       "t       0.00077  \n",
       "theta  0.001201  "
      ]
     },
     "execution_count": 14,
     "metadata": {},
     "output_type": "execute_result"
    }
   ],
   "source": [
    "model_.gen_stats()"
   ]
  },
  {
   "cell_type": "code",
   "execution_count": null,
   "id": "aa4d77dd-3a72-481f-9e92-e8b5a89e4d45",
   "metadata": {},
   "outputs": [],
   "source": []
  }
 ],
 "metadata": {
  "kernelspec": {
   "display_name": "hddm-gpu",
   "language": "python",
   "name": "hddm-gpu"
  },
  "language_info": {
   "codemirror_mode": {
    "name": "ipython",
    "version": 3
   },
   "file_extension": ".py",
   "mimetype": "text/x-python",
   "name": "python",
   "nbconvert_exporter": "python",
   "pygments_lexer": "ipython3",
   "version": "3.7.10"
  }
 },
 "nbformat": 4,
 "nbformat_minor": 5
}
