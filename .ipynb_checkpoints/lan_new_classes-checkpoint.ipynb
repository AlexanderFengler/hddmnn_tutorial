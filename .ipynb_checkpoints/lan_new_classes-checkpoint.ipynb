{
 "cells": [
  {
   "cell_type": "markdown",
   "id": "cae66cc3-25c8-4824-9e70-95fa5455ee6f",
   "metadata": {},
   "source": [
    "## LAN Extension: New Classes"
   ]
  },
  {
   "cell_type": "markdown",
   "id": "adc4f5f4-1308-4cc2-8e80-718311d99d75",
   "metadata": {},
   "source": [
    "The **LAN extension (HDDM >= 0.9.0)**, provides three new classes which are LAN-enabled versions of the respective classes in base HDDM.\n",
    "These new classes are, \n",
    "\n",
    "- The `HDDMnn()` class\n",
    "- The `HDDMnnStimCoding()` class\n",
    "- The `HDDMnnRegressor()` class"
   ]
  },
  {
   "cell_type": "markdown",
   "id": "876585c8-170e-4332-b5b0-2bb75eb9d5c7",
   "metadata": {},
   "source": [
    "The usage mirrors what you are used to from standard HDDM equivalents. \n",
    "\n",
    "What changes is that you now use the `model` argument to specify one of the models you find listed in the `hddm.model_config.model_config` dictionary (you can also provide a custom model, for which you should look into the respective section in this documentation).\n",
    "\n",
    "Moreover, you have to be a little more careful when specifying the `include` argument, since the ability to use new models comes with new parameters. To help get started here, the `hddm.model_config.model_config` dictionary provides you a `hddm_include` key *for every model-specific sub-dictionary*. This let's you fit all parameters of a given model. To keep some parameters fixed, remove them respectively from the resulting list. "
   ]
  },
  {
   "cell_type": "markdown",
   "id": "814f5484-f6c4-49a0-9520-fe3d4d44a2ef",
   "metadata": {},
   "source": [
    "### Short example"
   ]
  },
  {
   "cell_type": "code",
   "execution_count": 1,
   "id": "c7d08aa0-63ef-493e-b174-cd52dce56741",
   "metadata": {},
   "outputs": [
    {
     "name": "stdout",
     "output_type": "stream",
     "text": [
      "HDDM: Trying import of pytorch related classes.\n",
      "HDDM: Trying import of pytorch related classes.\n",
      "HDDM: Trying import of pytorch related classes.\n",
      "HDDM: Trying import of pytorch related classes.\n"
     ]
    }
   ],
   "source": [
    "import hddm"
   ]
  },
  {
   "cell_type": "code",
   "execution_count": 6,
   "id": "c0a532b9-3f46-4206-8d9b-3ffd9f48dccf",
   "metadata": {},
   "outputs": [
    {
     "name": "stdout",
     "output_type": "stream",
     "text": [
      "Setting priors uninformative (LANs only work with uninformative priors for now)\n",
      "Includes supplied:  ['z', 'theta']\n"
     ]
    }
   ],
   "source": [
    "model = 'angle'\n",
    "cavanagh_data = hddm.load_csv(hddm.__path__[0] + '/examples/cavanagh_theta_nn.csv')\n",
    "model_ = hddm.HDDMnn(cavanagh_data,\n",
    "                     model = model,\n",
    "                     include = hddm.model_config.model_config[model]['hddm_include'],\n",
    "                     is_group_model = False)"
   ]
  },
  {
   "cell_type": "code",
   "execution_count": 7,
   "id": "ebc7b171-817d-41e0-a74c-310e9af0c29b",
   "metadata": {},
   "outputs": [
    {
     "name": "stdout",
     "output_type": "stream",
     "text": [
      " [-----------------100%-----------------] 1000 of 1000 complete in 21.9 sec"
     ]
    },
    {
     "data": {
      "text/plain": [
       "<pymc.MCMC.MCMC at 0x7f040573d5d0>"
      ]
     },
     "execution_count": 7,
     "metadata": {},
     "output_type": "execute_result"
    }
   ],
   "source": [
    "model_.sample(1000, burn = 200)"
   ]
  },
  {
   "cell_type": "code",
   "execution_count": null,
   "id": "4e31a4f8-5070-4915-a965-b8d5fc6d4ff8",
   "metadata": {},
   "outputs": [],
   "source": [
    "model_.get_traces()"
   ]
  }
 ],
 "metadata": {
  "kernelspec": {
   "display_name": "hddm-gpu",
   "language": "python",
   "name": "hddm-gpu"
  },
  "language_info": {
   "codemirror_mode": {
    "name": "ipython",
    "version": 3
   },
   "file_extension": ".py",
   "mimetype": "text/x-python",
   "name": "python",
   "nbconvert_exporter": "python",
   "pygments_lexer": "ipython3",
   "version": "3.7.10"
  }
 },
 "nbformat": 4,
 "nbformat_minor": 5
}
