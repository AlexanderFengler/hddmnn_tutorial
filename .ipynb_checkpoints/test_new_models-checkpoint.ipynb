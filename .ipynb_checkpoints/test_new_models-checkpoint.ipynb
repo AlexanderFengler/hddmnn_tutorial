{
 "cells": [
  {
   "cell_type": "markdown",
   "metadata": {},
   "source": [
    "# COLAB SETUP (NOT NEEDED ON LOCAL MACHINE)"
   ]
  },
  {
   "cell_type": "code",
   "execution_count": null,
   "metadata": {},
   "outputs": [],
   "source": [
    "from google.colab import drive\n",
    "drive.mount('/content/gdrive')"
   ]
  },
  {
   "cell_type": "code",
   "execution_count": null,
   "metadata": {},
   "outputs": [],
   "source": [
    "%cd gdrive/'My Drive'/hddmnn_tutorial"
   ]
  },
  {
   "cell_type": "code",
   "execution_count": 10,
   "metadata": {},
   "outputs": [
    {
     "name": "stdout",
     "output_type": "stream",
     "text": [
      "Requirement already satisfied: scikit-learn in /Users/afengler/opt/miniconda3/envs/hddmnn_tutorial/lib/python3.7/site-packages (0.24.2)\n",
      "Requirement already satisfied: joblib>=0.11 in /Users/afengler/opt/miniconda3/envs/hddmnn_tutorial/lib/python3.7/site-packages (from scikit-learn) (1.0.1)\n",
      "Requirement already satisfied: threadpoolctl>=2.0.0 in /Users/afengler/opt/miniconda3/envs/hddmnn_tutorial/lib/python3.7/site-packages (from scikit-learn) (2.1.0)\n",
      "Requirement already satisfied: numpy>=1.13.3 in /Users/afengler/opt/miniconda3/envs/hddmnn_tutorial/lib/python3.7/site-packages (from scikit-learn) (1.19.1)\n",
      "Requirement already satisfied: scipy>=0.19.1 in /Users/afengler/opt/miniconda3/envs/hddmnn_tutorial/lib/python3.7/site-packages (from scikit-learn) (1.5.0)\n",
      "\u001b[31mERROR: Could not find a version that satisfies the requirement tensorflow-gpu==1.15 (from versions: none)\u001b[0m\n",
      "\u001b[31mERROR: No matching distribution found for tensorflow-gpu==1.15\u001b[0m\n",
      "Requirement already satisfied: h5py==2.10.0 in /Users/afengler/opt/miniconda3/envs/hddmnn_tutorial/lib/python3.7/site-packages (2.10.0)\n",
      "Requirement already satisfied: numpy>=1.7 in /Users/afengler/opt/miniconda3/envs/hddmnn_tutorial/lib/python3.7/site-packages (from h5py==2.10.0) (1.19.1)\n",
      "Requirement already satisfied: six in /Users/afengler/opt/miniconda3/envs/hddmnn_tutorial/lib/python3.7/site-packages (from h5py==2.10.0) (1.15.0)\n",
      "Requirement already satisfied: cython in /Users/afengler/opt/miniconda3/envs/hddmnn_tutorial/lib/python3.7/site-packages (0.29.21)\n",
      "Requirement already satisfied: pymc in /Users/afengler/opt/miniconda3/envs/hddmnn_tutorial/lib/python3.7/site-packages (2.3.8)\n"
     ]
    }
   ],
   "source": [
    "#!pip uninstall tensorflow  # tf 2.3.0 is loaded by default --> very slow on our networks\n",
    "!pip install scikit-learn\n",
    "!pip install tensorflow-gpu==1.15 # tf 1.15 ~ 4 times faster (feel free to test this out)\n",
    "!pip install h5py==2.10.0\n",
    "!pip install cython\n",
    "!pip install pymc\n",
    "#!pip install kabuki\n",
    "\n",
    "# Note you may get a warning about a version of 'gast'. \n",
    "# Don't worry about this, it does not affect us."
   ]
  },
  {
   "cell_type": "code",
   "execution_count": null,
   "metadata": {},
   "outputs": [],
   "source": [
    "!pip install -U --no-deps git+https://github.com/hddm-devs/hddm@alex_dev\n",
    "!pip install -U --no-deps git+https://github.com/hddm-devs/kabuki@alex_dev"
   ]
  },
  {
   "cell_type": "code",
   "execution_count": 1,
   "metadata": {},
   "outputs": [
    {
     "name": "stderr",
     "output_type": "stream",
     "text": [
      "/Users/afengler/opt/miniconda3/envs/hddmnn_tutorial/lib/python3.7/site-packages/IPython/parallel.py:13: ShimWarning: The `IPython.parallel` package has been deprecated since IPython 4.0. You should import from ipyparallel instead.\n",
      "  \"You should import from ipyparallel instead.\", ShimWarning)\n"
     ]
    }
   ],
   "source": [
    "# MODULE IMPORTS ----\n",
    "\n",
    "# \n",
    "import hddm\n",
    "\n",
    "# Make simulators visible\n",
    "import sys\n",
    "#sys.path.append('simulators')\n",
    "\n",
    "# Data management\n",
    "import pandas as pd\n",
    "import numpy as np\n",
    "import pickle\n",
    "\n",
    "# Plotting\n",
    "import matplotlib.pyplot as plt\n",
    "import matplotlib\n",
    "import seaborn as sns\n",
    "\n",
    "# Stats functionality\n",
    "from statsmodels.distributions.empirical_distribution import ECDF"
   ]
  },
  {
   "cell_type": "code",
   "execution_count": 2,
   "metadata": {},
   "outputs": [],
   "source": [
    "#hddm.simulators.model_config\n",
    "import tensorflow as tf\n",
    "from tensorflow import keras"
   ]
  },
  {
   "cell_type": "code",
   "execution_count": 3,
   "metadata": {},
   "outputs": [
    {
     "data": {
      "text/plain": [
       "{'params': ['v', 'a', 'z', 't'],\n",
       " 'params_trans': [0, 0, 1, 0],\n",
       " 'params_std_upper': [1.5, 1.0, None, 1.0],\n",
       " 'param_bounds': [[-3.0, 0.3, 0.1, 0.001], [3.0, 2.5, 0.9, 2.0]],\n",
       " 'param_bounds_cnn': [[-2.5, 0.5, 0.25, 0.001], [2.5, 2.2, 0.75, 1.95]],\n",
       " 'boundary': <function hddm.simulators.boundary_functions.constant(t=0)>,\n",
       " 'n_params': 4,\n",
       " 'default_params': [0.0, 1.0, 0.5, 0.001],\n",
       " 'hddm_include': ['z'],\n",
       " 'n_choices': 2,\n",
       " 'choices': [-1, 1],\n",
       " 'slice_widths': {'v': 1.5,\n",
       "  'v_std': 1,\n",
       "  'a': 1,\n",
       "  'a_std': 1,\n",
       "  'z': 0.1,\n",
       "  'z_trans': 0.2,\n",
       "  't': 0.01,\n",
       "  't_std': 0.15}}"
      ]
     },
     "execution_count": 3,
     "metadata": {},
     "output_type": "execute_result"
    }
   ],
   "source": [
    "hddm.model_config.model_config['ddm']"
   ]
  },
  {
   "cell_type": "code",
   "execution_count": 3,
   "metadata": {},
   "outputs": [
    {
     "name": "stdout",
     "output_type": "stream",
     "text": [
      "WARNING:tensorflow:From /Users/afengler/opt/miniconda3/envs/hddmnn_tutorial/lib/python3.7/site-packages/tensorflow_core/python/ops/resource_variable_ops.py:1630: calling BaseResourceVariable.__init__ (from tensorflow.python.ops.resource_variable_ops) with constraint is deprecated and will be removed in a future version.\n",
      "Instructions for updating:\n",
      "If using Keras pass *_constraint arguments to layers.\n"
     ]
    }
   ],
   "source": [
    "hddm.model_config.model_config['custom'] = {\n",
    "        \"params\": [\"v\", \"a\", \"z\", \"t\"],\n",
    "        \"params_trans\": [0, 0, 1, 0],\n",
    "        \"params_std_upper\": [1.5, 1.0, None, 1.0],\n",
    "        \"param_bounds\": [[-3.0, 0.3, 0.1, 1e-3], [3.0, 2.5, 0.9, 2.0]],\n",
    "        \"param_bounds_cnn\": [\n",
    "            [-2.5, 0.5, 0.25, 1e-3],\n",
    "            [2.5, 2.2, 0.75, 1.95],\n",
    "        ],  # [-2.5, 0.5, 0.25, 0.05], [2.5, 2.2, 0.75, 1.95]]\n",
    "        \"boundary\": hddm.simulators.bf.constant,\n",
    "        \"n_params\": 4,\n",
    "        \"default_params\": [0.0, 1.0, 0.5, 1e-3],\n",
    "        \"hddm_include\": [\"z\"],\n",
    "        \"n_choices\": 2,\n",
    "        \"choices\": [-1, 1],\n",
    "        \"slice_widths\": {\"v\": 1.5, \"v_std\": 1,\n",
    "                         \"a\": 1, \"a_std\": 1,\n",
    "                         \"z\": 0.1, \"z_trans\": 0.2, \n",
    "                         \"t\": 0.01, \"t_std\": 0.15},\n",
    "    }\n",
    "\n",
    "my_network = keras.models.load_model('model_final_ddm.h5', compile = False) # or any class with a valid predict on batch function\n",
    "#hddm.utils.make_likelihood_fun_from_str(hddm.utils.make_likelihood_str_mlp(config = hddm.model_config.model_config['custom'])) # constructs likelihood function named custom_likelihood"
   ]
  },
  {
   "cell_type": "code",
   "execution_count": null,
   "metadata": {},
   "outputs": [],
   "source": [
    "def fun(*args, **kwargs):\n",
    "    function_str = make_function_str()\n",
    "    exec(function_str) # generates function myfun()\n",
    "    h = myfun\n",
    "    return h\n",
    "h = fun(...)\n",
    "build_class(h)"
   ]
  },
  {
   "cell_type": "code",
   "execution_count": 14,
   "metadata": {},
   "outputs": [],
   "source": [
    "def make_fun(model = 'custom'):\n",
    "    assert model in hddm.model_config.model_config.keys(), 'Model supplied does not have an entry in the model_config dictionary!'\n",
    "    hddm.utils.make_likelihood_fun_from_str(hddm.utils.make_likelihood_str_mlp(config = hddm.model_config.model_config[model]))\n",
    "    my_fun = custom_likelihood\n",
    "    return my_fun"
   ]
  },
  {
   "cell_type": "code",
   "execution_count": 15,
   "metadata": {},
   "outputs": [],
   "source": [
    "my_fun = make_fun(model = 'custom')"
   ]
  },
  {
   "cell_type": "code",
   "execution_count": 21,
   "metadata": {},
   "outputs": [],
   "source": [
    "assert 'custom' in hddm.model_config.model_config.keys(), 'good bye'"
   ]
  },
  {
   "cell_type": "code",
   "execution_count": 22,
   "metadata": {},
   "outputs": [
    {
     "data": {
      "text/plain": [
       "dict_keys(['test', 'ddm', 'ddm_vanilla', 'angle', 'weibull', 'levy', 'full_ddm', 'full_ddm_vanilla', 'ornstein', 'ddm_sdv', 'ddm_par2', 'ddm_seq2', 'ddm_mic2', 'weibull_cdf', 'full_ddm2', 'custom'])"
      ]
     },
     "execution_count": 22,
     "metadata": {},
     "output_type": "execute_result"
    }
   ],
   "source": [
    "hddm.model_config.model_config.keys()"
   ]
  },
  {
   "cell_type": "code",
   "execution_count": 5,
   "metadata": {},
   "outputs": [],
   "source": [
    "exec('def wienernn_like_test(x, v, a, z, t, p_outlier=0, w_outlier=0.1, network = None):\\n    return hddm.wfpt.wiener_like_nn_mlp(x[\"rt\"].values, x[\"response\"].values, np.array([v, a, z, t], dtype=np.float32), p_outlier=p_outlier, w_outlier=w_outlier, network=network)') # locals(), globals())"
   ]
  },
  {
   "cell_type": "code",
   "execution_count": 9,
   "metadata": {},
   "outputs": [],
   "source": [
    "# hddm.simulators.model_config"
   ]
  },
  {
   "cell_type": "code",
   "execution_count": 4,
   "metadata": {},
   "outputs": [],
   "source": [
    "model = 'custom'\n",
    "n_samples = 500\n",
    "n_subjects = 3\n",
    "n_samples_by_subject = 500\n",
    "includes = hddm.simulators.model_config[model]['hddm_include']"
   ]
  },
  {
   "cell_type": "code",
   "execution_count": 5,
   "metadata": {},
   "outputs": [
    {
     "name": "stdout",
     "output_type": "stream",
     "text": [
      "Model:  ddm\n",
      "Parameters needed:  ['v', 'a', 'z', 't']\n"
     ]
    }
   ],
   "source": [
    "dataset, parameters = hddm.simulators.simulator_single_subject(parameters = np.tile([1.0, 1.0, 0.5, 1.5, 0.5, 0.5, 0.5, 0.5, 0.5], (10, 1)),\n",
    "                                                               model = 'ddm',\n",
    "                                                               n_samples = 1)"
   ]
  },
  {
   "cell_type": "code",
   "execution_count": 5,
   "metadata": {},
   "outputs": [],
   "source": [
    "#hddm.simulators.model_config"
   ]
  },
  {
   "cell_type": "code",
   "execution_count": 6,
   "metadata": {},
   "outputs": [
    {
     "data": {
      "text/html": [
       "<div>\n",
       "<style scoped>\n",
       "    .dataframe tbody tr th:only-of-type {\n",
       "        vertical-align: middle;\n",
       "    }\n",
       "\n",
       "    .dataframe tbody tr th {\n",
       "        vertical-align: top;\n",
       "    }\n",
       "\n",
       "    .dataframe thead th {\n",
       "        text-align: right;\n",
       "    }\n",
       "</style>\n",
       "<table border=\"1\" class=\"dataframe\">\n",
       "  <thead>\n",
       "    <tr style=\"text-align: right;\">\n",
       "      <th></th>\n",
       "      <th>rt</th>\n",
       "      <th>response</th>\n",
       "      <th>subj_idx</th>\n",
       "      <th>v</th>\n",
       "      <th>a</th>\n",
       "      <th>z</th>\n",
       "      <th>t</th>\n",
       "    </tr>\n",
       "  </thead>\n",
       "  <tbody>\n",
       "    <tr>\n",
       "      <th>0</th>\n",
       "      <td>1.881999</td>\n",
       "      <td>1.0</td>\n",
       "      <td>none</td>\n",
       "      <td>1.0</td>\n",
       "      <td>1.0</td>\n",
       "      <td>0.5</td>\n",
       "      <td>1.5</td>\n",
       "    </tr>\n",
       "    <tr>\n",
       "      <th>1</th>\n",
       "      <td>2.121995</td>\n",
       "      <td>1.0</td>\n",
       "      <td>none</td>\n",
       "      <td>1.0</td>\n",
       "      <td>1.0</td>\n",
       "      <td>0.5</td>\n",
       "      <td>1.5</td>\n",
       "    </tr>\n",
       "    <tr>\n",
       "      <th>2</th>\n",
       "      <td>4.700951</td>\n",
       "      <td>1.0</td>\n",
       "      <td>none</td>\n",
       "      <td>1.0</td>\n",
       "      <td>1.0</td>\n",
       "      <td>0.5</td>\n",
       "      <td>1.5</td>\n",
       "    </tr>\n",
       "    <tr>\n",
       "      <th>3</th>\n",
       "      <td>1.944998</td>\n",
       "      <td>1.0</td>\n",
       "      <td>none</td>\n",
       "      <td>1.0</td>\n",
       "      <td>1.0</td>\n",
       "      <td>0.5</td>\n",
       "      <td>1.5</td>\n",
       "    </tr>\n",
       "    <tr>\n",
       "      <th>4</th>\n",
       "      <td>2.603996</td>\n",
       "      <td>1.0</td>\n",
       "      <td>none</td>\n",
       "      <td>1.0</td>\n",
       "      <td>1.0</td>\n",
       "      <td>0.5</td>\n",
       "      <td>1.5</td>\n",
       "    </tr>\n",
       "    <tr>\n",
       "      <th>5</th>\n",
       "      <td>1.964998</td>\n",
       "      <td>1.0</td>\n",
       "      <td>none</td>\n",
       "      <td>1.0</td>\n",
       "      <td>1.0</td>\n",
       "      <td>0.5</td>\n",
       "      <td>1.5</td>\n",
       "    </tr>\n",
       "    <tr>\n",
       "      <th>6</th>\n",
       "      <td>1.933998</td>\n",
       "      <td>1.0</td>\n",
       "      <td>none</td>\n",
       "      <td>1.0</td>\n",
       "      <td>1.0</td>\n",
       "      <td>0.5</td>\n",
       "      <td>1.5</td>\n",
       "    </tr>\n",
       "    <tr>\n",
       "      <th>7</th>\n",
       "      <td>1.950998</td>\n",
       "      <td>1.0</td>\n",
       "      <td>none</td>\n",
       "      <td>1.0</td>\n",
       "      <td>1.0</td>\n",
       "      <td>0.5</td>\n",
       "      <td>1.5</td>\n",
       "    </tr>\n",
       "    <tr>\n",
       "      <th>8</th>\n",
       "      <td>2.867008</td>\n",
       "      <td>0.0</td>\n",
       "      <td>none</td>\n",
       "      <td>1.0</td>\n",
       "      <td>1.0</td>\n",
       "      <td>0.5</td>\n",
       "      <td>1.5</td>\n",
       "    </tr>\n",
       "    <tr>\n",
       "      <th>9</th>\n",
       "      <td>2.042997</td>\n",
       "      <td>1.0</td>\n",
       "      <td>none</td>\n",
       "      <td>1.0</td>\n",
       "      <td>1.0</td>\n",
       "      <td>0.5</td>\n",
       "      <td>1.5</td>\n",
       "    </tr>\n",
       "  </tbody>\n",
       "</table>\n",
       "</div>"
      ],
      "text/plain": [
       "         rt  response subj_idx    v    a    z    t\n",
       "0  1.881999       1.0     none  1.0  1.0  0.5  1.5\n",
       "1  2.121995       1.0     none  1.0  1.0  0.5  1.5\n",
       "2  4.700951       1.0     none  1.0  1.0  0.5  1.5\n",
       "3  1.944998       1.0     none  1.0  1.0  0.5  1.5\n",
       "4  2.603996       1.0     none  1.0  1.0  0.5  1.5\n",
       "5  1.964998       1.0     none  1.0  1.0  0.5  1.5\n",
       "6  1.933998       1.0     none  1.0  1.0  0.5  1.5\n",
       "7  1.950998       1.0     none  1.0  1.0  0.5  1.5\n",
       "8  2.867008       0.0     none  1.0  1.0  0.5  1.5\n",
       "9  2.042997       1.0     none  1.0  1.0  0.5  1.5"
      ]
     },
     "execution_count": 6,
     "metadata": {},
     "output_type": "execute_result"
    }
   ],
   "source": [
    "dataset"
   ]
  },
  {
   "cell_type": "code",
   "execution_count": 4,
   "metadata": {},
   "outputs": [
    {
     "name": "stdout",
     "output_type": "stream",
     "text": [
      "None\n",
      "{'a', 'z', 't', 'v'}\n",
      "new round of data simulation because parameter bounds where violated\n",
      "new round of data simulation because parameter bounds where violated\n"
     ]
    }
   ],
   "source": [
    "# test regressors only False\n",
    "# add p_outliers to the generator !\n",
    "data, full_parameter_dict = hddm.simulators.hddm_dataset_generators.simulator_h_c(n_subjects = n_subjects,\n",
    "                                                                                  n_samples_by_subject = n_samples_by_subject,\n",
    "                                                                                  model = model,\n",
    "                                                                                  p_outlier = 0.00,\n",
    "                                                                                  conditions = None, \n",
    "                                                                                  depends_on = None, \n",
    "                                                                                  regression_models = None,\n",
    "                                                                                  regression_covariates = None,\n",
    "                                                                                  group_only_regressors = False,\n",
    "                                                                                  group_only = None,\n",
    "                                                                                  fixed_at_default = None)"
   ]
  },
  {
   "cell_type": "code",
   "execution_count": 15,
   "metadata": {},
   "outputs": [],
   "source": [
    "#full_parameter_dict"
   ]
  },
  {
   "cell_type": "code",
   "execution_count": 4,
   "metadata": {},
   "outputs": [
    {
     "data": {
      "text/html": [
       "<div>\n",
       "<style scoped>\n",
       "    .dataframe tbody tr th:only-of-type {\n",
       "        vertical-align: middle;\n",
       "    }\n",
       "\n",
       "    .dataframe tbody tr th {\n",
       "        vertical-align: top;\n",
       "    }\n",
       "\n",
       "    .dataframe thead th {\n",
       "        text-align: right;\n",
       "    }\n",
       "</style>\n",
       "<table border=\"1\" class=\"dataframe\">\n",
       "  <thead>\n",
       "    <tr style=\"text-align: right;\">\n",
       "      <th></th>\n",
       "      <th>rt</th>\n",
       "      <th>response</th>\n",
       "      <th>subj_idx</th>\n",
       "      <th>v</th>\n",
       "      <th>a</th>\n",
       "      <th>z</th>\n",
       "      <th>t</th>\n",
       "    </tr>\n",
       "  </thead>\n",
       "  <tbody>\n",
       "    <tr>\n",
       "      <th>0</th>\n",
       "      <td>1.501</td>\n",
       "      <td>1.0</td>\n",
       "      <td>none</td>\n",
       "      <td>1.0</td>\n",
       "      <td>1.0</td>\n",
       "      <td>1.0</td>\n",
       "      <td>1.5</td>\n",
       "    </tr>\n",
       "    <tr>\n",
       "      <th>1</th>\n",
       "      <td>1.501</td>\n",
       "      <td>1.0</td>\n",
       "      <td>none</td>\n",
       "      <td>1.0</td>\n",
       "      <td>1.0</td>\n",
       "      <td>1.0</td>\n",
       "      <td>1.5</td>\n",
       "    </tr>\n",
       "    <tr>\n",
       "      <th>2</th>\n",
       "      <td>1.512</td>\n",
       "      <td>1.0</td>\n",
       "      <td>none</td>\n",
       "      <td>1.0</td>\n",
       "      <td>1.0</td>\n",
       "      <td>1.0</td>\n",
       "      <td>1.5</td>\n",
       "    </tr>\n",
       "    <tr>\n",
       "      <th>3</th>\n",
       "      <td>1.504</td>\n",
       "      <td>1.0</td>\n",
       "      <td>none</td>\n",
       "      <td>1.0</td>\n",
       "      <td>1.0</td>\n",
       "      <td>1.0</td>\n",
       "      <td>1.5</td>\n",
       "    </tr>\n",
       "    <tr>\n",
       "      <th>4</th>\n",
       "      <td>1.501</td>\n",
       "      <td>1.0</td>\n",
       "      <td>none</td>\n",
       "      <td>1.0</td>\n",
       "      <td>1.0</td>\n",
       "      <td>1.0</td>\n",
       "      <td>1.5</td>\n",
       "    </tr>\n",
       "    <tr>\n",
       "      <th>5</th>\n",
       "      <td>1.501</td>\n",
       "      <td>1.0</td>\n",
       "      <td>none</td>\n",
       "      <td>1.0</td>\n",
       "      <td>1.0</td>\n",
       "      <td>1.0</td>\n",
       "      <td>1.5</td>\n",
       "    </tr>\n",
       "    <tr>\n",
       "      <th>6</th>\n",
       "      <td>1.501</td>\n",
       "      <td>1.0</td>\n",
       "      <td>none</td>\n",
       "      <td>1.0</td>\n",
       "      <td>1.0</td>\n",
       "      <td>1.0</td>\n",
       "      <td>1.5</td>\n",
       "    </tr>\n",
       "    <tr>\n",
       "      <th>7</th>\n",
       "      <td>1.503</td>\n",
       "      <td>1.0</td>\n",
       "      <td>none</td>\n",
       "      <td>1.0</td>\n",
       "      <td>1.0</td>\n",
       "      <td>1.0</td>\n",
       "      <td>1.5</td>\n",
       "    </tr>\n",
       "    <tr>\n",
       "      <th>8</th>\n",
       "      <td>1.501</td>\n",
       "      <td>1.0</td>\n",
       "      <td>none</td>\n",
       "      <td>1.0</td>\n",
       "      <td>1.0</td>\n",
       "      <td>1.0</td>\n",
       "      <td>1.5</td>\n",
       "    </tr>\n",
       "    <tr>\n",
       "      <th>9</th>\n",
       "      <td>1.501</td>\n",
       "      <td>1.0</td>\n",
       "      <td>none</td>\n",
       "      <td>1.0</td>\n",
       "      <td>1.0</td>\n",
       "      <td>1.0</td>\n",
       "      <td>1.5</td>\n",
       "    </tr>\n",
       "  </tbody>\n",
       "</table>\n",
       "</div>"
      ],
      "text/plain": [
       "      rt  response subj_idx    v    a    z    t\n",
       "0  1.501       1.0     none  1.0  1.0  1.0  1.5\n",
       "1  1.501       1.0     none  1.0  1.0  1.0  1.5\n",
       "2  1.512       1.0     none  1.0  1.0  1.0  1.5\n",
       "3  1.504       1.0     none  1.0  1.0  1.0  1.5\n",
       "4  1.501       1.0     none  1.0  1.0  1.0  1.5\n",
       "5  1.501       1.0     none  1.0  1.0  1.0  1.5\n",
       "6  1.501       1.0     none  1.0  1.0  1.0  1.5\n",
       "7  1.503       1.0     none  1.0  1.0  1.0  1.5\n",
       "8  1.501       1.0     none  1.0  1.0  1.0  1.5\n",
       "9  1.501       1.0     none  1.0  1.0  1.0  1.5"
      ]
     },
     "execution_count": 4,
     "metadata": {},
     "output_type": "execute_result"
    }
   ],
   "source": [
    "dataset"
   ]
  },
  {
   "cell_type": "code",
   "execution_count": 6,
   "metadata": {},
   "outputs": [
    {
     "name": "stdout",
     "output_type": "stream",
     "text": [
      "Setting priors uninformative (LANs only work with uninformative priors for now)\n",
      "def custom_likelihood(x, v, a, z, t, p_outlier=0.0, w_outlier=0.1, network = None):\n",
      "    return hddm.wfpt.wiener_like_nn_mlp(x[\"rt\"].values, x[\"response\"].values, np.array([v, a, z, t], dtype = np.float32), p_outlier=p_outlier, w_outlier=w_outlier, network=network)\n",
      "{'model': 'custom', 'likelihood_str': 'def custom_likelihood(x, v, a, z, t, p_outlier=0.0, w_outlier=0.1, network = None):\\n    return hddm.wfpt.wiener_like_nn_mlp(x[\"rt\"].values, x[\"response\"].values, np.array([v, a, z, t], dtype = np.float32), p_outlier=p_outlier, w_outlier=w_outlier, network=network)', 'custom_likelihood': <function custom_likelihood at 0x193d954170>}\n",
      "<function custom_likelihood at 0x193d954170>\n",
      "printing self.nn\n",
      "True\n",
      "passed through flip errors nn\n"
     ]
    }
   ],
   "source": [
    "# Define the HDDM model\n",
    "hddmnn_model = hddm.HDDMnn(data = dataset,\n",
    "                           informative = False,\n",
    "                           include = includes,\n",
    "                           p_outlier = 0.0,\n",
    "                           w_outlier = 0.01,\n",
    "                           model = model,\n",
    "                           network_type = 'mlp',\n",
    "                           network = my_network)\n",
    "                           #custom_likelihood = custom_likelihood)"
   ]
  },
  {
   "cell_type": "code",
   "execution_count": 6,
   "metadata": {},
   "outputs": [
    {
     "name": "stdout",
     "output_type": "stream",
     "text": [
      "Setting priors uninformative (LANs only work with uninformative priors for now)\n"
     ]
    }
   ],
   "source": [
    "# Define the HDDM model\n",
    "hddmnn_model_2 = hddm.HDDMnn(dataset,\n",
    "                           informative = False,\n",
    "                           include = includes,\n",
    "                           p_outlier = 0.0,\n",
    "                           w_outlier = 0.01,\n",
    "                           model = 'ddm',\n",
    "                           network_type = 'mlp')"
   ]
  },
  {
   "cell_type": "code",
   "execution_count": 7,
   "metadata": {},
   "outputs": [
    {
     "name": "stdout",
     "output_type": "stream",
     "text": [
      " [-----------------100%-----------------] 300 of 300 complete in 74.5 sec"
     ]
    },
    {
     "data": {
      "text/plain": [
       "<pymc.MCMC.MCMC at 0x193d7507d0>"
      ]
     },
     "execution_count": 7,
     "metadata": {},
     "output_type": "execute_result"
    }
   ],
   "source": [
    "# Sample\n",
    "hddmnn_model.sample(300,\n",
    "                    burn = 100)"
   ]
  },
  {
   "cell_type": "code",
   "execution_count": 8,
   "metadata": {},
   "outputs": [
    {
     "name": "stdout",
     "output_type": "stream",
     "text": [
      " [-----------------100%-----------------] 201 of 200 complete in 36.0 sec"
     ]
    },
    {
     "data": {
      "text/plain": [
       "<pymc.MCMC.MCMC at 0x193991f790>"
      ]
     },
     "execution_count": 8,
     "metadata": {},
     "output_type": "execute_result"
    }
   ],
   "source": [
    "hddmnn_model_2.sample(200,\n",
    "                    burn = 100)"
   ]
  },
  {
   "cell_type": "code",
   "execution_count": 15,
   "metadata": {},
   "outputs": [
    {
     "data": {
      "text/html": [
       "<div>\n",
       "<style scoped>\n",
       "    .dataframe tbody tr th:only-of-type {\n",
       "        vertical-align: middle;\n",
       "    }\n",
       "\n",
       "    .dataframe tbody tr th {\n",
       "        vertical-align: top;\n",
       "    }\n",
       "\n",
       "    .dataframe thead th {\n",
       "        text-align: right;\n",
       "    }\n",
       "</style>\n",
       "<table border=\"1\" class=\"dataframe\">\n",
       "  <thead>\n",
       "    <tr style=\"text-align: right;\">\n",
       "      <th></th>\n",
       "      <th>mean</th>\n",
       "      <th>std</th>\n",
       "      <th>2.5q</th>\n",
       "      <th>25q</th>\n",
       "      <th>50q</th>\n",
       "      <th>75q</th>\n",
       "      <th>97.5q</th>\n",
       "      <th>mc err</th>\n",
       "    </tr>\n",
       "  </thead>\n",
       "  <tbody>\n",
       "    <tr>\n",
       "      <th>v</th>\n",
       "      <td>1.12463</td>\n",
       "      <td>0.119672</td>\n",
       "      <td>0.8798</td>\n",
       "      <td>1.05554</td>\n",
       "      <td>1.13148</td>\n",
       "      <td>1.20449</td>\n",
       "      <td>1.34276</td>\n",
       "      <td>0.0107536</td>\n",
       "    </tr>\n",
       "    <tr>\n",
       "      <th>a</th>\n",
       "      <td>1.02496</td>\n",
       "      <td>0.0747661</td>\n",
       "      <td>0.915498</td>\n",
       "      <td>0.9649</td>\n",
       "      <td>1.00635</td>\n",
       "      <td>1.07976</td>\n",
       "      <td>1.20283</td>\n",
       "      <td>0.0073899</td>\n",
       "    </tr>\n",
       "    <tr>\n",
       "      <th>z</th>\n",
       "      <td>0.488928</td>\n",
       "      <td>0.0238204</td>\n",
       "      <td>0.450107</td>\n",
       "      <td>0.473021</td>\n",
       "      <td>0.484574</td>\n",
       "      <td>0.505015</td>\n",
       "      <td>0.54463</td>\n",
       "      <td>0.00221661</td>\n",
       "    </tr>\n",
       "    <tr>\n",
       "      <th>t</th>\n",
       "      <td>1.50675</td>\n",
       "      <td>0.0216993</td>\n",
       "      <td>1.45211</td>\n",
       "      <td>1.49452</td>\n",
       "      <td>1.51173</td>\n",
       "      <td>1.52389</td>\n",
       "      <td>1.53601</td>\n",
       "      <td>0.00212226</td>\n",
       "    </tr>\n",
       "    <tr>\n",
       "      <th>theta</th>\n",
       "      <td>0.538088</td>\n",
       "      <td>0.0590262</td>\n",
       "      <td>0.437324</td>\n",
       "      <td>0.493641</td>\n",
       "      <td>0.53344</td>\n",
       "      <td>0.588766</td>\n",
       "      <td>0.659451</td>\n",
       "      <td>0.00578311</td>\n",
       "    </tr>\n",
       "  </tbody>\n",
       "</table>\n",
       "</div>"
      ],
      "text/plain": [
       "           mean        std      2.5q       25q       50q       75q     97.5q  \\\n",
       "v       1.12463   0.119672    0.8798   1.05554   1.13148   1.20449   1.34276   \n",
       "a       1.02496  0.0747661  0.915498    0.9649   1.00635   1.07976   1.20283   \n",
       "z      0.488928  0.0238204  0.450107  0.473021  0.484574  0.505015   0.54463   \n",
       "t       1.50675  0.0216993   1.45211   1.49452   1.51173   1.52389   1.53601   \n",
       "theta  0.538088  0.0590262  0.437324  0.493641   0.53344  0.588766  0.659451   \n",
       "\n",
       "           mc err  \n",
       "v       0.0107536  \n",
       "a       0.0073899  \n",
       "z      0.00221661  \n",
       "t      0.00212226  \n",
       "theta  0.00578311  "
      ]
     },
     "execution_count": 15,
     "metadata": {},
     "output_type": "execute_result"
    }
   ],
   "source": [
    "hddmnn_model.gen_stats()"
   ]
  },
  {
   "cell_type": "code",
   "execution_count": 15,
   "metadata": {},
   "outputs": [
    {
     "data": {
      "text/html": [
       "<div>\n",
       "<style scoped>\n",
       "    .dataframe tbody tr th:only-of-type {\n",
       "        vertical-align: middle;\n",
       "    }\n",
       "\n",
       "    .dataframe tbody tr th {\n",
       "        vertical-align: top;\n",
       "    }\n",
       "\n",
       "    .dataframe thead th {\n",
       "        text-align: right;\n",
       "    }\n",
       "</style>\n",
       "<table border=\"1\" class=\"dataframe\">\n",
       "  <thead>\n",
       "    <tr style=\"text-align: right;\">\n",
       "      <th></th>\n",
       "      <th>mean</th>\n",
       "      <th>std</th>\n",
       "      <th>2.5q</th>\n",
       "      <th>25q</th>\n",
       "      <th>50q</th>\n",
       "      <th>75q</th>\n",
       "      <th>97.5q</th>\n",
       "      <th>mc err</th>\n",
       "    </tr>\n",
       "  </thead>\n",
       "  <tbody>\n",
       "    <tr>\n",
       "      <th>a</th>\n",
       "      <td>1.52525</td>\n",
       "      <td>0.0205127</td>\n",
       "      <td>1.47864</td>\n",
       "      <td>1.51348</td>\n",
       "      <td>1.52686</td>\n",
       "      <td>1.53854</td>\n",
       "      <td>1.56673</td>\n",
       "      <td>0.0017328</td>\n",
       "    </tr>\n",
       "    <tr>\n",
       "      <th>v</th>\n",
       "      <td>0.00320466</td>\n",
       "      <td>0.0248069</td>\n",
       "      <td>-0.0490943</td>\n",
       "      <td>-0.012687</td>\n",
       "      <td>0.00542632</td>\n",
       "      <td>0.0196447</td>\n",
       "      <td>0.0510003</td>\n",
       "      <td>0.00197501</td>\n",
       "    </tr>\n",
       "    <tr>\n",
       "      <th>t</th>\n",
       "      <td>1.516</td>\n",
       "      <td>0.0232537</td>\n",
       "      <td>1.46968</td>\n",
       "      <td>1.50212</td>\n",
       "      <td>1.51502</td>\n",
       "      <td>1.52972</td>\n",
       "      <td>1.56662</td>\n",
       "      <td>0.00178426</td>\n",
       "    </tr>\n",
       "    <tr>\n",
       "      <th>z</th>\n",
       "      <td>0.517949</td>\n",
       "      <td>0.0100415</td>\n",
       "      <td>0.500545</td>\n",
       "      <td>0.511033</td>\n",
       "      <td>0.517653</td>\n",
       "      <td>0.524364</td>\n",
       "      <td>0.539349</td>\n",
       "      <td>0.000775859</td>\n",
       "    </tr>\n",
       "  </tbody>\n",
       "</table>\n",
       "</div>"
      ],
      "text/plain": [
       "         mean        std       2.5q       25q         50q        75q  \\\n",
       "a     1.52525  0.0205127    1.47864   1.51348     1.52686    1.53854   \n",
       "v  0.00320466  0.0248069 -0.0490943 -0.012687  0.00542632  0.0196447   \n",
       "t       1.516  0.0232537    1.46968   1.50212     1.51502    1.52972   \n",
       "z    0.517949  0.0100415   0.500545  0.511033    0.517653   0.524364   \n",
       "\n",
       "       97.5q       mc err  \n",
       "a    1.56673    0.0017328  \n",
       "v  0.0510003   0.00197501  \n",
       "t    1.56662   0.00178426  \n",
       "z   0.539349  0.000775859  "
      ]
     },
     "execution_count": 15,
     "metadata": {},
     "output_type": "execute_result"
    }
   ],
   "source": [
    "hddmnn_model_2.gen_stats()"
   ]
  },
  {
   "cell_type": "code",
   "execution_count": 139,
   "metadata": {},
   "outputs": [],
   "source": [
    "# TAKING A LOOK AT THE POSTERIOR TRACES\n",
    "# hddmnn_model.plot_posteriors(hddm.simulators.model_config[model]['params'])\n",
    "# plt.show()"
   ]
  },
  {
   "cell_type": "code",
   "execution_count": 140,
   "metadata": {},
   "outputs": [],
   "source": [
    "import inspect\n",
    "my_kwargs = {'e':['a', 'b'], 'f': my_new_fun}\n",
    "def my_new_fun_locals(**my_kwargs):\n",
    "    x = locals()\n",
    "    #print(locals())\n",
    "    return\n",
    "\n",
    "def my_new_fun(a = 0, b = 0):\n",
    "    x = {'a': a, 'b': b}\n",
    "    return\n",
    "def my_new_fun_inspect(a = 0, b = 0, **kwargs):\n",
    "    inspect.getcallargs(my_new_fun_inspect)\n",
    "    return"
   ]
  },
  {
   "cell_type": "code",
   "execution_count": null,
   "metadata": {},
   "outputs": [],
   "source": []
  },
  {
   "cell_type": "code",
   "execution_count": 14,
   "metadata": {},
   "outputs": [],
   "source": [
    "from functools import partial\n",
    "my_params = {'a': 0, 'b': 0, 'c': 0}\n",
    "my_params_2 = {'d': 0, 'e': 0}\n",
    "def my_fun(**kwargs):\n",
    "    print(locals())\n",
    "    return a + b\n",
    "\n",
    "#my_fun(**my_params, **my_params_2)"
   ]
  },
  {
   "cell_type": "code",
   "execution_count": 19,
   "metadata": {},
   "outputs": [],
   "source": [
    "new_my_fun = partial(my_fun, **my_params)"
   ]
  },
  {
   "cell_type": "code",
   "execution_count": 20,
   "metadata": {},
   "outputs": [
    {
     "name": "stdout",
     "output_type": "stream",
     "text": [
      "{'kwargs': {'a': 0, 'b': 0, 'c': 0}}\n"
     ]
    },
    {
     "ename": "NameError",
     "evalue": "name 'a' is not defined",
     "output_type": "error",
     "traceback": [
      "\u001b[0;31m---------------------------------------------------------------------------\u001b[0m",
      "\u001b[0;31mNameError\u001b[0m                                 Traceback (most recent call last)",
      "\u001b[0;32m<ipython-input-20-7d3eb1a9911f>\u001b[0m in \u001b[0;36m<module>\u001b[0;34m\u001b[0m\n\u001b[0;32m----> 1\u001b[0;31m \u001b[0mnew_my_fun\u001b[0m\u001b[0;34m(\u001b[0m\u001b[0;34m)\u001b[0m\u001b[0;34m\u001b[0m\u001b[0;34m\u001b[0m\u001b[0m\n\u001b[0m",
      "\u001b[0;32m<ipython-input-14-9fd5fdc2776e>\u001b[0m in \u001b[0;36mmy_fun\u001b[0;34m(**kwargs)\u001b[0m\n\u001b[1;32m      4\u001b[0m \u001b[0;32mdef\u001b[0m \u001b[0mmy_fun\u001b[0m\u001b[0;34m(\u001b[0m\u001b[0;34m**\u001b[0m\u001b[0mkwargs\u001b[0m\u001b[0;34m)\u001b[0m\u001b[0;34m:\u001b[0m\u001b[0;34m\u001b[0m\u001b[0;34m\u001b[0m\u001b[0m\n\u001b[1;32m      5\u001b[0m     \u001b[0mprint\u001b[0m\u001b[0;34m(\u001b[0m\u001b[0mlocals\u001b[0m\u001b[0;34m(\u001b[0m\u001b[0;34m)\u001b[0m\u001b[0;34m)\u001b[0m\u001b[0;34m\u001b[0m\u001b[0;34m\u001b[0m\u001b[0m\n\u001b[0;32m----> 6\u001b[0;31m     \u001b[0;32mreturn\u001b[0m \u001b[0ma\u001b[0m \u001b[0;34m+\u001b[0m \u001b[0mb\u001b[0m\u001b[0;34m\u001b[0m\u001b[0;34m\u001b[0m\u001b[0m\n\u001b[0m\u001b[1;32m      7\u001b[0m \u001b[0;34m\u001b[0m\u001b[0m\n\u001b[1;32m      8\u001b[0m \u001b[0;31m#my_fun(**my_params, **my_params_2)\u001b[0m\u001b[0;34m\u001b[0m\u001b[0;34m\u001b[0m\u001b[0;34m\u001b[0m\u001b[0m\n",
      "\u001b[0;31mNameError\u001b[0m: name 'a' is not defined"
     ]
    }
   ],
   "source": [
    "new_my_fun()"
   ]
  },
  {
   "cell_type": "code",
   "execution_count": 25,
   "metadata": {},
   "outputs": [
    {
     "data": {
      "text/plain": [
       "('a', 'b')"
      ]
     },
     "execution_count": 25,
     "metadata": {},
     "output_type": "execute_result"
    }
   ],
   "source": [
    "my_new_fun.__code__.co_varnames"
   ]
  },
  {
   "cell_type": "code",
   "execution_count": 141,
   "metadata": {},
   "outputs": [
    {
     "name": "stdout",
     "output_type": "stream",
     "text": [
      "0.004171609878540039\n"
     ]
    }
   ],
   "source": [
    "import time\n",
    "st = time.time()\n",
    "for i in range(1000):\n",
    "    my_new_fun_locals(4, 4, 4, 4)\n",
    "print(time.time() - st)"
   ]
  },
  {
   "cell_type": "code",
   "execution_count": 122,
   "metadata": {},
   "outputs": [
    {
     "name": "stdout",
     "output_type": "stream",
     "text": [
      "0.0015752315521240234\n"
     ]
    }
   ],
   "source": [
    "import time\n",
    "st = time.time()\n",
    "for i in range(1000):\n",
    "    #my_new_fun()\n",
    "    my_new_fun.__code__.co_varnames\n",
    "print(time.time() - st)"
   ]
  },
  {
   "cell_type": "code",
   "execution_count": 133,
   "metadata": {},
   "outputs": [
    {
     "name": "stdout",
     "output_type": "stream",
     "text": [
      "0.39371299743652344\n"
     ]
    }
   ],
   "source": [
    "import time\n",
    "st = time.time()\n",
    "for i in range(1000):\n",
    "    #my_new_fun()\n",
    "    my_new_fun_inspect()\n",
    "print(time.time() - st)"
   ]
  },
  {
   "cell_type": "code",
   "execution_count": 22,
   "metadata": {},
   "outputs": [],
   "source": [
    "def my_fun_args(*args):\n",
    "    print(args)\n",
    "    return args"
   ]
  },
  {
   "cell_type": "code",
   "execution_count": 24,
   "metadata": {},
   "outputs": [
    {
     "name": "stdout",
     "output_type": "stream",
     "text": [
      "(0, 0, 0)\n"
     ]
    },
    {
     "data": {
      "text/plain": [
       "(0, 0, 0)"
      ]
     },
     "execution_count": 24,
     "metadata": {},
     "output_type": "execute_result"
    }
   ],
   "source": [
    "my_fun_args(0, 0, 0)"
   ]
  },
  {
   "cell_type": "markdown",
   "metadata": {},
   "source": [
    "# REGRESSOR TESTS"
   ]
  },
  {
   "cell_type": "code",
   "execution_count": 2,
   "metadata": {},
   "outputs": [],
   "source": [
    "# Metadata\n",
    "nmcmc = 200\n",
    "model = 'ddm'\n",
    "n_samples_by_subject = 500"
   ]
  },
  {
   "cell_type": "code",
   "execution_count": 3,
   "metadata": {},
   "outputs": [
    {
     "name": "stdout",
     "output_type": "stream",
     "text": [
      "None\n",
      "{'z', 'a'}\n",
      "1.1818038691925339\n",
      "0.1247023884086198\n"
     ]
    }
   ],
   "source": [
    "# test regressors only False\n",
    "# add p_outliers to the generator !\n",
    "data, full_parameter_dict = hddm.simulators.hddm_dataset_generators.simulator_h_c(n_subjects = 3,\n",
    "                                                                                  n_samples_by_subject = n_samples_by_subject,\n",
    "                                                                                  model = model,\n",
    "                                                                                  p_outlier = 0.00,\n",
    "                                                                                  conditions = None, # {'c_one': ['low', 'medium', 'high']}, #, 'c_three': ['low', 'medium', 'high']},\n",
    "                                                                                  depends_on = None, # {'v': ['c_one']}, # 'theta': ['c_two']}, # 'theta': ['c_two']}, #regression_models = None,\n",
    "                                                                                  regression_models = ['t ~ 1 + covariate_name', 'v ~ 1 + covariate_name'], #regression_covariates = None, \n",
    "                                                                                  regression_covariates = {'covariate_name': {'type': 'continuous', 'range': (0, 1)}}, # need this to make initial covariate matrix from which to use dmatrix (patsy)\n",
    "                                                                                  group_only_regressors = False,\n",
    "                                                                                  group_only = None,\n",
    "                                                                                  fixed_at_default = None)\n",
    "                                                                                  #fixed_at_default = ['z'])"
   ]
  },
  {
   "cell_type": "code",
   "execution_count": 4,
   "metadata": {},
   "outputs": [],
   "source": [
    "# Set up the regressor a regressor:\n",
    "reg_model_v = {'model': 'v ~ 1 + covariate_name', 'link_func': lambda x: x}\n",
    "reg_model_t = {'model': 't ~ 1 + covariate_name', 'link_func': lambda x: x}\n",
    "reg_descr = [reg_model_t, reg_model_v]"
   ]
  },
  {
   "cell_type": "code",
   "execution_count": 5,
   "metadata": {},
   "outputs": [
    {
     "name": "stdout",
     "output_type": "stream",
     "text": [
      "Setting priors uninformative (LANs only work with uninformative priors for now)\n",
      "WARNING:tensorflow:From /Users/afengler/opt/miniconda3/envs/hddmnn_tutorial/lib/python3.7/site-packages/tensorflow_core/python/ops/resource_variable_ops.py:1630: calling BaseResourceVariable.__init__ (from tensorflow.python.ops.resource_variable_ops) with constraint is deprecated and will be removed in a future version.\n",
      "Instructions for updating:\n",
      "If using Keras pass *_constraint arguments to layers.\n",
      "Adding these covariates:\n",
      "['t_Intercept', 't_covariate_name']\n",
      "Adding these covariates:\n",
      "['v_Intercept', 'v_covariate_name']\n",
      "printing self.nn\n",
      "True\n",
      "passed through flip errors nn\n"
     ]
    }
   ],
   "source": [
    "# Make HDDM model\n",
    "hddmnn_reg = hddm.HDDMnnRegressor(data,\n",
    "                                  reg_descr,\n",
    "                                  include = hddm.simulators.model_config[model]['hddm_include'],\n",
    "                                  model = model,\n",
    "                                  informative = False,\n",
    "                                  p_outlier = 0.0)"
   ]
  },
  {
   "cell_type": "code",
   "execution_count": 6,
   "metadata": {},
   "outputs": [
    {
     "name": "stdout",
     "output_type": "stream",
     "text": [
      "boundary violation of regressor part\n",
      " [-----------------100%-----------------] 201 of 200 complete in 324.1 sec"
     ]
    },
    {
     "data": {
      "text/plain": [
       "<pymc.MCMC.MCMC at 0x1940fb2e50>"
      ]
     },
     "execution_count": 6,
     "metadata": {},
     "output_type": "execute_result"
    }
   ],
   "source": [
    "# Sample\n",
    "hddmnn_reg.sample(nmcmc, burn = 100)"
   ]
  },
  {
   "cell_type": "code",
   "execution_count": 7,
   "metadata": {},
   "outputs": [
    {
     "name": "stdout",
     "output_type": "stream",
     "text": [
      "Setting priors uninformative (LANs only work with uninformative priors for now)\n",
      "Adding these covariates:\n",
      "['t_Intercept', 't_covariate_name']\n",
      "Adding these covariates:\n",
      "['v_Intercept', 'v_covariate_name']\n",
      "printing self.nn\n",
      "True\n",
      "passed through flip errors nn\n"
     ]
    }
   ],
   "source": [
    "# Make HDDM model\n",
    "hddmnn_reg_test = hddm.HDDMnnRegressor(data,\n",
    "                                  reg_descr,\n",
    "                                  include = hddm.simulators.model_config[model]['hddm_include'],\n",
    "                                  model = 'test',\n",
    "                                  informative = False,\n",
    "                                  p_outlier = 0.0)"
   ]
  },
  {
   "cell_type": "code",
   "execution_count": 11,
   "metadata": {},
   "outputs": [
    {
     "data": {
      "text/html": [
       "<div>\n",
       "<style scoped>\n",
       "    .dataframe tbody tr th:only-of-type {\n",
       "        vertical-align: middle;\n",
       "    }\n",
       "\n",
       "    .dataframe tbody tr th {\n",
       "        vertical-align: top;\n",
       "    }\n",
       "\n",
       "    .dataframe thead th {\n",
       "        text-align: right;\n",
       "    }\n",
       "</style>\n",
       "<table border=\"1\" class=\"dataframe\">\n",
       "  <thead>\n",
       "    <tr style=\"text-align: right;\">\n",
       "      <th></th>\n",
       "      <th>mean</th>\n",
       "      <th>std</th>\n",
       "      <th>2.5q</th>\n",
       "      <th>25q</th>\n",
       "      <th>50q</th>\n",
       "      <th>75q</th>\n",
       "      <th>97.5q</th>\n",
       "      <th>mc err</th>\n",
       "    </tr>\n",
       "  </thead>\n",
       "  <tbody>\n",
       "    <tr>\n",
       "      <th>a</th>\n",
       "      <td>0.537122</td>\n",
       "      <td>0.120225</td>\n",
       "      <td>0.320335</td>\n",
       "      <td>0.466069</td>\n",
       "      <td>0.552536</td>\n",
       "      <td>0.584853</td>\n",
       "      <td>0.831519</td>\n",
       "      <td>0.0120225</td>\n",
       "    </tr>\n",
       "    <tr>\n",
       "      <th>a_std</th>\n",
       "      <td>0.243438</td>\n",
       "      <td>0.221195</td>\n",
       "      <td>0.034623</td>\n",
       "      <td>0.0689392</td>\n",
       "      <td>0.169895</td>\n",
       "      <td>0.359315</td>\n",
       "      <td>0.815044</td>\n",
       "      <td>0.0221195</td>\n",
       "    </tr>\n",
       "    <tr>\n",
       "      <th>a_subj.0</th>\n",
       "      <td>0.50095</td>\n",
       "      <td>0.0113829</td>\n",
       "      <td>0.478984</td>\n",
       "      <td>0.491623</td>\n",
       "      <td>0.500177</td>\n",
       "      <td>0.508992</td>\n",
       "      <td>0.526924</td>\n",
       "      <td>0.00113829</td>\n",
       "    </tr>\n",
       "    <tr>\n",
       "      <th>a_subj.1</th>\n",
       "      <td>0.619116</td>\n",
       "      <td>0.0147156</td>\n",
       "      <td>0.591596</td>\n",
       "      <td>0.608366</td>\n",
       "      <td>0.619792</td>\n",
       "      <td>0.628597</td>\n",
       "      <td>0.646673</td>\n",
       "      <td>0.00147156</td>\n",
       "    </tr>\n",
       "    <tr>\n",
       "      <th>a_subj.2</th>\n",
       "      <td>0.559903</td>\n",
       "      <td>0.0119464</td>\n",
       "      <td>0.539424</td>\n",
       "      <td>0.552385</td>\n",
       "      <td>0.559858</td>\n",
       "      <td>0.567952</td>\n",
       "      <td>0.58621</td>\n",
       "      <td>0.00119464</td>\n",
       "    </tr>\n",
       "    <tr>\n",
       "      <th>z</th>\n",
       "      <td>0.395161</td>\n",
       "      <td>0.063375</td>\n",
       "      <td>0.289854</td>\n",
       "      <td>0.35354</td>\n",
       "      <td>0.383258</td>\n",
       "      <td>0.425143</td>\n",
       "      <td>0.57019</td>\n",
       "      <td>0.0063375</td>\n",
       "    </tr>\n",
       "    <tr>\n",
       "      <th>z_std</th>\n",
       "      <td>0.532713</td>\n",
       "      <td>0.225035</td>\n",
       "      <td>0.215669</td>\n",
       "      <td>0.389025</td>\n",
       "      <td>0.488875</td>\n",
       "      <td>0.648572</td>\n",
       "      <td>1.06035</td>\n",
       "      <td>0.0225035</td>\n",
       "    </tr>\n",
       "    <tr>\n",
       "      <th>z_subj.0</th>\n",
       "      <td>0.462136</td>\n",
       "      <td>0.0164193</td>\n",
       "      <td>0.425072</td>\n",
       "      <td>0.450178</td>\n",
       "      <td>0.463651</td>\n",
       "      <td>0.474224</td>\n",
       "      <td>0.48891</td>\n",
       "      <td>0.00164193</td>\n",
       "    </tr>\n",
       "    <tr>\n",
       "      <th>z_subj.1</th>\n",
       "      <td>0.401564</td>\n",
       "      <td>0.0161476</td>\n",
       "      <td>0.364433</td>\n",
       "      <td>0.392274</td>\n",
       "      <td>0.404518</td>\n",
       "      <td>0.41214</td>\n",
       "      <td>0.430888</td>\n",
       "      <td>0.00161476</td>\n",
       "    </tr>\n",
       "    <tr>\n",
       "      <th>z_subj.2</th>\n",
       "      <td>0.313883</td>\n",
       "      <td>0.0146515</td>\n",
       "      <td>0.285507</td>\n",
       "      <td>0.302262</td>\n",
       "      <td>0.317003</td>\n",
       "      <td>0.327071</td>\n",
       "      <td>0.336895</td>\n",
       "      <td>0.00146515</td>\n",
       "    </tr>\n",
       "    <tr>\n",
       "      <th>t_Intercept</th>\n",
       "      <td>1.16098</td>\n",
       "      <td>0.26175</td>\n",
       "      <td>0.537303</td>\n",
       "      <td>1.097</td>\n",
       "      <td>1.15652</td>\n",
       "      <td>1.20872</td>\n",
       "      <td>1.9304</td>\n",
       "      <td>0.026175</td>\n",
       "    </tr>\n",
       "    <tr>\n",
       "      <th>t_Intercept_std</th>\n",
       "      <td>0.31059</td>\n",
       "      <td>0.252666</td>\n",
       "      <td>0.0601217</td>\n",
       "      <td>0.111971</td>\n",
       "      <td>0.202342</td>\n",
       "      <td>0.464432</td>\n",
       "      <td>0.944043</td>\n",
       "      <td>0.0252666</td>\n",
       "    </tr>\n",
       "    <tr>\n",
       "      <th>t_Intercept_subj.0</th>\n",
       "      <td>1.16033</td>\n",
       "      <td>0.00615319</td>\n",
       "      <td>1.15124</td>\n",
       "      <td>1.15695</td>\n",
       "      <td>1.15971</td>\n",
       "      <td>1.16381</td>\n",
       "      <td>1.17791</td>\n",
       "      <td>0.000615319</td>\n",
       "    </tr>\n",
       "    <tr>\n",
       "      <th>t_Intercept_subj.1</th>\n",
       "      <td>1.03396</td>\n",
       "      <td>0.00927</td>\n",
       "      <td>1.01966</td>\n",
       "      <td>1.02753</td>\n",
       "      <td>1.03417</td>\n",
       "      <td>1.03886</td>\n",
       "      <td>1.0598</td>\n",
       "      <td>0.000927</td>\n",
       "    </tr>\n",
       "    <tr>\n",
       "      <th>t_Intercept_subj.2</th>\n",
       "      <td>1.2218</td>\n",
       "      <td>0.00472163</td>\n",
       "      <td>1.21311</td>\n",
       "      <td>1.21846</td>\n",
       "      <td>1.22187</td>\n",
       "      <td>1.22548</td>\n",
       "      <td>1.23116</td>\n",
       "      <td>0.000472163</td>\n",
       "    </tr>\n",
       "    <tr>\n",
       "      <th>t_covariate_name</th>\n",
       "      <td>0.146465</td>\n",
       "      <td>0.00743903</td>\n",
       "      <td>0.125555</td>\n",
       "      <td>0.143419</td>\n",
       "      <td>0.147157</td>\n",
       "      <td>0.15159</td>\n",
       "      <td>0.159596</td>\n",
       "      <td>0.000743903</td>\n",
       "    </tr>\n",
       "    <tr>\n",
       "      <th>v_Intercept</th>\n",
       "      <td>0.204883</td>\n",
       "      <td>0.205851</td>\n",
       "      <td>-0.126202</td>\n",
       "      <td>0.0948829</td>\n",
       "      <td>0.176953</td>\n",
       "      <td>0.278496</td>\n",
       "      <td>0.712426</td>\n",
       "      <td>0.0205851</td>\n",
       "    </tr>\n",
       "    <tr>\n",
       "      <th>v_Intercept_std</th>\n",
       "      <td>0.302892</td>\n",
       "      <td>0.267923</td>\n",
       "      <td>0.0340164</td>\n",
       "      <td>0.10752</td>\n",
       "      <td>0.214462</td>\n",
       "      <td>0.427022</td>\n",
       "      <td>1.06559</td>\n",
       "      <td>0.0267923</td>\n",
       "    </tr>\n",
       "    <tr>\n",
       "      <th>v_Intercept_subj.0</th>\n",
       "      <td>0.188325</td>\n",
       "      <td>0.111419</td>\n",
       "      <td>0.0287927</td>\n",
       "      <td>0.107073</td>\n",
       "      <td>0.171747</td>\n",
       "      <td>0.263675</td>\n",
       "      <td>0.418909</td>\n",
       "      <td>0.0111419</td>\n",
       "    </tr>\n",
       "    <tr>\n",
       "      <th>v_Intercept_subj.1</th>\n",
       "      <td>0.056324</td>\n",
       "      <td>0.125932</td>\n",
       "      <td>-0.175077</td>\n",
       "      <td>-0.0244099</td>\n",
       "      <td>0.0738216</td>\n",
       "      <td>0.143651</td>\n",
       "      <td>0.327521</td>\n",
       "      <td>0.0125932</td>\n",
       "    </tr>\n",
       "    <tr>\n",
       "      <th>v_Intercept_subj.2</th>\n",
       "      <td>0.266294</td>\n",
       "      <td>0.0991842</td>\n",
       "      <td>0.0706659</td>\n",
       "      <td>0.196858</td>\n",
       "      <td>0.276204</td>\n",
       "      <td>0.338382</td>\n",
       "      <td>0.428237</td>\n",
       "      <td>0.00991842</td>\n",
       "    </tr>\n",
       "    <tr>\n",
       "      <th>v_covariate_name</th>\n",
       "      <td>-0.160745</td>\n",
       "      <td>0.146061</td>\n",
       "      <td>-0.459335</td>\n",
       "      <td>-0.26571</td>\n",
       "      <td>-0.168412</td>\n",
       "      <td>-0.0399125</td>\n",
       "      <td>0.105245</td>\n",
       "      <td>0.0146061</td>\n",
       "    </tr>\n",
       "  </tbody>\n",
       "</table>\n",
       "</div>"
      ],
      "text/plain": [
       "                        mean         std       2.5q        25q        50q  \\\n",
       "a                   0.537122    0.120225   0.320335   0.466069   0.552536   \n",
       "a_std               0.243438    0.221195   0.034623  0.0689392   0.169895   \n",
       "a_subj.0             0.50095   0.0113829   0.478984   0.491623   0.500177   \n",
       "a_subj.1            0.619116   0.0147156   0.591596   0.608366   0.619792   \n",
       "a_subj.2            0.559903   0.0119464   0.539424   0.552385   0.559858   \n",
       "z                   0.395161    0.063375   0.289854    0.35354   0.383258   \n",
       "z_std               0.532713    0.225035   0.215669   0.389025   0.488875   \n",
       "z_subj.0            0.462136   0.0164193   0.425072   0.450178   0.463651   \n",
       "z_subj.1            0.401564   0.0161476   0.364433   0.392274   0.404518   \n",
       "z_subj.2            0.313883   0.0146515   0.285507   0.302262   0.317003   \n",
       "t_Intercept          1.16098     0.26175   0.537303      1.097    1.15652   \n",
       "t_Intercept_std      0.31059    0.252666  0.0601217   0.111971   0.202342   \n",
       "t_Intercept_subj.0   1.16033  0.00615319    1.15124    1.15695    1.15971   \n",
       "t_Intercept_subj.1   1.03396     0.00927    1.01966    1.02753    1.03417   \n",
       "t_Intercept_subj.2    1.2218  0.00472163    1.21311    1.21846    1.22187   \n",
       "t_covariate_name    0.146465  0.00743903   0.125555   0.143419   0.147157   \n",
       "v_Intercept         0.204883    0.205851  -0.126202  0.0948829   0.176953   \n",
       "v_Intercept_std     0.302892    0.267923  0.0340164    0.10752   0.214462   \n",
       "v_Intercept_subj.0  0.188325    0.111419  0.0287927   0.107073   0.171747   \n",
       "v_Intercept_subj.1  0.056324    0.125932  -0.175077 -0.0244099  0.0738216   \n",
       "v_Intercept_subj.2  0.266294   0.0991842  0.0706659   0.196858   0.276204   \n",
       "v_covariate_name   -0.160745    0.146061  -0.459335   -0.26571  -0.168412   \n",
       "\n",
       "                          75q     97.5q       mc err  \n",
       "a                    0.584853  0.831519    0.0120225  \n",
       "a_std                0.359315  0.815044    0.0221195  \n",
       "a_subj.0             0.508992  0.526924   0.00113829  \n",
       "a_subj.1             0.628597  0.646673   0.00147156  \n",
       "a_subj.2             0.567952   0.58621   0.00119464  \n",
       "z                    0.425143   0.57019    0.0063375  \n",
       "z_std                0.648572   1.06035    0.0225035  \n",
       "z_subj.0             0.474224   0.48891   0.00164193  \n",
       "z_subj.1              0.41214  0.430888   0.00161476  \n",
       "z_subj.2             0.327071  0.336895   0.00146515  \n",
       "t_Intercept           1.20872    1.9304     0.026175  \n",
       "t_Intercept_std      0.464432  0.944043    0.0252666  \n",
       "t_Intercept_subj.0    1.16381   1.17791  0.000615319  \n",
       "t_Intercept_subj.1    1.03886    1.0598     0.000927  \n",
       "t_Intercept_subj.2    1.22548   1.23116  0.000472163  \n",
       "t_covariate_name      0.15159  0.159596  0.000743903  \n",
       "v_Intercept          0.278496  0.712426    0.0205851  \n",
       "v_Intercept_std      0.427022   1.06559    0.0267923  \n",
       "v_Intercept_subj.0   0.263675  0.418909    0.0111419  \n",
       "v_Intercept_subj.1   0.143651  0.327521    0.0125932  \n",
       "v_Intercept_subj.2   0.338382  0.428237   0.00991842  \n",
       "v_covariate_name   -0.0399125  0.105245    0.0146061  "
      ]
     },
     "execution_count": 11,
     "metadata": {},
     "output_type": "execute_result"
    }
   ],
   "source": [
    "hddmnn_reg.gen_stats()"
   ]
  },
  {
   "cell_type": "code",
   "execution_count": 8,
   "metadata": {},
   "outputs": [
    {
     "name": "stdout",
     "output_type": "stream",
     "text": [
      " [-----------------100%-----------------] 201 of 200 complete in 243.8 sec"
     ]
    },
    {
     "data": {
      "text/plain": [
       "<pymc.MCMC.MCMC at 0x1941645050>"
      ]
     },
     "execution_count": 8,
     "metadata": {},
     "output_type": "execute_result"
    }
   ],
   "source": [
    "# Sample\n",
    "hddmnn_reg_test.sample(nmcmc, burn = 100)"
   ]
  },
  {
   "cell_type": "code",
   "execution_count": 9,
   "metadata": {},
   "outputs": [
    {
     "data": {
      "text/html": [
       "<div>\n",
       "<style scoped>\n",
       "    .dataframe tbody tr th:only-of-type {\n",
       "        vertical-align: middle;\n",
       "    }\n",
       "\n",
       "    .dataframe tbody tr th {\n",
       "        vertical-align: top;\n",
       "    }\n",
       "\n",
       "    .dataframe thead th {\n",
       "        text-align: right;\n",
       "    }\n",
       "</style>\n",
       "<table border=\"1\" class=\"dataframe\">\n",
       "  <thead>\n",
       "    <tr style=\"text-align: right;\">\n",
       "      <th></th>\n",
       "      <th>mean</th>\n",
       "      <th>std</th>\n",
       "      <th>2.5q</th>\n",
       "      <th>25q</th>\n",
       "      <th>50q</th>\n",
       "      <th>75q</th>\n",
       "      <th>97.5q</th>\n",
       "      <th>mc err</th>\n",
       "    </tr>\n",
       "  </thead>\n",
       "  <tbody>\n",
       "    <tr>\n",
       "      <th>a</th>\n",
       "      <td>0.545295</td>\n",
       "      <td>0.10129</td>\n",
       "      <td>0.316407</td>\n",
       "      <td>0.50524</td>\n",
       "      <td>0.556521</td>\n",
       "      <td>0.584349</td>\n",
       "      <td>0.747605</td>\n",
       "      <td>0.010129</td>\n",
       "    </tr>\n",
       "    <tr>\n",
       "      <th>a_std</th>\n",
       "      <td>0.195147</td>\n",
       "      <td>0.195439</td>\n",
       "      <td>0.0328399</td>\n",
       "      <td>0.0640791</td>\n",
       "      <td>0.124615</td>\n",
       "      <td>0.247053</td>\n",
       "      <td>0.878333</td>\n",
       "      <td>0.0195439</td>\n",
       "    </tr>\n",
       "    <tr>\n",
       "      <th>a_subj.0</th>\n",
       "      <td>0.501855</td>\n",
       "      <td>0.0121883</td>\n",
       "      <td>0.478618</td>\n",
       "      <td>0.493203</td>\n",
       "      <td>0.50255</td>\n",
       "      <td>0.510785</td>\n",
       "      <td>0.525877</td>\n",
       "      <td>0.00121883</td>\n",
       "    </tr>\n",
       "    <tr>\n",
       "      <th>a_subj.1</th>\n",
       "      <td>0.618682</td>\n",
       "      <td>0.014822</td>\n",
       "      <td>0.596147</td>\n",
       "      <td>0.608212</td>\n",
       "      <td>0.616193</td>\n",
       "      <td>0.628449</td>\n",
       "      <td>0.654961</td>\n",
       "      <td>0.0014822</td>\n",
       "    </tr>\n",
       "    <tr>\n",
       "      <th>a_subj.2</th>\n",
       "      <td>0.560832</td>\n",
       "      <td>0.0119833</td>\n",
       "      <td>0.537239</td>\n",
       "      <td>0.553538</td>\n",
       "      <td>0.559785</td>\n",
       "      <td>0.569458</td>\n",
       "      <td>0.584998</td>\n",
       "      <td>0.00119833</td>\n",
       "    </tr>\n",
       "    <tr>\n",
       "      <th>z</th>\n",
       "      <td>0.392644</td>\n",
       "      <td>0.0487935</td>\n",
       "      <td>0.317146</td>\n",
       "      <td>0.360948</td>\n",
       "      <td>0.388221</td>\n",
       "      <td>0.4293</td>\n",
       "      <td>0.515824</td>\n",
       "      <td>0.00487935</td>\n",
       "    </tr>\n",
       "    <tr>\n",
       "      <th>z_std</th>\n",
       "      <td>0.498725</td>\n",
       "      <td>0.231456</td>\n",
       "      <td>0.176704</td>\n",
       "      <td>0.327359</td>\n",
       "      <td>0.433147</td>\n",
       "      <td>0.681012</td>\n",
       "      <td>1.03565</td>\n",
       "      <td>0.0231456</td>\n",
       "    </tr>\n",
       "    <tr>\n",
       "      <th>z_subj.0</th>\n",
       "      <td>0.468869</td>\n",
       "      <td>0.0164008</td>\n",
       "      <td>0.430086</td>\n",
       "      <td>0.460507</td>\n",
       "      <td>0.470229</td>\n",
       "      <td>0.477563</td>\n",
       "      <td>0.502964</td>\n",
       "      <td>0.00164008</td>\n",
       "    </tr>\n",
       "    <tr>\n",
       "      <th>z_subj.1</th>\n",
       "      <td>0.398343</td>\n",
       "      <td>0.0129782</td>\n",
       "      <td>0.375857</td>\n",
       "      <td>0.389823</td>\n",
       "      <td>0.397229</td>\n",
       "      <td>0.406763</td>\n",
       "      <td>0.425761</td>\n",
       "      <td>0.00129782</td>\n",
       "    </tr>\n",
       "    <tr>\n",
       "      <th>z_subj.2</th>\n",
       "      <td>0.315974</td>\n",
       "      <td>0.0190492</td>\n",
       "      <td>0.283972</td>\n",
       "      <td>0.305803</td>\n",
       "      <td>0.314842</td>\n",
       "      <td>0.326872</td>\n",
       "      <td>0.355904</td>\n",
       "      <td>0.00190492</td>\n",
       "    </tr>\n",
       "    <tr>\n",
       "      <th>t_Intercept</th>\n",
       "      <td>1.146</td>\n",
       "      <td>0.0992083</td>\n",
       "      <td>0.959743</td>\n",
       "      <td>1.09424</td>\n",
       "      <td>1.14413</td>\n",
       "      <td>1.19318</td>\n",
       "      <td>1.37755</td>\n",
       "      <td>0.00992083</td>\n",
       "    </tr>\n",
       "    <tr>\n",
       "      <th>t_Intercept_std</th>\n",
       "      <td>0.172086</td>\n",
       "      <td>0.111612</td>\n",
       "      <td>0.0465001</td>\n",
       "      <td>0.102282</td>\n",
       "      <td>0.146515</td>\n",
       "      <td>0.208381</td>\n",
       "      <td>0.378572</td>\n",
       "      <td>0.0111612</td>\n",
       "    </tr>\n",
       "    <tr>\n",
       "      <th>t_Intercept_subj.0</th>\n",
       "      <td>1.16262</td>\n",
       "      <td>0.00761915</td>\n",
       "      <td>1.14884</td>\n",
       "      <td>1.15714</td>\n",
       "      <td>1.16153</td>\n",
       "      <td>1.17007</td>\n",
       "      <td>1.17601</td>\n",
       "      <td>0.000761915</td>\n",
       "    </tr>\n",
       "    <tr>\n",
       "      <th>t_Intercept_subj.1</th>\n",
       "      <td>1.0375</td>\n",
       "      <td>0.0130967</td>\n",
       "      <td>1.01653</td>\n",
       "      <td>1.02621</td>\n",
       "      <td>1.03733</td>\n",
       "      <td>1.04873</td>\n",
       "      <td>1.05895</td>\n",
       "      <td>0.00130967</td>\n",
       "    </tr>\n",
       "    <tr>\n",
       "      <th>t_Intercept_subj.2</th>\n",
       "      <td>1.2222</td>\n",
       "      <td>0.00475942</td>\n",
       "      <td>1.21029</td>\n",
       "      <td>1.21977</td>\n",
       "      <td>1.22249</td>\n",
       "      <td>1.22541</td>\n",
       "      <td>1.23027</td>\n",
       "      <td>0.000475942</td>\n",
       "    </tr>\n",
       "    <tr>\n",
       "      <th>t_covariate_name</th>\n",
       "      <td>0.142513</td>\n",
       "      <td>0.0123086</td>\n",
       "      <td>0.119358</td>\n",
       "      <td>0.131937</td>\n",
       "      <td>0.146724</td>\n",
       "      <td>0.15222</td>\n",
       "      <td>0.159873</td>\n",
       "      <td>0.00123086</td>\n",
       "    </tr>\n",
       "    <tr>\n",
       "      <th>v_Intercept</th>\n",
       "      <td>0.149525</td>\n",
       "      <td>0.324084</td>\n",
       "      <td>-0.312885</td>\n",
       "      <td>0.0453972</td>\n",
       "      <td>0.123024</td>\n",
       "      <td>0.213406</td>\n",
       "      <td>0.940407</td>\n",
       "      <td>0.0324084</td>\n",
       "    </tr>\n",
       "    <tr>\n",
       "      <th>v_Intercept_std</th>\n",
       "      <td>0.308512</td>\n",
       "      <td>0.317162</td>\n",
       "      <td>0.0139218</td>\n",
       "      <td>0.096086</td>\n",
       "      <td>0.20535</td>\n",
       "      <td>0.432366</td>\n",
       "      <td>1.16676</td>\n",
       "      <td>0.0317162</td>\n",
       "    </tr>\n",
       "    <tr>\n",
       "      <th>v_Intercept_subj.0</th>\n",
       "      <td>0.145395</td>\n",
       "      <td>0.0835223</td>\n",
       "      <td>-0.00313124</td>\n",
       "      <td>0.109178</td>\n",
       "      <td>0.137932</td>\n",
       "      <td>0.174092</td>\n",
       "      <td>0.349019</td>\n",
       "      <td>0.00835223</td>\n",
       "    </tr>\n",
       "    <tr>\n",
       "      <th>v_Intercept_subj.1</th>\n",
       "      <td>0.0562968</td>\n",
       "      <td>0.0784908</td>\n",
       "      <td>-0.10344</td>\n",
       "      <td>0.00570913</td>\n",
       "      <td>0.0622055</td>\n",
       "      <td>0.11101</td>\n",
       "      <td>0.211898</td>\n",
       "      <td>0.00784908</td>\n",
       "    </tr>\n",
       "    <tr>\n",
       "      <th>v_Intercept_subj.2</th>\n",
       "      <td>0.241147</td>\n",
       "      <td>0.112916</td>\n",
       "      <td>0.0283222</td>\n",
       "      <td>0.157561</td>\n",
       "      <td>0.232054</td>\n",
       "      <td>0.314755</td>\n",
       "      <td>0.487489</td>\n",
       "      <td>0.0112916</td>\n",
       "    </tr>\n",
       "    <tr>\n",
       "      <th>v_covariate_name</th>\n",
       "      <td>-0.139854</td>\n",
       "      <td>0.107314</td>\n",
       "      <td>-0.354841</td>\n",
       "      <td>-0.228508</td>\n",
       "      <td>-0.131108</td>\n",
       "      <td>-0.0642828</td>\n",
       "      <td>0.0631058</td>\n",
       "      <td>0.0107314</td>\n",
       "    </tr>\n",
       "  </tbody>\n",
       "</table>\n",
       "</div>"
      ],
      "text/plain": [
       "                         mean         std        2.5q         25q        50q  \\\n",
       "a                    0.545295     0.10129    0.316407     0.50524   0.556521   \n",
       "a_std                0.195147    0.195439   0.0328399   0.0640791   0.124615   \n",
       "a_subj.0             0.501855   0.0121883    0.478618    0.493203    0.50255   \n",
       "a_subj.1             0.618682    0.014822    0.596147    0.608212   0.616193   \n",
       "a_subj.2             0.560832   0.0119833    0.537239    0.553538   0.559785   \n",
       "z                    0.392644   0.0487935    0.317146    0.360948   0.388221   \n",
       "z_std                0.498725    0.231456    0.176704    0.327359   0.433147   \n",
       "z_subj.0             0.468869   0.0164008    0.430086    0.460507   0.470229   \n",
       "z_subj.1             0.398343   0.0129782    0.375857    0.389823   0.397229   \n",
       "z_subj.2             0.315974   0.0190492    0.283972    0.305803   0.314842   \n",
       "t_Intercept             1.146   0.0992083    0.959743     1.09424    1.14413   \n",
       "t_Intercept_std      0.172086    0.111612   0.0465001    0.102282   0.146515   \n",
       "t_Intercept_subj.0    1.16262  0.00761915     1.14884     1.15714    1.16153   \n",
       "t_Intercept_subj.1     1.0375   0.0130967     1.01653     1.02621    1.03733   \n",
       "t_Intercept_subj.2     1.2222  0.00475942     1.21029     1.21977    1.22249   \n",
       "t_covariate_name     0.142513   0.0123086    0.119358    0.131937   0.146724   \n",
       "v_Intercept          0.149525    0.324084   -0.312885   0.0453972   0.123024   \n",
       "v_Intercept_std      0.308512    0.317162   0.0139218    0.096086    0.20535   \n",
       "v_Intercept_subj.0   0.145395   0.0835223 -0.00313124    0.109178   0.137932   \n",
       "v_Intercept_subj.1  0.0562968   0.0784908    -0.10344  0.00570913  0.0622055   \n",
       "v_Intercept_subj.2   0.241147    0.112916   0.0283222    0.157561   0.232054   \n",
       "v_covariate_name    -0.139854    0.107314   -0.354841   -0.228508  -0.131108   \n",
       "\n",
       "                          75q      97.5q       mc err  \n",
       "a                    0.584349   0.747605     0.010129  \n",
       "a_std                0.247053   0.878333    0.0195439  \n",
       "a_subj.0             0.510785   0.525877   0.00121883  \n",
       "a_subj.1             0.628449   0.654961    0.0014822  \n",
       "a_subj.2             0.569458   0.584998   0.00119833  \n",
       "z                      0.4293   0.515824   0.00487935  \n",
       "z_std                0.681012    1.03565    0.0231456  \n",
       "z_subj.0             0.477563   0.502964   0.00164008  \n",
       "z_subj.1             0.406763   0.425761   0.00129782  \n",
       "z_subj.2             0.326872   0.355904   0.00190492  \n",
       "t_Intercept           1.19318    1.37755   0.00992083  \n",
       "t_Intercept_std      0.208381   0.378572    0.0111612  \n",
       "t_Intercept_subj.0    1.17007    1.17601  0.000761915  \n",
       "t_Intercept_subj.1    1.04873    1.05895   0.00130967  \n",
       "t_Intercept_subj.2    1.22541    1.23027  0.000475942  \n",
       "t_covariate_name      0.15222   0.159873   0.00123086  \n",
       "v_Intercept          0.213406   0.940407    0.0324084  \n",
       "v_Intercept_std      0.432366    1.16676    0.0317162  \n",
       "v_Intercept_subj.0   0.174092   0.349019   0.00835223  \n",
       "v_Intercept_subj.1    0.11101   0.211898   0.00784908  \n",
       "v_Intercept_subj.2   0.314755   0.487489    0.0112916  \n",
       "v_covariate_name   -0.0642828  0.0631058    0.0107314  "
      ]
     },
     "execution_count": 9,
     "metadata": {},
     "output_type": "execute_result"
    }
   ],
   "source": [
    "hddmnn_reg_test.gen_stats()"
   ]
  },
  {
   "cell_type": "code",
   "execution_count": 15,
   "metadata": {},
   "outputs": [],
   "source": [
    "def funfact(myargs = {}):\n",
    "    def inner_fun(**myargs):\n",
    "        print(locals())\n",
    "        return \n",
    "    inner_fun()\n",
    "    print(myargs)\n",
    "    return inner_fun"
   ]
  },
  {
   "cell_type": "code",
   "execution_count": 16,
   "metadata": {},
   "outputs": [
    {
     "name": "stdout",
     "output_type": "stream",
     "text": [
      "{'myargs': {}}\n",
      "{}\n",
      "{'a': None, 'b': None}\n"
     ]
    }
   ],
   "source": [
    "my_dict = {'a': None, 'b': None}\n",
    "out_fun = funfact(myargs = my_dict)"
   ]
  },
  {
   "cell_type": "code",
   "execution_count": 9,
   "metadata": {},
   "outputs": [
    {
     "name": "stdout",
     "output_type": "stream",
     "text": [
      "{'myargs': {}}\n"
     ]
    }
   ],
   "source": [
    "out_fun()"
   ]
  },
  {
   "cell_type": "code",
   "execution_count": 12,
   "metadata": {},
   "outputs": [],
   "source": [
    "    # def wiener_multi_like_nn_test(\n",
    "    #     value, v, a, z, t, reg_outcomes, p_outlier=0, w_outlier=0.1, **kwargs\n",
    "    # ):\n",
    "    #     params = locals()\n",
    "    #     size = int(value.shape[0])\n",
    "    #     data = np.zeros((size, data_frame_width), dtype=np.float32)\n",
    "    #     data[:, n_params:] = np.stack(\n",
    "    #         [\n",
    "    #             np.absolute(value[\"rt\"]).astype(np.float32),\n",
    "    #             value[\"response\"].astype(np.float32),\n",
    "    #         ],\n",
    "    #         axis=1,\n",
    "    #     )\n",
    "\n",
    "    #     cnt = 0\n",
    "    #     for tmp_str in model_parameter_names:  # model_config[model]['params']:\n",
    "    #         if tmp_str in reg_outcomes:\n",
    "    #             data[:, cnt] = params[tmp_str].loc[value[\"rt\"].index].values\n",
    "    #             if (data[:, cnt].min() < model_parameter_lower_bounds[cnt]) or (\n",
    "    #                 data[:, cnt].max() > model_parameter_upper_bounds[cnt]\n",
    "    #             ):\n",
    "    #                 print(\"boundary violation of regressor part\")\n",
    "    #                 return -np.inf\n",
    "    #         else:\n",
    "    #             data[:, cnt] = params[tmp_str]\n",
    "    #         cnt += 1\n",
    "\n",
    "    #     # Has optimization potential --> AF-TODO: For next version!\n",
    "    #     return hddm.wfpt.wiener_like_multi_nn_mlp(\n",
    "    #         data, p_outlier=p_outlier, w_outlier=w_outlier, network=kwargs[\"network\"]\n",
    "    #     )  # **kwargs\n",
    "\n",
    "\n",
    "param_str = ', '.join(['a', 'b', 'c'])\n",
    "fun_str = 'def custom_likelihood_reg(value, ' + param_str + ', reg_outcomes, p_outlier=0, w_outlier=0.1, **kwargs):' + \\\n",
    "          '\\n    params = locals()' + \\\n",
    "          '\\n    size = int(value.shape[0])' + \\\n",
    "          '\\n    data = np.zeros((size, data_frame_width), dtype=np.float32)' + \\\n",
    "          '\\n    data[:, n_params] = np.stack([np.absolute(value[\"rt\"]).astype(np.float32), value[\"response\"].astype(np.float32)], axis=1)' + \\\n",
    "          '\\n    cnt=0' + \\\n",
    "          '\\n    for tmp_str in model_parameter_names:' + \\\n",
    "          '\\n        if tmp_str in reg_outcomes:' + \\\n",
    "          '\\n            data[:, cnt] = params[tmp_str].loc[values[\"rt\"].index].values' + \\\n",
    "          '\\n            if (data[:, cnt].min() < model_parameter_lower_bounds[cnt]) or (data[:, cnt].max() > model_parameter_upper_bounds[cnt]):' + \\\n",
    "          '\\n                print(\"boundary violation of regressor part\")' + \\\n",
    "          '\\n                return -np.inf' + \\\n",
    "          '\\n        else:' + \\\n",
    "          '\\n            data[:, cnt] = params[tmp_str]' + \\\n",
    "          '\\n        cnt += 1' + \\\n",
    "          '\\n    return hddm.wfpt.wiener_like_multi_nn_mlp(data, p_outlier=p_outlier, w_outlier=w_outlier, network=kwargs[\"network\"])'\n",
    "\n",
    "exec(fun_str)\n",
    "\n",
    "\n",
    "         "
   ]
  },
  {
   "cell_type": "code",
   "execution_count": 13,
   "metadata": {},
   "outputs": [
    {
     "data": {
      "text/plain": [
       "<function __main__.custom_likelihood_reg(value, a, b, c, reg_outcomes, p_outlier=0, w_outlier=0.1, **kwargs)>"
      ]
     },
     "execution_count": 13,
     "metadata": {},
     "output_type": "execute_result"
    }
   ],
   "source": [
    "custom_likelihood_reg"
   ]
  },
  {
   "cell_type": "code",
   "execution_count": null,
   "metadata": {},
   "outputs": [],
   "source": []
  }
 ],
 "metadata": {
  "interpreter": {
   "hash": "560f708a8e3e7d8a6040d2821b64a1d977dd58637277f7fff51c695b3b27a4a1"
  },
  "kernelspec": {
   "display_name": "Python 3.7.7 64-bit ('hddmnn_tutorial': conda)",
   "language": "python",
   "name": "python37764bithddmnntutorialconda7c74bebc2e17464f91f7ff5cb4ec9e30"
  },
  "language_info": {
   "codemirror_mode": {
    "name": "ipython",
    "version": 3
   },
   "file_extension": ".py",
   "mimetype": "text/x-python",
   "name": "python",
   "nbconvert_exporter": "python",
   "pygments_lexer": "ipython3",
   "version": "3.7.7"
  }
 },
 "nbformat": 4,
 "nbformat_minor": 2
}
