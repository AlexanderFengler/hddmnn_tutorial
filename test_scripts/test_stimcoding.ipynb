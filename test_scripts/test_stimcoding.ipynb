{
 "cells": [
  {
   "cell_type": "code",
   "execution_count": 1,
   "metadata": {},
   "outputs": [],
   "source": [
    "%load_ext autoreload\n",
    "\n",
    "%reload_ext autoreload\n",
    "\n",
    "# MODULE IMPORTS ----\n",
    "\n",
    "# warning settings\n",
    "import warnings\n",
    "warnings.simplefilter(action='ignore', category=FutureWarning)\n",
    "\n",
    "# Data management\n",
    "import pandas as pd\n",
    "import numpy as np\n",
    "import pickle\n",
    "\n",
    "# Plotting\n",
    "import matplotlib.pyplot as plt\n",
    "import matplotlib\n",
    "import seaborn as sns\n",
    "\n",
    "# Stats functionality\n",
    "from statsmodels.distributions.empirical_distribution import ECDF\n",
    "\n",
    "# HDDM\n",
    "import hddm"
   ]
  },
  {
   "cell_type": "code",
   "execution_count": 2,
   "metadata": {},
   "outputs": [],
   "source": [
    "# Metadata\n",
    "nmcmc = 1000\n",
    "model = 'ddm'\n",
    "n_samples_by_condition = 1000\n",
    "split_param = 'v'"
   ]
  },
  {
   "cell_type": "code",
   "execution_count": 3,
   "metadata": {},
   "outputs": [],
   "source": [
    "sim_data_stimcoding, parameter_dict = hddm.simulators.simulator_stimcoding(model = model,\n",
    "                                                                           split_by = split_param,\n",
    "                                                                           drift_criterion = 0.3,\n",
    "                                                                           n_trials_per_condition = 500)"
   ]
  },
  {
   "cell_type": "code",
   "execution_count": 4,
   "metadata": {},
   "outputs": [
    {
     "name": "stdout",
     "output_type": "stream",
     "text": [
      "Help on function simulator_stimcoding in module hddm.simulators.hddm_dataset_generators:\n",
      "\n",
      "simulator_stimcoding(model='angle', split_by='v', p_outlier=0.0, max_rt_outlier=10.0, drift_criterion=0.0, n_trials_per_condition=1000, delta_t=0.001, prespecified_params={}, bin_pointwise=False, bin_dim=None, max_t=20.0)\n",
      "    Generate a dataset as expected by Hddmstimcoding. Essentially it is a specific way to parameterize two condition data.\n",
      "    \n",
      "    :Arguments:\n",
      "        parameters: list or numpy array\n",
      "            Model parameters with which to simulate.\n",
      "        model: str <default='angle'>\n",
      "            String that specifies the model to be simulated.\n",
      "            Current options include, 'angle', 'ornstein', 'levy', 'weibull', 'full_ddm'\n",
      "        split_by: str <default='v'>\n",
      "            You can split by 'v' or 'z'. If splitting by 'v' one condition's v_0 = drift_criterion + 'v', the other\n",
      "            condition's v_1 = drift_criterion - 'v'.\n",
      "            Respectively for 'z', 'z_0' = 'z' and 'z_1' = 1 - 'z'.\n",
      "        p_outlier: float between 0 and 1 <default=0>\n",
      "            Probability of generating outlier datapoints. An outlier is defined\n",
      "            as a random choice from a uniform RT distribution\n",
      "        max_rt_outlier: float > 0 <default=10.0>\n",
      "            Using max_rt_outlier (which is commonly defined for hddm models) here as an imlicit maximum\n",
      "            on the RT of outliers. Outlier RTs are sampled uniformly from [0, max_rt_outlier]\n",
      "        drift_criterion: float <default=0.0>\n",
      "            Parameter that can be treated as the 'bias part' of the slope, in case we split_by 'v'.\n",
      "        n_trials_per_condition: int <default=1000>\n",
      "            Number of samples to simulate per condition (here 2 condition by design).\n",
      "        delta_t: float <default=0.001>\n",
      "            Size fo timesteps in simulator (conceptually measured in seconds)\n",
      "        prespecified_params: dict <default = {}>\n",
      "            A dictionary with parameter names keys. Values are list of either length 1, or length equal to the number of conditions (here 2).\n",
      "        max_t: float <default=20>\n",
      "            Maximum reaction the simulator can reach\n",
      "        bin_dim: int <default=None>\n",
      "            If simulator output should be binned, this specifies the number of bins to use\n",
      "        bin_pointwise: bool <default=False>\n",
      "            Determines whether to bin simulator output pointwise. Pointwise here is in contrast to producing binned output\n",
      "            in the form of a histogram. Binning pointwise gives each trial's RT and index which is the respective bin-number.\n",
      "            This is expected when you are using the 'cnn' network to fit the dataset later. If pointwise is not chosen,\n",
      "            then the takes the form of a histogram, with bin-wise frequencies.\n",
      "    \n",
      "    Return: pandas.DataFrame holding a 'reaction time' column and a 'response' column. Ready to be fit with hddm.\n",
      "\n"
     ]
    }
   ],
   "source": [
    "help(hddm.simulators.simulator_stimcoding)"
   ]
  },
  {
   "cell_type": "code",
   "execution_count": 4,
   "metadata": {},
   "outputs": [],
   "source": [
    "sim_data_stimcoding = sim_data_stimcoding.reset_index(drop = True)"
   ]
  },
  {
   "cell_type": "code",
   "execution_count": 5,
   "metadata": {},
   "outputs": [],
   "source": [
    "sim_data_stimcoding.loc[sim_data_stimcoding.response == 0, 'rt'] = -999"
   ]
  },
  {
   "cell_type": "code",
   "execution_count": 6,
   "metadata": {},
   "outputs": [
    {
     "data": {
      "text/html": [
       "<div>\n",
       "<style scoped>\n",
       "    .dataframe tbody tr th:only-of-type {\n",
       "        vertical-align: middle;\n",
       "    }\n",
       "\n",
       "    .dataframe tbody tr th {\n",
       "        vertical-align: top;\n",
       "    }\n",
       "\n",
       "    .dataframe thead th {\n",
       "        text-align: right;\n",
       "    }\n",
       "</style>\n",
       "<table border=\"1\" class=\"dataframe\">\n",
       "  <thead>\n",
       "    <tr style=\"text-align: right;\">\n",
       "      <th></th>\n",
       "      <th>rt</th>\n",
       "      <th>response</th>\n",
       "      <th>stim</th>\n",
       "      <th>v</th>\n",
       "      <th>a</th>\n",
       "      <th>z</th>\n",
       "      <th>t</th>\n",
       "      <th>subj_idx</th>\n",
       "    </tr>\n",
       "  </thead>\n",
       "  <tbody>\n",
       "    <tr>\n",
       "      <th>0</th>\n",
       "      <td>1.959340</td>\n",
       "      <td>1</td>\n",
       "      <td>1</td>\n",
       "      <td>1.159363</td>\n",
       "      <td>2.048363</td>\n",
       "      <td>0.420801</td>\n",
       "      <td>0.893346</td>\n",
       "      <td>none</td>\n",
       "    </tr>\n",
       "    <tr>\n",
       "      <th>1</th>\n",
       "      <td>4.452271</td>\n",
       "      <td>1</td>\n",
       "      <td>1</td>\n",
       "      <td>1.159363</td>\n",
       "      <td>2.048363</td>\n",
       "      <td>0.420801</td>\n",
       "      <td>0.893346</td>\n",
       "      <td>none</td>\n",
       "    </tr>\n",
       "    <tr>\n",
       "      <th>2</th>\n",
       "      <td>2.490365</td>\n",
       "      <td>1</td>\n",
       "      <td>1</td>\n",
       "      <td>1.159363</td>\n",
       "      <td>2.048363</td>\n",
       "      <td>0.420801</td>\n",
       "      <td>0.893346</td>\n",
       "      <td>none</td>\n",
       "    </tr>\n",
       "    <tr>\n",
       "      <th>3</th>\n",
       "      <td>2.813380</td>\n",
       "      <td>1</td>\n",
       "      <td>1</td>\n",
       "      <td>1.159363</td>\n",
       "      <td>2.048363</td>\n",
       "      <td>0.420801</td>\n",
       "      <td>0.893346</td>\n",
       "      <td>none</td>\n",
       "    </tr>\n",
       "    <tr>\n",
       "      <th>4</th>\n",
       "      <td>3.311353</td>\n",
       "      <td>1</td>\n",
       "      <td>1</td>\n",
       "      <td>1.159363</td>\n",
       "      <td>2.048363</td>\n",
       "      <td>0.420801</td>\n",
       "      <td>0.893346</td>\n",
       "      <td>none</td>\n",
       "    </tr>\n",
       "    <tr>\n",
       "      <th>...</th>\n",
       "      <td>...</td>\n",
       "      <td>...</td>\n",
       "      <td>...</td>\n",
       "      <td>...</td>\n",
       "      <td>...</td>\n",
       "      <td>...</td>\n",
       "      <td>...</td>\n",
       "      <td>...</td>\n",
       "    </tr>\n",
       "    <tr>\n",
       "      <th>995</th>\n",
       "      <td>3.271356</td>\n",
       "      <td>0</td>\n",
       "      <td>2</td>\n",
       "      <td>-0.559363</td>\n",
       "      <td>2.048363</td>\n",
       "      <td>0.420801</td>\n",
       "      <td>0.893346</td>\n",
       "      <td>none</td>\n",
       "    </tr>\n",
       "    <tr>\n",
       "      <th>996</th>\n",
       "      <td>3.121367</td>\n",
       "      <td>0</td>\n",
       "      <td>2</td>\n",
       "      <td>-0.559363</td>\n",
       "      <td>2.048363</td>\n",
       "      <td>0.420801</td>\n",
       "      <td>0.893346</td>\n",
       "      <td>none</td>\n",
       "    </tr>\n",
       "    <tr>\n",
       "      <th>997</th>\n",
       "      <td>5.907166</td>\n",
       "      <td>0</td>\n",
       "      <td>2</td>\n",
       "      <td>-0.559363</td>\n",
       "      <td>2.048363</td>\n",
       "      <td>0.420801</td>\n",
       "      <td>0.893346</td>\n",
       "      <td>none</td>\n",
       "    </tr>\n",
       "    <tr>\n",
       "      <th>998</th>\n",
       "      <td>2.983377</td>\n",
       "      <td>0</td>\n",
       "      <td>2</td>\n",
       "      <td>-0.559363</td>\n",
       "      <td>2.048363</td>\n",
       "      <td>0.420801</td>\n",
       "      <td>0.893346</td>\n",
       "      <td>none</td>\n",
       "    </tr>\n",
       "    <tr>\n",
       "      <th>999</th>\n",
       "      <td>5.117223</td>\n",
       "      <td>0</td>\n",
       "      <td>2</td>\n",
       "      <td>-0.559363</td>\n",
       "      <td>2.048363</td>\n",
       "      <td>0.420801</td>\n",
       "      <td>0.893346</td>\n",
       "      <td>none</td>\n",
       "    </tr>\n",
       "  </tbody>\n",
       "</table>\n",
       "<p>1000 rows × 8 columns</p>\n",
       "</div>"
      ],
      "text/plain": [
       "           rt  response  stim         v         a         z         t subj_idx\n",
       "0    1.959340         1     1  1.159363  2.048363  0.420801  0.893346     none\n",
       "1    4.452271         1     1  1.159363  2.048363  0.420801  0.893346     none\n",
       "2    2.490365         1     1  1.159363  2.048363  0.420801  0.893346     none\n",
       "3    2.813380         1     1  1.159363  2.048363  0.420801  0.893346     none\n",
       "4    3.311353         1     1  1.159363  2.048363  0.420801  0.893346     none\n",
       "..        ...       ...   ...       ...       ...       ...       ...      ...\n",
       "995  3.271356         0     2 -0.559363  2.048363  0.420801  0.893346     none\n",
       "996  3.121367         0     2 -0.559363  2.048363  0.420801  0.893346     none\n",
       "997  5.907166         0     2 -0.559363  2.048363  0.420801  0.893346     none\n",
       "998  2.983377         0     2 -0.559363  2.048363  0.420801  0.893346     none\n",
       "999  5.117223         0     2 -0.559363  2.048363  0.420801  0.893346     none\n",
       "\n",
       "[1000 rows x 8 columns]"
      ]
     },
     "execution_count": 6,
     "metadata": {},
     "output_type": "execute_result"
    }
   ],
   "source": [
    "sim_data_stimcoding"
   ]
  },
  {
   "cell_type": "code",
   "execution_count": 6,
   "metadata": {},
   "outputs": [
    {
     "ename": "NotImplementedError",
     "evalue": "The HDDMnn classes can not yet deal with missing values. Support coming soon!",
     "output_type": "error",
     "traceback": [
      "\u001b[0;31m---------------------------------------------------------------------------\u001b[0m",
      "\u001b[0;31mNotImplementedError\u001b[0m                       Traceback (most recent call last)",
      "\u001b[0;32m<ipython-input-6-ad86e841003f>\u001b[0m in \u001b[0;36m<module>\u001b[0;34m\u001b[0m\n\u001b[1;32m      6\u001b[0m                                      \u001b[0msplit_param\u001b[0m \u001b[0;34m=\u001b[0m \u001b[0msplit_param\u001b[0m\u001b[0;34m,\u001b[0m\u001b[0;34m\u001b[0m\u001b[0;34m\u001b[0m\u001b[0m\n\u001b[1;32m      7\u001b[0m                                      \u001b[0minformative\u001b[0m \u001b[0;34m=\u001b[0m \u001b[0;32mFalse\u001b[0m\u001b[0;34m,\u001b[0m\u001b[0;34m\u001b[0m\u001b[0;34m\u001b[0m\u001b[0m\n\u001b[0;32m----> 8\u001b[0;31m                                      drift_criterion = True)\n\u001b[0m",
      "\u001b[0;32m~/OneDrive/project_hddm_extension/hddm/hddm/models/hddm_nn_stimcoding.py\u001b[0m in \u001b[0;36m__init__\u001b[0;34m(self, *args, **kwargs)\u001b[0m\n\u001b[1;32m    112\u001b[0m         )\n\u001b[1;32m    113\u001b[0m \u001b[0;34m\u001b[0m\u001b[0m\n\u001b[0;32m--> 114\u001b[0;31m         \u001b[0msuper\u001b[0m\u001b[0;34m(\u001b[0m\u001b[0mHDDMnnStimCoding\u001b[0m\u001b[0;34m,\u001b[0m \u001b[0mself\u001b[0m\u001b[0;34m)\u001b[0m\u001b[0;34m.\u001b[0m\u001b[0m__init__\u001b[0m\u001b[0;34m(\u001b[0m\u001b[0;34m*\u001b[0m\u001b[0margs\u001b[0m\u001b[0;34m,\u001b[0m \u001b[0;34m**\u001b[0m\u001b[0mkwargs\u001b[0m\u001b[0;34m)\u001b[0m\u001b[0;34m\u001b[0m\u001b[0;34m\u001b[0m\u001b[0m\n\u001b[0m\u001b[1;32m    115\u001b[0m \u001b[0;34m\u001b[0m\u001b[0m\n\u001b[1;32m    116\u001b[0m     \u001b[0;32mdef\u001b[0m \u001b[0m_create_wfpt_knode\u001b[0m\u001b[0;34m(\u001b[0m\u001b[0mself\u001b[0m\u001b[0;34m,\u001b[0m \u001b[0mknodes\u001b[0m\u001b[0;34m)\u001b[0m\u001b[0;34m:\u001b[0m\u001b[0;34m\u001b[0m\u001b[0;34m\u001b[0m\u001b[0m\n",
      "\u001b[0;32m~/OneDrive/project_hddm_extension/hddm/hddm/models/hddm_stimcoding.py\u001b[0m in \u001b[0;36m__init__\u001b[0;34m(self, *args, **kwargs)\u001b[0m\n\u001b[1;32m     54\u001b[0m         )\n\u001b[1;32m     55\u001b[0m \u001b[0;34m\u001b[0m\u001b[0m\n\u001b[0;32m---> 56\u001b[0;31m         \u001b[0msuper\u001b[0m\u001b[0;34m(\u001b[0m\u001b[0mHDDMStimCoding\u001b[0m\u001b[0;34m,\u001b[0m \u001b[0mself\u001b[0m\u001b[0;34m)\u001b[0m\u001b[0;34m.\u001b[0m\u001b[0m__init__\u001b[0m\u001b[0;34m(\u001b[0m\u001b[0;34m*\u001b[0m\u001b[0margs\u001b[0m\u001b[0;34m,\u001b[0m \u001b[0;34m**\u001b[0m\u001b[0mkwargs\u001b[0m\u001b[0;34m)\u001b[0m\u001b[0;34m\u001b[0m\u001b[0;34m\u001b[0m\u001b[0m\n\u001b[0m\u001b[1;32m     57\u001b[0m \u001b[0;34m\u001b[0m\u001b[0m\n\u001b[1;32m     58\u001b[0m     \u001b[0;32mdef\u001b[0m \u001b[0m_create_stochastic_knodes\u001b[0m\u001b[0;34m(\u001b[0m\u001b[0mself\u001b[0m\u001b[0;34m,\u001b[0m \u001b[0minclude\u001b[0m\u001b[0;34m)\u001b[0m\u001b[0;34m:\u001b[0m\u001b[0;34m\u001b[0m\u001b[0;34m\u001b[0m\u001b[0m\n",
      "\u001b[0;32m~/OneDrive/project_hddm_extension/hddm/hddm/models/hddm_info.py\u001b[0m in \u001b[0;36m__init__\u001b[0;34m(self, *args, **kwargs)\u001b[0m\n\u001b[1;32m    152\u001b[0m             \u001b[0mself\u001b[0m\u001b[0;34m.\u001b[0m\u001b[0mis_informative\u001b[0m \u001b[0;34m=\u001b[0m \u001b[0mkwargs\u001b[0m\u001b[0;34m.\u001b[0m\u001b[0mpop\u001b[0m\u001b[0;34m(\u001b[0m\u001b[0;34m\"informative\"\u001b[0m\u001b[0;34m,\u001b[0m \u001b[0;32mTrue\u001b[0m\u001b[0;34m)\u001b[0m\u001b[0;34m\u001b[0m\u001b[0;34m\u001b[0m\u001b[0m\n\u001b[1;32m    153\u001b[0m \u001b[0;34m\u001b[0m\u001b[0m\n\u001b[0;32m--> 154\u001b[0;31m         \u001b[0msuper\u001b[0m\u001b[0;34m(\u001b[0m\u001b[0mHDDM\u001b[0m\u001b[0;34m,\u001b[0m \u001b[0mself\u001b[0m\u001b[0;34m)\u001b[0m\u001b[0;34m.\u001b[0m\u001b[0m__init__\u001b[0m\u001b[0;34m(\u001b[0m\u001b[0;34m*\u001b[0m\u001b[0margs\u001b[0m\u001b[0;34m,\u001b[0m \u001b[0;34m**\u001b[0m\u001b[0mkwargs\u001b[0m\u001b[0;34m)\u001b[0m\u001b[0;34m\u001b[0m\u001b[0;34m\u001b[0m\u001b[0m\n\u001b[0m\u001b[1;32m    155\u001b[0m \u001b[0;34m\u001b[0m\u001b[0m\n\u001b[1;32m    156\u001b[0m         \u001b[0;31m# -------------------------------------------------------------------------------------\u001b[0m\u001b[0;34m\u001b[0m\u001b[0;34m\u001b[0m\u001b[0;34m\u001b[0m\u001b[0m\n",
      "\u001b[0;32m~/OneDrive/project_hddm_extension/hddm/hddm/models/base.py\u001b[0m in \u001b[0;36m__init__\u001b[0;34m(self, data, bias, include, wiener_params, p_outlier, **kwargs)\u001b[0m\n\u001b[1;32m   1298\u001b[0m                 \u001b[0;31m# TODO: Add choice probability networks to allow missing values to be accounted for.\u001b[0m\u001b[0;34m\u001b[0m\u001b[0;34m\u001b[0m\u001b[0;34m\u001b[0m\u001b[0m\n\u001b[1;32m   1299\u001b[0m                 \u001b[0;32mif\u001b[0m \u001b[0mdata\u001b[0m\u001b[0;34m[\u001b[0m\u001b[0;34m'rt'\u001b[0m\u001b[0;34m]\u001b[0m\u001b[0;34m.\u001b[0m\u001b[0mabs\u001b[0m\u001b[0;34m(\u001b[0m\u001b[0;34m)\u001b[0m\u001b[0;34m.\u001b[0m\u001b[0mmax\u001b[0m\u001b[0;34m(\u001b[0m\u001b[0;34m)\u001b[0m \u001b[0;34m>=\u001b[0m \u001b[0;36m998\u001b[0m\u001b[0;34m:\u001b[0m\u001b[0;34m\u001b[0m\u001b[0;34m\u001b[0m\u001b[0m\n\u001b[0;32m-> 1300\u001b[0;31m                     \u001b[0;32mraise\u001b[0m \u001b[0mNotImplementedError\u001b[0m\u001b[0;34m(\u001b[0m\u001b[0;34m\"The HDDMnn classes can not yet deal with missing values. Support coming soon!\"\u001b[0m\u001b[0;34m)\u001b[0m\u001b[0;34m\u001b[0m\u001b[0;34m\u001b[0m\u001b[0m\n\u001b[0m\u001b[1;32m   1301\u001b[0m \u001b[0;34m\u001b[0m\u001b[0m\n\u001b[1;32m   1302\u001b[0m         \u001b[0;31m# For 2-choice models adjust include statement\u001b[0m\u001b[0;34m\u001b[0m\u001b[0;34m\u001b[0m\u001b[0;34m\u001b[0m\u001b[0m\n",
      "\u001b[0;31mNotImplementedError\u001b[0m: The HDDMnn classes can not yet deal with missing values. Support coming soon!"
     ]
    }
   ],
   "source": [
    "hddmnn_model = hddm.HDDMnnStimCoding(sim_data_stimcoding,\n",
    "                                     include = hddm.simulators.model_config[model]['hddm_include'],\n",
    "                                     model = model,\n",
    "                                     stim_col = 'stim',\n",
    "                                     p_outlier = 0.0,\n",
    "                                     split_param = split_param,\n",
    "                                     informative = False,\n",
    "                                     drift_criterion = True)"
   ]
  },
  {
   "cell_type": "code",
   "execution_count": 7,
   "metadata": {},
   "outputs": [
    {
     "ename": "NotImplementedError",
     "evalue": "The HDDMnn classes can not yet deal with missing values. Support coming soon!",
     "output_type": "error",
     "traceback": [
      "\u001b[0;31m---------------------------------------------------------------------------\u001b[0m",
      "\u001b[0;31mNotImplementedError\u001b[0m                       Traceback (most recent call last)",
      "\u001b[0;32m<ipython-input-7-3247041800b0>\u001b[0m in \u001b[0;36m<module>\u001b[0;34m\u001b[0m\n\u001b[1;32m      3\u001b[0m                              \u001b[0mmodel\u001b[0m \u001b[0;34m=\u001b[0m \u001b[0mmodel\u001b[0m\u001b[0;34m,\u001b[0m\u001b[0;34m\u001b[0m\u001b[0;34m\u001b[0m\u001b[0m\n\u001b[1;32m      4\u001b[0m                              \u001b[0mp_outlier\u001b[0m \u001b[0;34m=\u001b[0m \u001b[0;36m0.0\u001b[0m\u001b[0;34m,\u001b[0m\u001b[0;34m\u001b[0m\u001b[0;34m\u001b[0m\u001b[0m\n\u001b[0;32m----> 5\u001b[0;31m                              informative = False)\n\u001b[0m",
      "\u001b[0;32m~/OneDrive/project_hddm_extension/hddm/hddm/models/hddm_nn.py\u001b[0m in \u001b[0;36m__init__\u001b[0;34m(self, *args, **kwargs)\u001b[0m\n\u001b[1;32m    169\u001b[0m \u001b[0;34m\u001b[0m\u001b[0m\n\u001b[1;32m    170\u001b[0m         \u001b[0;31m# Initialize super class\u001b[0m\u001b[0;34m\u001b[0m\u001b[0;34m\u001b[0m\u001b[0;34m\u001b[0m\u001b[0m\n\u001b[0;32m--> 171\u001b[0;31m         \u001b[0msuper\u001b[0m\u001b[0;34m(\u001b[0m\u001b[0mHDDMnn\u001b[0m\u001b[0;34m,\u001b[0m \u001b[0mself\u001b[0m\u001b[0;34m)\u001b[0m\u001b[0;34m.\u001b[0m\u001b[0m__init__\u001b[0m\u001b[0;34m(\u001b[0m\u001b[0;34m*\u001b[0m\u001b[0margs\u001b[0m\u001b[0;34m,\u001b[0m \u001b[0;34m**\u001b[0m\u001b[0mkwargs\u001b[0m\u001b[0;34m)\u001b[0m\u001b[0;34m\u001b[0m\u001b[0;34m\u001b[0m\u001b[0m\n\u001b[0m\u001b[1;32m    172\u001b[0m \u001b[0;34m\u001b[0m\u001b[0m\n\u001b[1;32m    173\u001b[0m     \u001b[0;32mdef\u001b[0m \u001b[0m_create_wfpt_knode\u001b[0m\u001b[0;34m(\u001b[0m\u001b[0mself\u001b[0m\u001b[0;34m,\u001b[0m \u001b[0mknodes\u001b[0m\u001b[0;34m)\u001b[0m\u001b[0;34m:\u001b[0m\u001b[0;34m\u001b[0m\u001b[0;34m\u001b[0m\u001b[0m\n",
      "\u001b[0;32m~/OneDrive/project_hddm_extension/hddm/hddm/models/hddm_info.py\u001b[0m in \u001b[0;36m__init__\u001b[0;34m(self, *args, **kwargs)\u001b[0m\n\u001b[1;32m    152\u001b[0m             \u001b[0mself\u001b[0m\u001b[0;34m.\u001b[0m\u001b[0mis_informative\u001b[0m \u001b[0;34m=\u001b[0m \u001b[0mkwargs\u001b[0m\u001b[0;34m.\u001b[0m\u001b[0mpop\u001b[0m\u001b[0;34m(\u001b[0m\u001b[0;34m\"informative\"\u001b[0m\u001b[0;34m,\u001b[0m \u001b[0;32mTrue\u001b[0m\u001b[0;34m)\u001b[0m\u001b[0;34m\u001b[0m\u001b[0;34m\u001b[0m\u001b[0m\n\u001b[1;32m    153\u001b[0m \u001b[0;34m\u001b[0m\u001b[0m\n\u001b[0;32m--> 154\u001b[0;31m         \u001b[0msuper\u001b[0m\u001b[0;34m(\u001b[0m\u001b[0mHDDM\u001b[0m\u001b[0;34m,\u001b[0m \u001b[0mself\u001b[0m\u001b[0;34m)\u001b[0m\u001b[0;34m.\u001b[0m\u001b[0m__init__\u001b[0m\u001b[0;34m(\u001b[0m\u001b[0;34m*\u001b[0m\u001b[0margs\u001b[0m\u001b[0;34m,\u001b[0m \u001b[0;34m**\u001b[0m\u001b[0mkwargs\u001b[0m\u001b[0;34m)\u001b[0m\u001b[0;34m\u001b[0m\u001b[0;34m\u001b[0m\u001b[0m\n\u001b[0m\u001b[1;32m    155\u001b[0m \u001b[0;34m\u001b[0m\u001b[0m\n\u001b[1;32m    156\u001b[0m         \u001b[0;31m# -------------------------------------------------------------------------------------\u001b[0m\u001b[0;34m\u001b[0m\u001b[0;34m\u001b[0m\u001b[0;34m\u001b[0m\u001b[0m\n",
      "\u001b[0;32m~/OneDrive/project_hddm_extension/hddm/hddm/models/base.py\u001b[0m in \u001b[0;36m__init__\u001b[0;34m(self, data, bias, include, wiener_params, p_outlier, **kwargs)\u001b[0m\n\u001b[1;32m   1298\u001b[0m                 \u001b[0;31m# TODO: Add choice probability networks to allow missing values to be accounted for.\u001b[0m\u001b[0;34m\u001b[0m\u001b[0;34m\u001b[0m\u001b[0;34m\u001b[0m\u001b[0m\n\u001b[1;32m   1299\u001b[0m                 \u001b[0;32mif\u001b[0m \u001b[0mdata\u001b[0m\u001b[0;34m[\u001b[0m\u001b[0;34m'rt'\u001b[0m\u001b[0;34m]\u001b[0m\u001b[0;34m.\u001b[0m\u001b[0mabs\u001b[0m\u001b[0;34m(\u001b[0m\u001b[0;34m)\u001b[0m\u001b[0;34m.\u001b[0m\u001b[0mmax\u001b[0m\u001b[0;34m(\u001b[0m\u001b[0;34m)\u001b[0m \u001b[0;34m>=\u001b[0m \u001b[0;36m998\u001b[0m\u001b[0;34m:\u001b[0m\u001b[0;34m\u001b[0m\u001b[0;34m\u001b[0m\u001b[0m\n\u001b[0;32m-> 1300\u001b[0;31m                     \u001b[0;32mraise\u001b[0m \u001b[0mNotImplementedError\u001b[0m\u001b[0;34m(\u001b[0m\u001b[0;34m\"The HDDMnn classes can not yet deal with missing values. Support coming soon!\"\u001b[0m\u001b[0;34m)\u001b[0m\u001b[0;34m\u001b[0m\u001b[0;34m\u001b[0m\u001b[0m\n\u001b[0m\u001b[1;32m   1301\u001b[0m \u001b[0;34m\u001b[0m\u001b[0m\n\u001b[1;32m   1302\u001b[0m         \u001b[0;31m# For 2-choice models adjust include statement\u001b[0m\u001b[0;34m\u001b[0m\u001b[0;34m\u001b[0m\u001b[0;34m\u001b[0m\u001b[0m\n",
      "\u001b[0;31mNotImplementedError\u001b[0m: The HDDMnn classes can not yet deal with missing values. Support coming soon!"
     ]
    }
   ],
   "source": [
    "hddmnn_basic_model = hddm.HDDMnn(sim_data_stimcoding,\n",
    "                             include = hddm.simulators.model_config[model]['hddm_include'],\n",
    "                             model = model,\n",
    "                             p_outlier = 0.0,\n",
    "                             informative = False)"
   ]
  },
  {
   "cell_type": "code",
   "execution_count": 14,
   "metadata": {},
   "outputs": [
    {
     "name": "stdout",
     "output_type": "stream",
     "text": [
      " [---               8%                  ] 84 of 1000 complete in 22.9 secHalting at iteration  83  of  1000\n",
      "Could not generate output statistics for t\n",
      "Could not generate output statistics for v\n",
      "Could not generate output statistics for a\n",
      "Could not generate output statistics for z\n",
      "Could not generate output statistics for z_trans\n"
     ]
    },
    {
     "ename": "TypeError",
     "evalue": "'NoneType' object is not subscriptable",
     "output_type": "error",
     "traceback": [
      "\u001b[0;31m---------------------------------------------------------------------------\u001b[0m",
      "\u001b[0;31mTypeError\u001b[0m                                 Traceback (most recent call last)",
      "\u001b[0;32m<ipython-input-14-1ec5193f2ceb>\u001b[0m in \u001b[0;36m<module>\u001b[0;34m\u001b[0m\n\u001b[0;32m----> 1\u001b[0;31m \u001b[0mhddmnn_basic_model\u001b[0m\u001b[0;34m.\u001b[0m\u001b[0msample\u001b[0m\u001b[0;34m(\u001b[0m\u001b[0mnmcmc\u001b[0m\u001b[0;34m,\u001b[0m \u001b[0mburn\u001b[0m \u001b[0;34m=\u001b[0m \u001b[0;36m100\u001b[0m\u001b[0;34m)\u001b[0m\u001b[0;34m\u001b[0m\u001b[0;34m\u001b[0m\u001b[0m\n\u001b[0m",
      "\u001b[0;32m~/OneDrive/project_hddm_extension/kabuki/kabuki/hierarchical.py\u001b[0m in \u001b[0;36msample\u001b[0;34m(self, *args, **kwargs)\u001b[0m\n\u001b[1;32m    661\u001b[0m         \u001b[0mself\u001b[0m\u001b[0;34m.\u001b[0m\u001b[0msampled\u001b[0m \u001b[0;34m=\u001b[0m \u001b[0;32mTrue\u001b[0m\u001b[0;34m\u001b[0m\u001b[0;34m\u001b[0m\u001b[0m\n\u001b[1;32m    662\u001b[0m \u001b[0;34m\u001b[0m\u001b[0m\n\u001b[0;32m--> 663\u001b[0;31m         \u001b[0mself\u001b[0m\u001b[0;34m.\u001b[0m\u001b[0mgen_stats\u001b[0m\u001b[0;34m(\u001b[0m\u001b[0;34m)\u001b[0m\u001b[0;34m\u001b[0m\u001b[0;34m\u001b[0m\u001b[0m\n\u001b[0m\u001b[1;32m    664\u001b[0m         \u001b[0;32mreturn\u001b[0m \u001b[0mself\u001b[0m\u001b[0;34m.\u001b[0m\u001b[0mmc\u001b[0m\u001b[0;34m\u001b[0m\u001b[0;34m\u001b[0m\u001b[0m\n\u001b[1;32m    665\u001b[0m \u001b[0;34m\u001b[0m\u001b[0m\n",
      "\u001b[0;32m~/OneDrive/project_hddm_extension/kabuki/kabuki/hierarchical.py\u001b[0m in \u001b[0;36mgen_stats\u001b[0;34m(self, fname, print_hidden, **kwargs)\u001b[0m\n\u001b[1;32m    739\u001b[0m         \"\"\"\n\u001b[1;32m    740\u001b[0m \u001b[0;34m\u001b[0m\u001b[0m\n\u001b[0;32m--> 741\u001b[0;31m         \u001b[0mself\u001b[0m\u001b[0;34m.\u001b[0m\u001b[0mappend_stats_to_nodes_db\u001b[0m\u001b[0;34m(\u001b[0m\u001b[0;34m)\u001b[0m\u001b[0;34m\u001b[0m\u001b[0;34m\u001b[0m\u001b[0m\n\u001b[0m\u001b[1;32m    742\u001b[0m \u001b[0;34m\u001b[0m\u001b[0m\n\u001b[1;32m    743\u001b[0m         \u001b[0msliced_db\u001b[0m \u001b[0;34m=\u001b[0m \u001b[0mself\u001b[0m\u001b[0;34m.\u001b[0m\u001b[0mnodes_db\u001b[0m\u001b[0;34m.\u001b[0m\u001b[0mcopy\u001b[0m\u001b[0;34m(\u001b[0m\u001b[0;34m)\u001b[0m\u001b[0;34m\u001b[0m\u001b[0;34m\u001b[0m\u001b[0m\n",
      "\u001b[0;32m~/OneDrive/project_hddm_extension/kabuki/kabuki/hierarchical.py\u001b[0m in \u001b[0;36mappend_stats_to_nodes_db\u001b[0;34m(self, *args, **kwargs)\u001b[0m\n\u001b[1;32m    791\u001b[0m             \u001b[0;32mif\u001b[0m \u001b[0mself\u001b[0m\u001b[0;34m.\u001b[0m\u001b[0mnodes_db\u001b[0m\u001b[0;34m.\u001b[0m\u001b[0mloc\u001b[0m\u001b[0;34m[\u001b[0m\u001b[0mname\u001b[0m\u001b[0;34m,\u001b[0m \u001b[0;34m'hidden'\u001b[0m\u001b[0;34m]\u001b[0m\u001b[0;34m:\u001b[0m\u001b[0;34m\u001b[0m\u001b[0;34m\u001b[0m\u001b[0m\n\u001b[1;32m    792\u001b[0m                 \u001b[0;32mcontinue\u001b[0m\u001b[0;34m\u001b[0m\u001b[0;34m\u001b[0m\u001b[0m\n\u001b[0;32m--> 793\u001b[0;31m             \u001b[0mself\u001b[0m\u001b[0;34m.\u001b[0m\u001b[0mnodes_db\u001b[0m\u001b[0;34m.\u001b[0m\u001b[0mloc\u001b[0m\u001b[0;34m[\u001b[0m\u001b[0mname\u001b[0m\u001b[0;34m,\u001b[0m \u001b[0;34m'mean'\u001b[0m\u001b[0;34m]\u001b[0m   \u001b[0;34m=\u001b[0m \u001b[0mi_stats\u001b[0m\u001b[0;34m[\u001b[0m\u001b[0;34m'mean'\u001b[0m\u001b[0;34m]\u001b[0m\u001b[0;34m\u001b[0m\u001b[0;34m\u001b[0m\u001b[0m\n\u001b[0m\u001b[1;32m    794\u001b[0m             \u001b[0mself\u001b[0m\u001b[0;34m.\u001b[0m\u001b[0mnodes_db\u001b[0m\u001b[0;34m.\u001b[0m\u001b[0mloc\u001b[0m\u001b[0;34m[\u001b[0m\u001b[0mname\u001b[0m\u001b[0;34m,\u001b[0m \u001b[0;34m'std'\u001b[0m\u001b[0;34m]\u001b[0m    \u001b[0;34m=\u001b[0m \u001b[0mi_stats\u001b[0m\u001b[0;34m[\u001b[0m\u001b[0;34m'standard deviation'\u001b[0m\u001b[0;34m]\u001b[0m\u001b[0;34m\u001b[0m\u001b[0;34m\u001b[0m\u001b[0m\n\u001b[1;32m    795\u001b[0m             \u001b[0mself\u001b[0m\u001b[0;34m.\u001b[0m\u001b[0mnodes_db\u001b[0m\u001b[0;34m.\u001b[0m\u001b[0mloc\u001b[0m\u001b[0;34m[\u001b[0m\u001b[0mname\u001b[0m\u001b[0;34m,\u001b[0m \u001b[0;34m'2.5q'\u001b[0m\u001b[0;34m]\u001b[0m   \u001b[0;34m=\u001b[0m \u001b[0mi_stats\u001b[0m\u001b[0;34m[\u001b[0m\u001b[0;34m'quantiles'\u001b[0m\u001b[0;34m]\u001b[0m\u001b[0;34m[\u001b[0m\u001b[0;36m2.5\u001b[0m\u001b[0;34m]\u001b[0m\u001b[0;34m\u001b[0m\u001b[0;34m\u001b[0m\u001b[0m\n",
      "\u001b[0;31mTypeError\u001b[0m: 'NoneType' object is not subscriptable"
     ]
    }
   ],
   "source": [
    "hddmnn_basic_model.sample(nmcmc, burn = 100)"
   ]
  },
  {
   "cell_type": "code",
   "execution_count": null,
   "metadata": {},
   "outputs": [],
   "source": [
    "hddmnn_model.sample(nmcmc, burn = 100)"
   ]
  },
  {
   "cell_type": "code",
   "execution_count": 8,
   "metadata": {},
   "outputs": [
    {
     "name": "stdout",
     "output_type": "stream",
     "text": [
      "No model attribute --> setting up standard HDDM\n",
      "Set model to ddm\n"
     ]
    }
   ],
   "source": [
    "hddm_model = hddm.HDDMStimCoding(sim_data_stimcoding,\n",
    "                                 include = hddm.simulators.model_config[model]['hddm_include'],\n",
    "                                 stim_col = 'stim',\n",
    "                                 p_outlier = 0.0,\n",
    "                                 split_param = split_param,\n",
    "                                 informative = False,\n",
    "                                 drift_criterion = True)"
   ]
  },
  {
   "cell_type": "code",
   "execution_count": 27,
   "metadata": {},
   "outputs": [
    {
     "name": "stdout",
     "output_type": "stream",
     "text": [
      " [-----------------100%-----------------] 1000 of 1000 complete in 35.6 sec"
     ]
    },
    {
     "data": {
      "text/plain": [
       "<pymc.MCMC.MCMC at 0x14e8165d0>"
      ]
     },
     "execution_count": 27,
     "metadata": {},
     "output_type": "execute_result"
    }
   ],
   "source": [
    "hddm_model.sample(nmcmc, burn = 100)"
   ]
  },
  {
   "cell_type": "code",
   "execution_count": 37,
   "metadata": {},
   "outputs": [
    {
     "data": {
      "text/html": [
       "<div>\n",
       "<style scoped>\n",
       "    .dataframe tbody tr th:only-of-type {\n",
       "        vertical-align: middle;\n",
       "    }\n",
       "\n",
       "    .dataframe tbody tr th {\n",
       "        vertical-align: top;\n",
       "    }\n",
       "\n",
       "    .dataframe thead th {\n",
       "        text-align: right;\n",
       "    }\n",
       "</style>\n",
       "<table border=\"1\" class=\"dataframe\">\n",
       "  <thead>\n",
       "    <tr style=\"text-align: right;\">\n",
       "      <th></th>\n",
       "      <th>mean</th>\n",
       "      <th>std</th>\n",
       "      <th>2.5q</th>\n",
       "      <th>25q</th>\n",
       "      <th>50q</th>\n",
       "      <th>75q</th>\n",
       "      <th>97.5q</th>\n",
       "      <th>mc err</th>\n",
       "    </tr>\n",
       "  </thead>\n",
       "  <tbody>\n",
       "    <tr>\n",
       "      <th>v</th>\n",
       "      <td>1.50369</td>\n",
       "      <td>0.0503402</td>\n",
       "      <td>1.40661</td>\n",
       "      <td>1.47241</td>\n",
       "      <td>1.49884</td>\n",
       "      <td>1.53692</td>\n",
       "      <td>1.60674</td>\n",
       "      <td>0.00312923</td>\n",
       "    </tr>\n",
       "    <tr>\n",
       "      <th>a</th>\n",
       "      <td>1.21609</td>\n",
       "      <td>0.0824999</td>\n",
       "      <td>1.1148</td>\n",
       "      <td>1.16168</td>\n",
       "      <td>1.2006</td>\n",
       "      <td>1.24152</td>\n",
       "      <td>1.47461</td>\n",
       "      <td>0.0078563</td>\n",
       "    </tr>\n",
       "    <tr>\n",
       "      <th>z</th>\n",
       "      <td>0.502645</td>\n",
       "      <td>0.0136967</td>\n",
       "      <td>0.474927</td>\n",
       "      <td>0.494108</td>\n",
       "      <td>0.503027</td>\n",
       "      <td>0.511223</td>\n",
       "      <td>0.529623</td>\n",
       "      <td>0.000705154</td>\n",
       "    </tr>\n",
       "    <tr>\n",
       "      <th>g</th>\n",
       "      <td>0.676203</td>\n",
       "      <td>0.244276</td>\n",
       "      <td>-0.0489132</td>\n",
       "      <td>0.567398</td>\n",
       "      <td>0.709073</td>\n",
       "      <td>0.860504</td>\n",
       "      <td>0.983883</td>\n",
       "      <td>0.0226653</td>\n",
       "    </tr>\n",
       "    <tr>\n",
       "      <th>t</th>\n",
       "      <td>1.19513</td>\n",
       "      <td>0.0217735</td>\n",
       "      <td>1.13374</td>\n",
       "      <td>1.18444</td>\n",
       "      <td>1.1991</td>\n",
       "      <td>1.21031</td>\n",
       "      <td>1.2274</td>\n",
       "      <td>0.00194117</td>\n",
       "    </tr>\n",
       "    <tr>\n",
       "      <th>dc</th>\n",
       "      <td>0.265591</td>\n",
       "      <td>0.0451601</td>\n",
       "      <td>0.179805</td>\n",
       "      <td>0.235347</td>\n",
       "      <td>0.264587</td>\n",
       "      <td>0.293601</td>\n",
       "      <td>0.364196</td>\n",
       "      <td>0.00213302</td>\n",
       "    </tr>\n",
       "  </tbody>\n",
       "</table>\n",
       "</div>"
      ],
      "text/plain": [
       "        mean        std       2.5q       25q       50q       75q     97.5q  \\\n",
       "v    1.50369  0.0503402    1.40661   1.47241   1.49884   1.53692   1.60674   \n",
       "a    1.21609  0.0824999     1.1148   1.16168    1.2006   1.24152   1.47461   \n",
       "z   0.502645  0.0136967   0.474927  0.494108  0.503027  0.511223  0.529623   \n",
       "g   0.676203   0.244276 -0.0489132  0.567398  0.709073  0.860504  0.983883   \n",
       "t    1.19513  0.0217735    1.13374   1.18444    1.1991   1.21031    1.2274   \n",
       "dc  0.265591  0.0451601   0.179805  0.235347  0.264587  0.293601  0.364196   \n",
       "\n",
       "         mc err  \n",
       "v    0.00312923  \n",
       "a     0.0078563  \n",
       "z   0.000705154  \n",
       "g     0.0226653  \n",
       "t    0.00194117  \n",
       "dc   0.00213302  "
      ]
     },
     "execution_count": 37,
     "metadata": {},
     "output_type": "execute_result"
    }
   ],
   "source": [
    "hddmnn_model.gen_stats()"
   ]
  },
  {
   "cell_type": "code",
   "execution_count": 38,
   "metadata": {},
   "outputs": [
    {
     "data": {
      "image/png": "[encoded data removed]",
      "text/plain": [
       "<Figure size 1000x399.6 with 1 Axes>"
      ]
     },
     "metadata": {},
     "output_type": "display_data"
    }
   ],
   "source": [
    "hddm.plotting.caterpillar_plot(hddm_model = hddmnn_model,\n",
    "                             ground_truth_parameter_dict = parameter_dict,\n",
    "                             drop_sd = False,\n",
    "                             x_limits = [-3, 3])"
   ]
  },
  {
   "cell_type": "markdown",
   "metadata": {},
   "source": [
    "### HIERARCHICAL VERSION"
   ]
  },
  {
   "cell_type": "code",
   "execution_count": 52,
   "metadata": {},
   "outputs": [],
   "source": [
    "data = []\n",
    "for subj in range(10):\n",
    "    sim_data_stimcoding, parameter_dict = hddm.simulators.simulator_stimcoding(model = model,\n",
    "                                                                               split_by = split_param,\n",
    "                                                                               drift_criterion = 0.3,\n",
    "                                                                               n_samples_by_condition = 500)\n",
    "    sim_data_stimcoding['subj_idx'] = subj\n",
    "    \n",
    "    data.append(sim_data_stimcoding)\n",
    "    \n",
    "data = pd.concat(data)"
   ]
  },
  {
   "cell_type": "code",
   "execution_count": 59,
   "metadata": {},
   "outputs": [
    {
     "name": "stdout",
     "output_type": "stream",
     "text": [
      "Setting priors uninformative (LANs only work with uninformative priors for now)\n",
      "Includes supplied:  ['z', 'g']\n"
     ]
    }
   ],
   "source": [
    "hddmnn_model = hddm.HDDMnnStimCoding(data,\n",
    "                                     include = hddm.simulators.model_config[model]['hddm_include'],\n",
    "                                     model = model,\n",
    "                                     stim_col = 'stim',\n",
    "                                     p_outlier = 0.0,\n",
    "                                     split_param = split_param,\n",
    "                                     informative = False,\n",
    "                                     is_group_model = True,\n",
    "                                     depends_on = {},\n",
    "                                     drift_criterion = True)"
   ]
  },
  {
   "cell_type": "code",
   "execution_count": 60,
   "metadata": {},
   "outputs": [
    {
     "name": "stdout",
     "output_type": "stream",
     "text": [
      " [-----------------100%-----------------] 301 of 300 complete in 239.7 sec"
     ]
    },
    {
     "data": {
      "text/plain": [
       "<pymc.MCMC.MCMC at 0x144d7b290>"
      ]
     },
     "execution_count": 60,
     "metadata": {},
     "output_type": "execute_result"
    }
   ],
   "source": [
    "hddmnn_model.sample(300, burn = 100)"
   ]
  },
  {
   "cell_type": "code",
   "execution_count": 61,
   "metadata": {},
   "outputs": [
    {
     "data": {
      "text/html": [
       "<div>\n",
       "<style scoped>\n",
       "    .dataframe tbody tr th:only-of-type {\n",
       "        vertical-align: middle;\n",
       "    }\n",
       "\n",
       "    .dataframe tbody tr th {\n",
       "        vertical-align: top;\n",
       "    }\n",
       "\n",
       "    .dataframe thead th {\n",
       "        text-align: right;\n",
       "    }\n",
       "</style>\n",
       "<table border=\"1\" class=\"dataframe\">\n",
       "  <thead>\n",
       "    <tr style=\"text-align: right;\">\n",
       "      <th></th>\n",
       "      <th>mean</th>\n",
       "      <th>std</th>\n",
       "      <th>2.5q</th>\n",
       "      <th>25q</th>\n",
       "      <th>50q</th>\n",
       "      <th>75q</th>\n",
       "      <th>97.5q</th>\n",
       "      <th>mc err</th>\n",
       "    </tr>\n",
       "  </thead>\n",
       "  <tbody>\n",
       "    <tr>\n",
       "      <th>dc</th>\n",
       "      <td>0.52069</td>\n",
       "      <td>0.209678</td>\n",
       "      <td>0.0601079</td>\n",
       "      <td>0.388063</td>\n",
       "      <td>0.524154</td>\n",
       "      <td>0.655378</td>\n",
       "      <td>0.948862</td>\n",
       "      <td>0.0133431</td>\n",
       "    </tr>\n",
       "    <tr>\n",
       "      <th>dc_std</th>\n",
       "      <td>0.638875</td>\n",
       "      <td>0.17958</td>\n",
       "      <td>0.389035</td>\n",
       "      <td>0.506166</td>\n",
       "      <td>0.618176</td>\n",
       "      <td>0.744461</td>\n",
       "      <td>1.09783</td>\n",
       "      <td>0.0142266</td>\n",
       "    </tr>\n",
       "    <tr>\n",
       "      <th>dc_subj.0</th>\n",
       "      <td>0.733523</td>\n",
       "      <td>0.0888233</td>\n",
       "      <td>0.572142</td>\n",
       "      <td>0.671505</td>\n",
       "      <td>0.733374</td>\n",
       "      <td>0.802415</td>\n",
       "      <td>0.902622</td>\n",
       "      <td>0.00726884</td>\n",
       "    </tr>\n",
       "    <tr>\n",
       "      <th>dc_subj.1</th>\n",
       "      <td>0.402484</td>\n",
       "      <td>0.0556811</td>\n",
       "      <td>0.292607</td>\n",
       "      <td>0.360026</td>\n",
       "      <td>0.40564</td>\n",
       "      <td>0.438318</td>\n",
       "      <td>0.516064</td>\n",
       "      <td>0.00435108</td>\n",
       "    </tr>\n",
       "    <tr>\n",
       "      <th>dc_subj.2</th>\n",
       "      <td>0.302857</td>\n",
       "      <td>0.0255819</td>\n",
       "      <td>0.247516</td>\n",
       "      <td>0.288638</td>\n",
       "      <td>0.305017</td>\n",
       "      <td>0.321058</td>\n",
       "      <td>0.344241</td>\n",
       "      <td>0.00208399</td>\n",
       "    </tr>\n",
       "    <tr>\n",
       "      <th>dc_subj.3</th>\n",
       "      <td>0.432747</td>\n",
       "      <td>0.0378038</td>\n",
       "      <td>0.359525</td>\n",
       "      <td>0.407738</td>\n",
       "      <td>0.432439</td>\n",
       "      <td>0.458717</td>\n",
       "      <td>0.501891</td>\n",
       "      <td>0.00321865</td>\n",
       "    </tr>\n",
       "    <tr>\n",
       "      <th>dc_subj.4</th>\n",
       "      <td>0.263934</td>\n",
       "      <td>0.036472</td>\n",
       "      <td>0.194515</td>\n",
       "      <td>0.237844</td>\n",
       "      <td>0.266959</td>\n",
       "      <td>0.288271</td>\n",
       "      <td>0.327261</td>\n",
       "      <td>0.00316814</td>\n",
       "    </tr>\n",
       "    <tr>\n",
       "      <th>dc_subj.5</th>\n",
       "      <td>0.17038</td>\n",
       "      <td>0.0445009</td>\n",
       "      <td>0.0898569</td>\n",
       "      <td>0.135946</td>\n",
       "      <td>0.172472</td>\n",
       "      <td>0.200152</td>\n",
       "      <td>0.260064</td>\n",
       "      <td>0.00405629</td>\n",
       "    </tr>\n",
       "    <tr>\n",
       "      <th>dc_subj.6</th>\n",
       "      <td>0.191657</td>\n",
       "      <td>0.0609981</td>\n",
       "      <td>0.066515</td>\n",
       "      <td>0.160862</td>\n",
       "      <td>0.195456</td>\n",
       "      <td>0.234292</td>\n",
       "      <td>0.305317</td>\n",
       "      <td>0.00514904</td>\n",
       "    </tr>\n",
       "    <tr>\n",
       "      <th>dc_subj.7</th>\n",
       "      <td>0.329185</td>\n",
       "      <td>0.0628998</td>\n",
       "      <td>0.182006</td>\n",
       "      <td>0.294107</td>\n",
       "      <td>0.332354</td>\n",
       "      <td>0.375742</td>\n",
       "      <td>0.455582</td>\n",
       "      <td>0.00588269</td>\n",
       "    </tr>\n",
       "    <tr>\n",
       "      <th>dc_subj.8</th>\n",
       "      <td>0.41286</td>\n",
       "      <td>0.0270169</td>\n",
       "      <td>0.361481</td>\n",
       "      <td>0.393569</td>\n",
       "      <td>0.414409</td>\n",
       "      <td>0.432739</td>\n",
       "      <td>0.460755</td>\n",
       "      <td>0.00233557</td>\n",
       "    </tr>\n",
       "    <tr>\n",
       "      <th>dc_subj.9</th>\n",
       "      <td>1.9998</td>\n",
       "      <td>0.0571863</td>\n",
       "      <td>1.89813</td>\n",
       "      <td>1.95724</td>\n",
       "      <td>1.99649</td>\n",
       "      <td>2.03304</td>\n",
       "      <td>2.12215</td>\n",
       "      <td>0.00442029</td>\n",
       "    </tr>\n",
       "  </tbody>\n",
       "</table>\n",
       "</div>"
      ],
      "text/plain": [
       "               mean        std       2.5q       25q       50q       75q  \\\n",
       "dc          0.52069   0.209678  0.0601079  0.388063  0.524154  0.655378   \n",
       "dc_std     0.638875    0.17958   0.389035  0.506166  0.618176  0.744461   \n",
       "dc_subj.0  0.733523  0.0888233   0.572142  0.671505  0.733374  0.802415   \n",
       "dc_subj.1  0.402484  0.0556811   0.292607  0.360026   0.40564  0.438318   \n",
       "dc_subj.2  0.302857  0.0255819   0.247516  0.288638  0.305017  0.321058   \n",
       "dc_subj.3  0.432747  0.0378038   0.359525  0.407738  0.432439  0.458717   \n",
       "dc_subj.4  0.263934   0.036472   0.194515  0.237844  0.266959  0.288271   \n",
       "dc_subj.5   0.17038  0.0445009  0.0898569  0.135946  0.172472  0.200152   \n",
       "dc_subj.6  0.191657  0.0609981   0.066515  0.160862  0.195456  0.234292   \n",
       "dc_subj.7  0.329185  0.0628998   0.182006  0.294107  0.332354  0.375742   \n",
       "dc_subj.8   0.41286  0.0270169   0.361481  0.393569  0.414409  0.432739   \n",
       "dc_subj.9    1.9998  0.0571863    1.89813   1.95724   1.99649   2.03304   \n",
       "\n",
       "              97.5q      mc err  \n",
       "dc         0.948862   0.0133431  \n",
       "dc_std      1.09783   0.0142266  \n",
       "dc_subj.0  0.902622  0.00726884  \n",
       "dc_subj.1  0.516064  0.00435108  \n",
       "dc_subj.2  0.344241  0.00208399  \n",
       "dc_subj.3  0.501891  0.00321865  \n",
       "dc_subj.4  0.327261  0.00316814  \n",
       "dc_subj.5  0.260064  0.00405629  \n",
       "dc_subj.6  0.305317  0.00514904  \n",
       "dc_subj.7  0.455582  0.00588269  \n",
       "dc_subj.8  0.460755  0.00233557  \n",
       "dc_subj.9   2.12215  0.00442029  "
      ]
     },
     "execution_count": 61,
     "metadata": {},
     "output_type": "execute_result"
    }
   ],
   "source": [
    "hddmnn_model.gen_stats()[60:80]"
   ]
  },
  {
   "cell_type": "code",
   "execution_count": 48,
   "metadata": {},
   "outputs": [
    {
     "data": {
      "text/plain": [
       "0.3"
      ]
     },
     "execution_count": 48,
     "metadata": {},
     "output_type": "execute_result"
    }
   ],
   "source": [
    "data['v'].mean()"
   ]
  },
  {
   "cell_type": "code",
   "execution_count": null,
   "metadata": {},
   "outputs": [],
   "source": []
  }
 ],
 "metadata": {
  "kernelspec": {
   "display_name": "hddmnn_tutorial",
   "language": "python",
   "name": "hddmnn_tutorial"
  },
  "language_info": {
   "codemirror_mode": {
    "name": "ipython",
    "version": 3
   },
   "file_extension": ".py",
   "mimetype": "text/x-python",
   "name": "python",
   "nbconvert_exporter": "python",
   "pygments_lexer": "ipython3",
   "version": "3.7.7"
  }
 },
 "nbformat": 4,
 "nbformat_minor": 4
}
