{
 "cells": [
  {
   "cell_type": "code",
   "execution_count": 1,
   "metadata": {},
   "outputs": [],
   "source": [
    "# MODULE IMPORTS ----\n",
    "\n",
    "# warning settings\n",
    "import warnings\n",
    "warnings.simplefilter(action='ignore', category=FutureWarning)\n",
    "\n",
    "# Data management\n",
    "import pandas as pd\n",
    "import numpy as np\n",
    "import pickle\n",
    "\n",
    "# Plotting\n",
    "import matplotlib.pyplot as plt\n",
    "import matplotlib\n",
    "import seaborn as sns\n",
    "\n",
    "# Stats functionality\n",
    "from statsmodels.distributions.empirical_distribution import ECDF\n",
    "\n",
    "# HDDM\n",
    "import hddm"
   ]
  },
  {
   "cell_type": "code",
   "execution_count": 2,
   "metadata": {},
   "outputs": [],
   "source": [
    "from hddm.simulators.hddm_dataset_generators import simulator_h_c"
   ]
  },
  {
   "cell_type": "code",
   "execution_count": null,
   "metadata": {},
   "outputs": [],
   "source": [
    "hddm."
   ]
  },
  {
   "cell_type": "code",
   "execution_count": 3,
   "metadata": {},
   "outputs": [
    {
     "name": "stdout",
     "output_type": "stream",
     "text": [
      "Help on function simulator_h_c in module hddm.simulators.hddm_dataset_generators:\n",
      "\n",
      "simulator_h_c(data=None, n_subjects=10, n_trials_per_subject=100, model='ddm_vanilla', conditions=None, depends_on=None, regression_models=None, regression_covariates=None, group_only_regressors=True, group_only=['z'], fixed_at_default=None, p_outlier=0.0, outlier_max_t=10.0, **kwargs)\n",
      "    Flexible simulator that allows specification of models very similar to the hddm model classes. Has two major modes. When data \n",
      "    \n",
      "    is supplied the function generates synthetic versions of the provided data. If no data is provided, you can supply \n",
      "    a varied of options to create complicated synthetic datasets from scratch.\n",
      "    \n",
      "    :Arguments:\n",
      "        data: pd.DataFrame <default=None>\n",
      "            Actual covariate dataset. If data is supplied its covariates are used instead of generated.\n",
      "        n_subjects: int <default=5>\n",
      "            Number of subjects in the datasets\n",
      "        n_trials_per_subject: int <default=500>\n",
      "            Number of trials for each subject\n",
      "        model: str <default = 'ddm_vanilla'>\n",
      "            Model to sample from. For traditional hddm supported models, append '_vanilla' to the model. Omitting 'vanilla'\n",
      "            imposes constraints on the parameter sets to not violate the trained parameter space of our LANs.\n",
      "        conditions: dict <default=None>\n",
      "            Keys represent condition relevant columns, and values are lists of unique items for each condition relevant column.\n",
      "            Example: {\"c_one\": [\"high\", \"low\"], \"c_two\": [\"high\", \"low\"], \"c_three\": [\"high\", \"medium\", \"low\"]}\n",
      "        depends_on: dict <default=None>\n",
      "            Keys specify model parameters that depend on the values --> lists of condition relevant columns.\n",
      "            Follows the syntax in the HDDM model classes. Example: {\"v\": [\"c_one\", \"c_two\"]}\n",
      "        regression_models: list or strings <default=None>\n",
      "            Specify regression model formulas for one or more dependent parameters in a list. \n",
      "            Follows syntax of HDDM model classes.\n",
      "            Example: [\"z ~ covariate_name\"]\n",
      "        regression_covariates: dict <default={'covariate_name': {'type': 'categorical', 'range': (0, 4)}}>\n",
      "            Dictionary in dictionary. Specify the name of the covariate column as keys, and for each key supply the 'type' (categorical, continuous) and\n",
      "            'range' ((lower bound, upper bound)) of the covariate.\n",
      "            Example: {\"covariate_name\": {\"type\": \"categorical\", \"range\": (0, 4)}}\n",
      "        group_only_regressors: bin <default=True>\n",
      "            Should regressors only be specified at the group level? If true then only intercepts are specified subject wise.\n",
      "            Other covariates act globally.\n",
      "        group_only: list <default = ['z']>\n",
      "            List of parameters that are specified only at the group level.\n",
      "        fixed_at_default: list <default=None>\n",
      "            List of parameters for which defaults are to be used. \n",
      "            These defaults are specified in the model_config dictionary, \n",
      "            which you can access via: hddm.simulators.model_config.\n",
      "            Example: ['t']\n",
      "        p_outlier: float <default = 0.0>\n",
      "            Specifies the proportion of outliers in the data.\n",
      "        outlier_max_t: float <default = 10.0>\n",
      "            Outliers are generated from np.random.uniform(low = 0, high = outlier_max_t) with random choices.\n",
      "    Returns:\n",
      "        (pandas.DataFrame, dict): The Dataframe holds the generated dataset, ready for constuction of an hddm model. The dictionary holds the groundtruth parameter (values) and parameter names (keys). Keys match\n",
      "                                  the names of traces when fitting the equivalent hddm model. The parameter dictionary is useful for some graphs, otherwise not neccessary.\n",
      "\n"
     ]
    }
   ],
   "source": [
    "help(simulator_h_c)"
   ]
  },
  {
   "cell_type": "code",
   "execution_count": 4,
   "metadata": {},
   "outputs": [],
   "source": [
    "data = pd.read_csv('stress_data.csv')"
   ]
  },
  {
   "cell_type": "code",
   "execution_count": 5,
   "metadata": {},
   "outputs": [
    {
     "data": {
      "text/plain": [
       "0       0.903757\n",
       "1      -1.333441\n",
       "2       1.649489\n",
       "3      -1.333441\n",
       "4      -1.333441\n",
       "          ...   \n",
       "6277    1.341077\n",
       "6278   -1.312198\n",
       "6279   -1.312198\n",
       "6280    1.341077\n",
       "6281    1.341077\n",
       "Name: sub_reward, Length: 6282, dtype: float64"
      ]
     },
     "execution_count": 5,
     "metadata": {},
     "output_type": "execute_result"
    }
   ],
   "source": [
    "data['sub_reward']"
   ]
  },
  {
   "cell_type": "code",
   "execution_count": 6,
   "metadata": {},
   "outputs": [],
   "source": [
    "data['bin_reward'] = (data['sub_reward'] < 0).astype(np.int)"
   ]
  },
  {
   "cell_type": "code",
   "execution_count": 5,
   "metadata": {},
   "outputs": [
    {
     "name": "stdout",
     "output_type": "stream",
     "text": [
      "Using default priors: Uninformative\n",
      "Includes supplied:  ['z']\n",
      " [-----------------100%-----------------] 1000 of 1000 complete in 30.4 sec"
     ]
    },
    {
     "data": {
      "text/plain": [
       "<pymc.MCMC.MCMC at 0x14ebdca10>"
      ]
     },
     "execution_count": 5,
     "metadata": {},
     "output_type": "execute_result"
    }
   ],
   "source": [
    "model = 'ddm'\n",
    "data, param_dict = simulator_h_c(n_subjects = 1, n_trials_per_subject = 1000, model = model, \n",
    "                                 conditions = None,\n",
    "                                 depends_on = None,\n",
    "                                 #conditions = {'bin_reward': ['1', '2', '3']}, \n",
    "                                 #depends_on = {'v': ['bin_reward']},\n",
    "                                 regression_models = None,\n",
    "                                 group_only = None,\n",
    "                                 p_outlier = 0.00,\n",
    "                                 )\n",
    "\n",
    "m = hddm.HDDMnn(data,\n",
    "                #depends_on = {'v': ['bin_reward']},\n",
    "                p_outlier=0.05,\n",
    "                include = hddm.model_config.model_config[model]['hddm_include'], \n",
    "                model=model,\n",
    "                is_group_model=False)\n",
    "\n",
    "m.sample(1000, burn = 200)\n",
    "#post_pred_gen(m)"
   ]
  },
  {
   "cell_type": "code",
   "execution_count": 4,
   "metadata": {},
   "outputs": [
    {
     "data": {
      "text/html": [
       "<div>\n",
       "<style scoped>\n",
       "    .dataframe tbody tr th:only-of-type {\n",
       "        vertical-align: middle;\n",
       "    }\n",
       "\n",
       "    .dataframe tbody tr th {\n",
       "        vertical-align: top;\n",
       "    }\n",
       "\n",
       "    .dataframe thead th {\n",
       "        text-align: right;\n",
       "    }\n",
       "</style>\n",
       "<table border=\"1\" class=\"dataframe\">\n",
       "  <thead>\n",
       "    <tr style=\"text-align: right;\">\n",
       "      <th></th>\n",
       "      <th>rt</th>\n",
       "      <th>response</th>\n",
       "      <th>subj_idx</th>\n",
       "      <th>covariate_name</th>\n",
       "      <th>v</th>\n",
       "      <th>a</th>\n",
       "      <th>z</th>\n",
       "      <th>t</th>\n",
       "    </tr>\n",
       "  </thead>\n",
       "  <tbody>\n",
       "    <tr>\n",
       "      <th>0</th>\n",
       "      <td>0.384999</td>\n",
       "      <td>1.0</td>\n",
       "      <td>0</td>\n",
       "      <td>0.75</td>\n",
       "      <td>1.248788</td>\n",
       "      <td>1.078103</td>\n",
       "      <td>0.448055</td>\n",
       "      <td>0.001</td>\n",
       "    </tr>\n",
       "    <tr>\n",
       "      <th>1</th>\n",
       "      <td>0.644995</td>\n",
       "      <td>1.0</td>\n",
       "      <td>0</td>\n",
       "      <td>0.00</td>\n",
       "      <td>1.248788</td>\n",
       "      <td>1.078103</td>\n",
       "      <td>0.448055</td>\n",
       "      <td>0.001</td>\n",
       "    </tr>\n",
       "    <tr>\n",
       "      <th>2</th>\n",
       "      <td>2.708986</td>\n",
       "      <td>1.0</td>\n",
       "      <td>0</td>\n",
       "      <td>0.50</td>\n",
       "      <td>1.248788</td>\n",
       "      <td>1.078103</td>\n",
       "      <td>0.448055</td>\n",
       "      <td>0.001</td>\n",
       "    </tr>\n",
       "    <tr>\n",
       "      <th>3</th>\n",
       "      <td>0.723994</td>\n",
       "      <td>1.0</td>\n",
       "      <td>0</td>\n",
       "      <td>0.25</td>\n",
       "      <td>1.248788</td>\n",
       "      <td>1.078103</td>\n",
       "      <td>0.448055</td>\n",
       "      <td>0.001</td>\n",
       "    </tr>\n",
       "    <tr>\n",
       "      <th>4</th>\n",
       "      <td>0.873992</td>\n",
       "      <td>1.0</td>\n",
       "      <td>0</td>\n",
       "      <td>0.00</td>\n",
       "      <td>1.248788</td>\n",
       "      <td>1.078103</td>\n",
       "      <td>0.448055</td>\n",
       "      <td>0.001</td>\n",
       "    </tr>\n",
       "    <tr>\n",
       "      <th>...</th>\n",
       "      <td>...</td>\n",
       "      <td>...</td>\n",
       "      <td>...</td>\n",
       "      <td>...</td>\n",
       "      <td>...</td>\n",
       "      <td>...</td>\n",
       "      <td>...</td>\n",
       "      <td>...</td>\n",
       "    </tr>\n",
       "    <tr>\n",
       "      <th>9995</th>\n",
       "      <td>0.331999</td>\n",
       "      <td>1.0</td>\n",
       "      <td>9</td>\n",
       "      <td>0.50</td>\n",
       "      <td>1.396531</td>\n",
       "      <td>1.229369</td>\n",
       "      <td>0.370358</td>\n",
       "      <td>0.001</td>\n",
       "    </tr>\n",
       "    <tr>\n",
       "      <th>9996</th>\n",
       "      <td>0.445998</td>\n",
       "      <td>1.0</td>\n",
       "      <td>9</td>\n",
       "      <td>0.50</td>\n",
       "      <td>1.396531</td>\n",
       "      <td>1.229369</td>\n",
       "      <td>0.370358</td>\n",
       "      <td>0.001</td>\n",
       "    </tr>\n",
       "    <tr>\n",
       "      <th>9997</th>\n",
       "      <td>0.580996</td>\n",
       "      <td>1.0</td>\n",
       "      <td>9</td>\n",
       "      <td>0.00</td>\n",
       "      <td>1.396531</td>\n",
       "      <td>1.229369</td>\n",
       "      <td>0.370358</td>\n",
       "      <td>0.001</td>\n",
       "    </tr>\n",
       "    <tr>\n",
       "      <th>9998</th>\n",
       "      <td>1.633020</td>\n",
       "      <td>1.0</td>\n",
       "      <td>9</td>\n",
       "      <td>0.00</td>\n",
       "      <td>1.396531</td>\n",
       "      <td>1.229369</td>\n",
       "      <td>0.370358</td>\n",
       "      <td>0.001</td>\n",
       "    </tr>\n",
       "    <tr>\n",
       "      <th>9999</th>\n",
       "      <td>0.388999</td>\n",
       "      <td>1.0</td>\n",
       "      <td>9</td>\n",
       "      <td>0.50</td>\n",
       "      <td>1.396531</td>\n",
       "      <td>1.229369</td>\n",
       "      <td>0.370358</td>\n",
       "      <td>0.001</td>\n",
       "    </tr>\n",
       "  </tbody>\n",
       "</table>\n",
       "<p>10000 rows × 8 columns</p>\n",
       "</div>"
      ],
      "text/plain": [
       "            rt  response subj_idx  covariate_name         v         a  \\\n",
       "0     0.384999       1.0        0            0.75  1.248788  1.078103   \n",
       "1     0.644995       1.0        0            0.00  1.248788  1.078103   \n",
       "2     2.708986       1.0        0            0.50  1.248788  1.078103   \n",
       "3     0.723994       1.0        0            0.25  1.248788  1.078103   \n",
       "4     0.873992       1.0        0            0.00  1.248788  1.078103   \n",
       "...        ...       ...      ...             ...       ...       ...   \n",
       "9995  0.331999       1.0        9            0.50  1.396531  1.229369   \n",
       "9996  0.445998       1.0        9            0.50  1.396531  1.229369   \n",
       "9997  0.580996       1.0        9            0.00  1.396531  1.229369   \n",
       "9998  1.633020       1.0        9            0.00  1.396531  1.229369   \n",
       "9999  0.388999       1.0        9            0.50  1.396531  1.229369   \n",
       "\n",
       "             z      t  \n",
       "0     0.448055  0.001  \n",
       "1     0.448055  0.001  \n",
       "2     0.448055  0.001  \n",
       "3     0.448055  0.001  \n",
       "4     0.448055  0.001  \n",
       "...        ...    ...  \n",
       "9995  0.370358  0.001  \n",
       "9996  0.370358  0.001  \n",
       "9997  0.370358  0.001  \n",
       "9998  0.370358  0.001  \n",
       "9999  0.370358  0.001  \n",
       "\n",
       "[10000 rows x 8 columns]"
      ]
     },
     "execution_count": 4,
     "metadata": {},
     "output_type": "execute_result"
    }
   ],
   "source": [
    "data"
   ]
  },
  {
   "cell_type": "code",
   "execution_count": 6,
   "metadata": {},
   "outputs": [
    {
     "data": {
      "text/plain": [
       "[v,\n",
       " v_std,\n",
       " v_tau,\n",
       " v_subj,\n",
       " a,\n",
       " a_std,\n",
       " a_tau,\n",
       " a_subj,\n",
       " z,\n",
       " z_std,\n",
       " z_tau,\n",
       " z_subj,\n",
       " t,\n",
       " t_std,\n",
       " t_tau,\n",
       " t_subj,\n",
       " wfpt]"
      ]
     },
     "execution_count": 6,
     "metadata": {},
     "output_type": "execute_result"
    }
   ],
   "source": [
    "m.knodes"
   ]
  },
  {
   "cell_type": "code",
   "execution_count": 19,
   "metadata": {},
   "outputs": [],
   "source": [
    "data['bin_reward_int'] = data['bin_reward'].astype(np.int)"
   ]
  },
  {
   "cell_type": "code",
   "execution_count": 20,
   "metadata": {},
   "outputs": [
    {
     "data": {
      "text/plain": [
       "0       1\n",
       "1       1\n",
       "2       1\n",
       "3       1\n",
       "4       1\n",
       "       ..\n",
       "5995    3\n",
       "5996    3\n",
       "5997    3\n",
       "5998    3\n",
       "5999    3\n",
       "Name: bin_reward_int, Length: 6000, dtype: int64"
      ]
     },
     "execution_count": 20,
     "metadata": {},
     "output_type": "execute_result"
    }
   ],
   "source": [
    "data['bin_reward_int']"
   ]
  },
  {
   "cell_type": "code",
   "execution_count": 21,
   "metadata": {},
   "outputs": [
    {
     "name": "stdout",
     "output_type": "stream",
     "text": [
      "Includes supplied:  ['z']\n"
     ]
    }
   ],
   "source": [
    "m = hddm.HDDMnn(data,depends_on = {'v': ['bin_reward_int']},p_outlier=0.05,\n",
    "                         include = hddm.simulators.model_config[model]['hddm_include'], model=model,informative = False)"
   ]
  },
  {
   "cell_type": "code",
   "execution_count": 35,
   "metadata": {},
   "outputs": [
    {
     "name": "stdout",
     "output_type": "stream",
     "text": [
      "Help on function post_pred_gen in module kabuki.analyze:\n",
      "\n",
      "post_pred_gen(model, groupby=None, samples=500, append_data=False, add_model_parameters=False, progress_bar=True)\n",
      "    Run posterior predictive check on a model.\n",
      "    \n",
      "    :Arguments:\n",
      "        model : kabuki.Hierarchical\n",
      "            Kabuki model over which to compute the ppc on.\n",
      "    \n",
      "    :Optional:\n",
      "        samples : int\n",
      "            How many samples to generate for each node.\n",
      "        groupby : list\n",
      "            Alternative grouping of the data. If not supplied, uses splitting\n",
      "            of the model (as provided by depends_on).\n",
      "        append_data : bool (default=False)\n",
      "            Whether to append the observed data of each node to the replicatons.\n",
      "        progress_bar : bool (default=True)\n",
      "            Display progress bar\n",
      "    \n",
      "    :Returns:\n",
      "        Hierarchical pandas.DataFrame with multiple sampled RT data sets.\n",
      "        1st level: wfpt node\n",
      "        2nd level: posterior predictive sample\n",
      "        3rd level: original data index\n",
      "    \n",
      "    :See also:\n",
      "        post_pred_stats\n",
      "\n"
     ]
    }
   ],
   "source": [
    "help(post_pred_gen)"
   ]
  },
  {
   "cell_type": "code",
   "execution_count": 26,
   "metadata": {},
   "outputs": [
    {
     "ename": "AttributeError",
     "evalue": "'HDDMnn' object has no attribute 'extended_parents'",
     "output_type": "error",
     "traceback": [
      "\u001b[0;31m---------------------------------------------------------------------------\u001b[0m",
      "\u001b[0;31mAttributeError\u001b[0m                            Traceback (most recent call last)",
      "\u001b[0;32m<ipython-input-26-7e54b51abeef>\u001b[0m in \u001b[0;36m<module>\u001b[0;34m\u001b[0m\n\u001b[1;32m      1\u001b[0m \u001b[0;32mfrom\u001b[0m \u001b[0mkabuki\u001b[0m\u001b[0;34m.\u001b[0m\u001b[0manalyze\u001b[0m \u001b[0;32mimport\u001b[0m \u001b[0mpost_pred_gen\u001b[0m\u001b[0;34m\u001b[0m\u001b[0;34m\u001b[0m\u001b[0m\n\u001b[1;32m      2\u001b[0m \u001b[0;32mfrom\u001b[0m \u001b[0mkabuki\u001b[0m\u001b[0;34m.\u001b[0m\u001b[0manalyze\u001b[0m \u001b[0;32mimport\u001b[0m \u001b[0m_post_pred_generate\u001b[0m\u001b[0;34m\u001b[0m\u001b[0;34m\u001b[0m\u001b[0m\n\u001b[0;32m----> 3\u001b[0;31m \u001b[0mx\u001b[0m \u001b[0;34m=\u001b[0m \u001b[0m_post_pred_generate\u001b[0m\u001b[0;34m(\u001b[0m\u001b[0mm\u001b[0m\u001b[0;34m,\u001b[0m \u001b[0msamples\u001b[0m \u001b[0;34m=\u001b[0m \u001b[0;36m10\u001b[0m\u001b[0;34m,\u001b[0m \u001b[0madd_model_parameters\u001b[0m \u001b[0;34m=\u001b[0m \u001b[0;32mTrue\u001b[0m\u001b[0;34m)\u001b[0m\u001b[0;34m\u001b[0m\u001b[0;34m\u001b[0m\u001b[0m\n\u001b[0m",
      "\u001b[0;32m~/opt/miniconda3/envs/hddmnn_git_test/lib/python3.7/site-packages/kabuki/analyze.py\u001b[0m in \u001b[0;36m_post_pred_generate\u001b[0;34m(bottom_node, samples, data, append_data, add_model_parameters)\u001b[0m\n\u001b[1;32m    276\u001b[0m     \u001b[0;31m# Sample and generate stats\u001b[0m\u001b[0;34m\u001b[0m\u001b[0;34m\u001b[0m\u001b[0;34m\u001b[0m\u001b[0m\n\u001b[1;32m    277\u001b[0m     \u001b[0;32mfor\u001b[0m \u001b[0msample\u001b[0m \u001b[0;32min\u001b[0m \u001b[0mrange\u001b[0m\u001b[0;34m(\u001b[0m\u001b[0msamples\u001b[0m\u001b[0;34m)\u001b[0m\u001b[0;34m:\u001b[0m\u001b[0;34m\u001b[0m\u001b[0;34m\u001b[0m\u001b[0m\n\u001b[0;32m--> 278\u001b[0;31m         \u001b[0m_parents_to_random_posterior_sample\u001b[0m\u001b[0;34m(\u001b[0m\u001b[0mbottom_node\u001b[0m\u001b[0;34m)\u001b[0m\u001b[0;34m\u001b[0m\u001b[0;34m\u001b[0m\u001b[0m\n\u001b[0m\u001b[1;32m    279\u001b[0m         \u001b[0;31m# Generate data from bottom node\u001b[0m\u001b[0;34m\u001b[0m\u001b[0;34m\u001b[0m\u001b[0;34m\u001b[0m\u001b[0m\n\u001b[1;32m    280\u001b[0m         \u001b[0msampled_data\u001b[0m \u001b[0;34m=\u001b[0m \u001b[0mbottom_node\u001b[0m\u001b[0;34m.\u001b[0m\u001b[0mrandom\u001b[0m\u001b[0;34m(\u001b[0m\u001b[0madd_model_parameters\u001b[0m \u001b[0;34m=\u001b[0m \u001b[0madd_model_parameters\u001b[0m\u001b[0;34m)\u001b[0m\u001b[0;34m\u001b[0m\u001b[0;34m\u001b[0m\u001b[0m\n",
      "\u001b[0;32m~/opt/miniconda3/envs/hddmnn_git_test/lib/python3.7/site-packages/kabuki/analyze.py\u001b[0m in \u001b[0;36m_parents_to_random_posterior_sample\u001b[0;34m(bottom_node, pos)\u001b[0m\n\u001b[1;32m    421\u001b[0m \u001b[0;32mdef\u001b[0m \u001b[0m_parents_to_random_posterior_sample\u001b[0m\u001b[0;34m(\u001b[0m\u001b[0mbottom_node\u001b[0m\u001b[0;34m,\u001b[0m \u001b[0mpos\u001b[0m\u001b[0;34m=\u001b[0m\u001b[0;32mNone\u001b[0m\u001b[0;34m)\u001b[0m\u001b[0;34m:\u001b[0m\u001b[0;34m\u001b[0m\u001b[0;34m\u001b[0m\u001b[0m\n\u001b[1;32m    422\u001b[0m     \u001b[0;34m\"\"\"Walks through parents and sets them to pos sample.\"\"\"\u001b[0m\u001b[0;34m\u001b[0m\u001b[0;34m\u001b[0m\u001b[0m\n\u001b[0;32m--> 423\u001b[0;31m     \u001b[0;32mfor\u001b[0m \u001b[0mi\u001b[0m\u001b[0;34m,\u001b[0m \u001b[0mparent\u001b[0m \u001b[0;32min\u001b[0m \u001b[0menumerate\u001b[0m\u001b[0;34m(\u001b[0m\u001b[0mbottom_node\u001b[0m\u001b[0;34m.\u001b[0m\u001b[0mextended_parents\u001b[0m\u001b[0;34m)\u001b[0m\u001b[0;34m:\u001b[0m\u001b[0;34m\u001b[0m\u001b[0;34m\u001b[0m\u001b[0m\n\u001b[0m\u001b[1;32m    424\u001b[0m         \u001b[0;32mif\u001b[0m \u001b[0;32mnot\u001b[0m \u001b[0misinstance\u001b[0m\u001b[0;34m(\u001b[0m\u001b[0mparent\u001b[0m\u001b[0;34m,\u001b[0m \u001b[0mpm\u001b[0m\u001b[0;34m.\u001b[0m\u001b[0mNode\u001b[0m\u001b[0;34m)\u001b[0m\u001b[0;34m:\u001b[0m \u001b[0;31m# Skip non-stochastic nodes\u001b[0m\u001b[0;34m\u001b[0m\u001b[0;34m\u001b[0m\u001b[0m\n\u001b[1;32m    425\u001b[0m             \u001b[0;32mcontinue\u001b[0m\u001b[0;34m\u001b[0m\u001b[0;34m\u001b[0m\u001b[0m\n",
      "\u001b[0;31mAttributeError\u001b[0m: 'HDDMnn' object has no attribute 'extended_parents'"
     ]
    }
   ],
   "source": [
    "from kabuki.analyze import post_pred_gen\n",
    "from kabuki.analyze import _post_pred_generate\n",
    "x = _post_pred_generate(m, samples = 10, add_model_parameters = True)"
   ]
  },
  {
   "cell_type": "code",
   "execution_count": 29,
   "metadata": {},
   "outputs": [],
   "source": [
    "observeds = m.get_observeds()"
   ]
  },
  {
   "cell_type": "code",
   "execution_count": 31,
   "metadata": {},
   "outputs": [
    {
     "name": "stdout",
     "output_type": "stream",
     "text": [
      "     knode_name stochastic observed   subj  node tag depends hidden   rt  \\\n",
      "wfpt       wfpt      False     True  False  wfpt  ()      []  False  NaN   \n",
      "\n",
      "     response  ...    z    t mean  std 2.5q  25q  50q  75q 97.5q mc err  \n",
      "wfpt      NaN  ...  NaN  NaN  NaN  NaN  NaN  NaN  NaN  NaN   NaN    NaN  \n",
      "\n",
      "[1 rows x 24 columns]\n"
     ]
    }
   ],
   "source": [
    "for tag, nodes in observeds.groupby('tag'):\n",
    "    print(nodes)\n",
    "    for subj_i, (node_name, bottom_node) in enumerate(nodes.iterrows()):\n",
    "        my_node = bottom_node[\"node\"]"
   ]
  },
  {
   "cell_type": "code",
   "execution_count": 40,
   "metadata": {},
   "outputs": [
    {
     "data": {
      "text/plain": [
       "{'p_outlier': 0.05,\n",
       " 'w_outlier': 0.1,\n",
       " 'v': <pymc.distributions.new_dist_class.<locals>.new_class 'v' at 0x14ebdb190>,\n",
       " 'a': <pymc.distributions.new_dist_class.<locals>.new_class 'a' at 0x14ebdc990>,\n",
       " 'z': <pymc.PyMCObjects.Deterministic 'z' at 0x10922cc10>,\n",
       " 't': <pymc.distributions.new_dist_class.<locals>.new_class 't' at 0x10af99c50>}"
      ]
     },
     "execution_count": 40,
     "metadata": {},
     "output_type": "execute_result"
    }
   ],
   "source": [
    "my_node.parents"
   ]
  },
  {
   "cell_type": "code",
   "execution_count": 56,
   "metadata": {},
   "outputs": [],
   "source": [
    "out = pd.DataFrame(pd.concat(_post_pred_generate(my_node, \n",
    "                              samples = 10, \n",
    "                              data = None, \n",
    "                              append_data = False, \n",
    "                              add_model_parameters = True)).mean()[['v', 'a', 'z', 't']].astype(np.float32)).T"
   ]
  },
  {
   "cell_type": "code",
   "execution_count": 55,
   "metadata": {},
   "outputs": [
    {
     "ename": "IndexError",
     "evalue": "invalid index to scalar variable.",
     "output_type": "error",
     "traceback": [
      "\u001b[0;31m---------------------------------------------------------------------------\u001b[0m",
      "\u001b[0;31mIndexError\u001b[0m                                Traceback (most recent call last)",
      "\u001b[0;32m<ipython-input-55-c23d24add7d0>\u001b[0m in \u001b[0;36m<module>\u001b[0;34m\u001b[0m\n\u001b[0;32m----> 1\u001b[0;31m \u001b[0mout\u001b[0m\u001b[0;34m.\u001b[0m\u001b[0mT\u001b[0m\u001b[0;34m.\u001b[0m\u001b[0mv\u001b[0m\u001b[0;34m[\u001b[0m\u001b[0;36m0\u001b[0m\u001b[0;34m]\u001b[0m\u001b[0;34m\u001b[0m\u001b[0;34m\u001b[0m\u001b[0m\n\u001b[0m",
      "\u001b[0;31mIndexError\u001b[0m: invalid index to scalar variable."
     ]
    }
   ],
   "source": [
    "out.T.v[0]"
   ]
  },
  {
   "cell_type": "code",
   "execution_count": 50,
   "metadata": {},
   "outputs": [],
   "source": [
    "out_T = pd.DataFrame(out).T"
   ]
  },
  {
   "cell_type": "code",
   "execution_count": 57,
   "metadata": {},
   "outputs": [
    {
     "data": {
      "text/plain": [
       "1.7387086"
      ]
     },
     "execution_count": 57,
     "metadata": {},
     "output_type": "execute_result"
    }
   ],
   "source": [
    "out.a[0]"
   ]
  },
  {
   "cell_type": "code",
   "execution_count": 8,
   "metadata": {},
   "outputs": [
    {
     "name": "stdout",
     "output_type": "stream",
     "text": [
      "Help on function post_pred_gen in module kabuki.analyze:\n",
      "\n",
      "post_pred_gen(model, groupby=None, samples=500, append_data=False, add_model_parameters=False, progress_bar=True)\n",
      "    Run posterior predictive check on a model.\n",
      "    \n",
      "    :Arguments:\n",
      "        model : kabuki.Hierarchical\n",
      "            Kabuki model over which to compute the ppc on.\n",
      "    \n",
      "    :Optional:\n",
      "        samples : int\n",
      "            How many samples to generate for each node.\n",
      "        groupby : list\n",
      "            Alternative grouping of the data. If not supplied, uses splitting\n",
      "            of the model (as provided by depends_on).\n",
      "        append_data : bool (default=False)\n",
      "            Whether to append the observed data of each node to the replicatons.\n",
      "        progress_bar : bool (default=True)\n",
      "            Display progress bar\n",
      "    \n",
      "    :Returns:\n",
      "        Hierarchical pandas.DataFrame with multiple sampled RT data sets.\n",
      "        1st level: wfpt node\n",
      "        2nd level: posterior predictive sample\n",
      "        3rd level: original data index\n",
      "    \n",
      "    :See also:\n",
      "        post_pred_stats\n",
      "\n"
     ]
    }
   ],
   "source": [
    "help(post_pred_gen)"
   ]
  },
  {
   "cell_type": "code",
   "execution_count": 24,
   "metadata": {},
   "outputs": [
    {
     "name": "stdout",
     "output_type": "stream",
     "text": [
      " [-----------------103%------------------] 31 of 30 complete in 102.7 sec"
     ]
    },
    {
     "data": {
      "text/html": [
       "<div>\n",
       "<style scoped>\n",
       "    .dataframe tbody tr th:only-of-type {\n",
       "        vertical-align: middle;\n",
       "    }\n",
       "\n",
       "    .dataframe tbody tr th {\n",
       "        vertical-align: top;\n",
       "    }\n",
       "\n",
       "    .dataframe thead th {\n",
       "        text-align: right;\n",
       "    }\n",
       "</style>\n",
       "<table border=\"1\" class=\"dataframe\">\n",
       "  <thead>\n",
       "    <tr style=\"text-align: right;\">\n",
       "      <th></th>\n",
       "      <th></th>\n",
       "      <th></th>\n",
       "      <th>rt</th>\n",
       "      <th>response</th>\n",
       "    </tr>\n",
       "    <tr>\n",
       "      <th>node</th>\n",
       "      <th>sample</th>\n",
       "      <th></th>\n",
       "      <th></th>\n",
       "      <th></th>\n",
       "    </tr>\n",
       "  </thead>\n",
       "  <tbody>\n",
       "    <tr>\n",
       "      <th rowspan=\"5\" valign=\"top\">wfpt(1).0</th>\n",
       "      <th rowspan=\"5\" valign=\"top\">0</th>\n",
       "      <th>0</th>\n",
       "      <td>2.510347</td>\n",
       "      <td>-1</td>\n",
       "    </tr>\n",
       "    <tr>\n",
       "      <th>1</th>\n",
       "      <td>2.388355</td>\n",
       "      <td>-1</td>\n",
       "    </tr>\n",
       "    <tr>\n",
       "      <th>2</th>\n",
       "      <td>1.870376</td>\n",
       "      <td>1</td>\n",
       "    </tr>\n",
       "    <tr>\n",
       "      <th>3</th>\n",
       "      <td>0.554342</td>\n",
       "      <td>-1</td>\n",
       "    </tr>\n",
       "    <tr>\n",
       "      <th>4</th>\n",
       "      <td>1.687368</td>\n",
       "      <td>1</td>\n",
       "    </tr>\n",
       "    <tr>\n",
       "      <th>...</th>\n",
       "      <th>...</th>\n",
       "      <th>...</th>\n",
       "      <td>...</td>\n",
       "      <td>...</td>\n",
       "    </tr>\n",
       "    <tr>\n",
       "      <th rowspan=\"5\" valign=\"top\">wfpt(3).9</th>\n",
       "      <th rowspan=\"5\" valign=\"top\">499</th>\n",
       "      <th>195</th>\n",
       "      <td>0.640314</td>\n",
       "      <td>1</td>\n",
       "    </tr>\n",
       "    <tr>\n",
       "      <th>196</th>\n",
       "      <td>0.788312</td>\n",
       "      <td>1</td>\n",
       "    </tr>\n",
       "    <tr>\n",
       "      <th>197</th>\n",
       "      <td>0.725313</td>\n",
       "      <td>1</td>\n",
       "    </tr>\n",
       "    <tr>\n",
       "      <th>198</th>\n",
       "      <td>1.415328</td>\n",
       "      <td>1</td>\n",
       "    </tr>\n",
       "    <tr>\n",
       "      <th>199</th>\n",
       "      <td>0.778312</td>\n",
       "      <td>1</td>\n",
       "    </tr>\n",
       "  </tbody>\n",
       "</table>\n",
       "<p>3000000 rows × 2 columns</p>\n",
       "</div>"
      ],
      "text/plain": [
       "                            rt  response\n",
       "node      sample                        \n",
       "wfpt(1).0 0      0    2.510347        -1\n",
       "                 1    2.388355        -1\n",
       "                 2    1.870376         1\n",
       "                 3    0.554342        -1\n",
       "                 4    1.687368         1\n",
       "...                        ...       ...\n",
       "wfpt(3).9 499    195  0.640314         1\n",
       "                 196  0.788312         1\n",
       "                 197  0.725313         1\n",
       "                 198  1.415328         1\n",
       "                 199  0.778312         1\n",
       "\n",
       "[3000000 rows x 2 columns]"
      ]
     },
     "execution_count": 24,
     "metadata": {},
     "output_type": "execute_result"
    }
   ],
   "source": []
  },
  {
   "cell_type": "code",
   "execution_count": null,
   "metadata": {},
   "outputs": [],
   "source": []
  }
 ],
 "metadata": {
  "kernelspec": {
   "display_name": "hddmnn_git_test",
   "language": "python",
   "name": "hddmnn_git_test"
  },
  "language_info": {
   "codemirror_mode": {
    "name": "ipython",
    "version": 3
   },
   "file_extension": ".py",
   "mimetype": "text/x-python",
   "name": "python",
   "nbconvert_exporter": "python",
   "pygments_lexer": "ipython3",
   "version": "3.7.11"
  }
 },
 "nbformat": 4,
 "nbformat_minor": 4
}
