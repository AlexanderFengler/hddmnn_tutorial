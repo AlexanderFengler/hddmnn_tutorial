{
 "cells": [
  {
   "cell_type": "markdown",
   "metadata": {},
   "source": [
    "# SECTION 0.0: COLAB PREP"
   ]
  },
  {
   "cell_type": "code",
   "execution_count": null,
   "metadata": {},
   "outputs": [],
   "source": [
    "from google.colab import drive\n",
    "drive.mount('/content/gdrive')"
   ]
  },
  {
   "cell_type": "code",
   "execution_count": 1,
   "metadata": {},
   "outputs": [
    {
     "name": "stdout",
     "output_type": "stream",
     "text": [
      "[Errno 2] No such file or directory: 'gdrive/My Drive/hddmnn_tutorial'\n",
      "/Users/afengler/OneDrive/git_repos/hddmnn_tutorial\n",
      "Found existing installation: tensorflow 1.15.0\n",
      "Uninstalling tensorflow-1.15.0:\n",
      "  Would remove:\n",
      "    /Users/afengler/opt/miniconda3/envs/hddm_dev/bin/estimator_ckpt_converter\n",
      "    /Users/afengler/opt/miniconda3/envs/hddm_dev/bin/freeze_graph\n",
      "    /Users/afengler/opt/miniconda3/envs/hddm_dev/bin/saved_model_cli\n",
      "    /Users/afengler/opt/miniconda3/envs/hddm_dev/bin/tensorboard\n",
      "    /Users/afengler/opt/miniconda3/envs/hddm_dev/bin/tf_upgrade_v2\n",
      "    /Users/afengler/opt/miniconda3/envs/hddm_dev/bin/tflite_convert\n",
      "    /Users/afengler/opt/miniconda3/envs/hddm_dev/bin/toco\n",
      "    /Users/afengler/opt/miniconda3/envs/hddm_dev/bin/toco_from_protos\n",
      "    /Users/afengler/opt/miniconda3/envs/hddm_dev/lib/python3.7/site-packages/tensorflow-1.15.0.dist-info/*\n",
      "    /Users/afengler/opt/miniconda3/envs/hddm_dev/lib/python3.7/site-packages/tensorflow/*\n",
      "    /Users/afengler/opt/miniconda3/envs/hddm_dev/lib/python3.7/site-packages/tensorflow_core/*\n",
      "Proceed (y/n)? ^C\n",
      "\u001b[31mERROR: Operation cancelled by user\u001b[0m\n",
      "^C\n",
      "Traceback (most recent call last):\n",
      "  File \"/Users/afengler/opt/miniconda3/envs/hddm_dev/lib/python3.7/site-packages/pip/_vendor/pkg_resources/__init__.py\", line 2347, in _normalize_cached\n",
      "    return _cache[filename]\n",
      "KeyError: '/Users/afengler/opt/miniconda3/envs/hddm_dev/lib/python37.zip'\n",
      "\n",
      "During handling of the above exception, another exception occurred:\n",
      "\n",
      "Traceback (most recent call last):\n",
      "  File \"/Users/afengler/opt/miniconda3/envs/hddm_dev/bin/pip\", line 7, in <module>\n",
      "    from pip._internal.cli.main import main\n",
      "  File \"/Users/afengler/opt/miniconda3/envs/hddm_dev/lib/python3.7/site-packages/pip/_internal/cli/main.py\", line 10, in <module>\n",
      "    from pip._internal.cli.autocompletion import autocomplete\n",
      "  File \"/Users/afengler/opt/miniconda3/envs/hddm_dev/lib/python3.7/site-packages/pip/_internal/cli/autocompletion.py\", line 9, in <module>\n",
      "    from pip._internal.cli.main_parser import create_main_parser\n",
      "  File \"/Users/afengler/opt/miniconda3/envs/hddm_dev/lib/python3.7/site-packages/pip/_internal/cli/main_parser.py\", line 7, in <module>\n",
      "    from pip._internal.cli import cmdoptions\n",
      "  File \"/Users/afengler/opt/miniconda3/envs/hddm_dev/lib/python3.7/site-packages/pip/_internal/cli/cmdoptions.py\", line 23, in <module>\n",
      "    from pip._internal.cli.progress_bars import BAR_TYPES\n",
      "  File \"/Users/afengler/opt/miniconda3/envs/hddm_dev/lib/python3.7/site-packages/pip/_internal/cli/progress_bars.py\", line 12, in <module>\n",
      "    from pip._internal.utils.logging import get_indentation\n",
      "  File \"/Users/afengler/opt/miniconda3/envs/hddm_dev/lib/python3.7/site-packages/pip/_internal/utils/logging.py\", line 18, in <module>\n",
      "    from pip._internal.utils.misc import ensure_dir\n",
      "  File \"/Users/afengler/opt/miniconda3/envs/hddm_dev/lib/python3.7/site-packages/pip/_internal/utils/misc.py\", line 21, in <module>\n",
      "    from pip._vendor import pkg_resources\n",
      "  File \"/Users/afengler/opt/miniconda3/envs/hddm_dev/lib/python3.7/site-packages/pip/_vendor/pkg_resources/__init__.py\", line 3251, in <module>\n",
      "    @_call_aside\n",
      "  File \"/Users/afengler/opt/miniconda3/envs/hddm_dev/lib/python3.7/site-packages/pip/_vendor/pkg_resources/__init__.py\", line 3235, in _call_aside\n",
      "    f(*args, **kwargs)\n",
      "  File \"/Users/afengler/opt/miniconda3/envs/hddm_dev/lib/python3.7/site-packages/pip/_vendor/pkg_resources/__init__.py\", line 3279, in _initialize_master_working_set\n",
      "    for dist in working_set\n",
      "  File \"/Users/afengler/opt/miniconda3/envs/hddm_dev/lib/python3.7/site-packages/pip/_vendor/pkg_resources/__init__.py\", line 3279, in <genexpr>\n",
      "    for dist in working_set\n",
      "  File \"/Users/afengler/opt/miniconda3/envs/hddm_dev/lib/python3.7/site-packages/pip/_vendor/pkg_resources/__init__.py\", line 2780, in activate\n",
      "    self.insert_on(path, replace=replace)\n",
      "  File \"/Users/afengler/opt/miniconda3/envs/hddm_dev/lib/python3.7/site-packages/pip/_vendor/pkg_resources/__init__.py\", line 2896, in insert_on\n",
      "    npath = [(p and _normalize_cached(p) or p) for p in path]\n",
      "  File \"/Users/afengler/opt/miniconda3/envs/hddm_dev/lib/python3.7/site-packages/pip/_vendor/pkg_resources/__init__.py\", line 2896, in <listcomp>\n",
      "    npath = [(p and _normalize_cached(p) or p) for p in path]\n",
      "  File \"/Users/afengler/opt/miniconda3/envs/hddm_dev/lib/python3.7/site-packages/pip/_vendor/pkg_resources/__init__.py\", line 2349, in _normalize_cached\n",
      "    _cache[filename] = result = normalize_path(filename)\n",
      "  File \"/Users/afengler/opt/miniconda3/envs/hddm_dev/lib/python3.7/site-packages/pip/_vendor/pkg_resources/__init__.py\", line 2331, in normalize_path\n",
      "    return os.path.normcase(os.path.realpath(os.path.normpath(_cygwin_patch(filename))))\n",
      "  File \"/Users/afengler/opt/miniconda3/envs/hddm_dev/lib/python3.7/posixpath.py\", line 395, in realpath\n",
      "    path, ok = _joinrealpath(filename[:0], filename, {})\n",
      "  File \"/Users/afengler/opt/miniconda3/envs/hddm_dev/lib/python3.7/posixpath.py\", line 429, in _joinrealpath\n",
      "    if not islink(newpath):\n",
      "  File \"/Users/afengler/opt/miniconda3/envs/hddm_dev/lib/python3.7/posixpath.py\", line 171, in islink\n",
      "    st = os.lstat(path)\n",
      "KeyboardInterrupt\n",
      "Requirement already satisfied: pymc in /Users/afengler/opt/miniconda3/envs/hddm_dev/lib/python3.7/site-packages (2.3.8)\n",
      "Requirement already satisfied: kabuki in /Users/afengler/opt/miniconda3/envs/hddm_dev/lib/python3.7/site-packages (0.6.3)\n",
      "Requirement already satisfied: pymc>=2.3.6 in /Users/afengler/opt/miniconda3/envs/hddm_dev/lib/python3.7/site-packages (from kabuki) (2.3.8)\n",
      "Requirement already satisfied: NumPy>=1.6.0 in /Users/afengler/opt/miniconda3/envs/hddm_dev/lib/python3.7/site-packages (from kabuki) (1.19.2)\n",
      "Requirement already satisfied: matplotlib>=1.0.0 in /Users/afengler/opt/miniconda3/envs/hddm_dev/lib/python3.7/site-packages (from kabuki) (3.3.2)\n",
      "Requirement already satisfied: pandas>=0.12.0 in /Users/afengler/opt/miniconda3/envs/hddm_dev/lib/python3.7/site-packages (from kabuki) (1.1.3)\n",
      "Requirement already satisfied: cycler>=0.10 in /Users/afengler/opt/miniconda3/envs/hddm_dev/lib/python3.7/site-packages (from matplotlib>=1.0.0->kabuki) (0.10.0)\n",
      "Requirement already satisfied: kiwisolver>=1.0.1 in /Users/afengler/opt/miniconda3/envs/hddm_dev/lib/python3.7/site-packages (from matplotlib>=1.0.0->kabuki) (1.2.0)\n",
      "Requirement already satisfied: certifi>=2020.06.20 in /Users/afengler/opt/miniconda3/envs/hddm_dev/lib/python3.7/site-packages (from matplotlib>=1.0.0->kabuki) (2020.6.20)\n",
      "Requirement already satisfied: pyparsing!=2.0.4,!=2.1.2,!=2.1.6,>=2.0.3 in /Users/afengler/opt/miniconda3/envs/hddm_dev/lib/python3.7/site-packages (from matplotlib>=1.0.0->kabuki) (2.4.7)\n",
      "Requirement already satisfied: pillow>=6.2.0 in /Users/afengler/opt/miniconda3/envs/hddm_dev/lib/python3.7/site-packages (from matplotlib>=1.0.0->kabuki) (8.0.0)\n",
      "Requirement already satisfied: python-dateutil>=2.1 in /Users/afengler/opt/miniconda3/envs/hddm_dev/lib/python3.7/site-packages (from matplotlib>=1.0.0->kabuki) (2.8.1)\n",
      "Requirement already satisfied: pytz>=2017.2 in /Users/afengler/opt/miniconda3/envs/hddm_dev/lib/python3.7/site-packages (from pandas>=0.12.0->kabuki) (2020.1)\n",
      "Requirement already satisfied: six in /Users/afengler/opt/miniconda3/envs/hddm_dev/lib/python3.7/site-packages (from cycler>=0.10->matplotlib>=1.0.0->kabuki) (1.15.0)\n",
      "Collecting git+https://github.com/alexanderfengler/hddm@nn_likelihood\n",
      "  Cloning https://github.com/alexanderfengler/hddm (to revision nn_likelihood) to /private/var/folders/gx/s43vynx550qbypcxm83fv56dzq4hgg/T/pip-req-build-sw6nl3p0\n",
      "Building wheels for collected packages: HDDM\n",
      "  Building wheel for HDDM (setup.py) ... \u001b[?25ldone\n",
      "\u001b[?25h  Created wheel for HDDM: filename=HDDM-0.7.5-cp37-cp37m-macosx_10_9_x86_64.whl size=386055 sha256=09282cf88b1d9f97b6a5888c06463d7636cc22c0232a912ff622eeae291253d0\n",
      "  Stored in directory: /private/var/folders/gx/s43vynx550qbypcxm83fv56dzq4hgg/T/pip-ephem-wheel-cache-5mseb9xz/wheels/c2/3c/65/36b417d0a8864bd935e44a8b071470148147c2d7ea0314d2ee\n",
      "Successfully built HDDM\n",
      "Installing collected packages: HDDM\n",
      "  Attempting uninstall: HDDM\n",
      "    Found existing installation: HDDM 0.7.5\n",
      "    Uninstalling HDDM-0.7.5:\n",
      "      Successfully uninstalled HDDM-0.7.5\n"
     ]
    },
    {
     "name": "stdout",
     "output_type": "stream",
     "text": [
      "Successfully installed HDDM-0.7.5\r\n"
     ]
    }
   ],
   "source": [
    "# %cd gdrive/'My Drive'/hddmnn_tutorial\n",
    "\n",
    "# !pip uninstall tensorflow  # tf 2.3.0 is loaded by default --> very slow on our networks\n",
    "# !pip install tensorflow-gpu==1.15 # tf 1.15 ~ 4 times faster (feel free to test this out)\n",
    "# !pip install pymc\n",
    "# !pip install kabuki\n",
    "# !pip install -U --no-deps git+https://github.com/alexanderfengler/hddm@nn_likelihood"
   ]
  },
  {
   "cell_type": "code",
   "execution_count": 1,
   "metadata": {},
   "outputs": [
    {
     "name": "stdout",
     "output_type": "stream",
     "text": [
      "WARNING:tensorflow:From /Users/afengler/opt/miniconda3/envs/hddm_dev/lib/python3.7/site-packages/hddm/cnn/wrapper.py:8: The name tf.logging.set_verbosity is deprecated. Please use tf.compat.v1.logging.set_verbosity instead.\n",
      "\n",
      "WARNING:tensorflow:From /Users/afengler/opt/miniconda3/envs/hddm_dev/lib/python3.7/site-packages/hddm/cnn/wrapper.py:8: The name tf.logging.ERROR is deprecated. Please use tf.compat.v1.logging.ERROR instead.\n",
      "\n"
     ]
    },
    {
     "name": "stderr",
     "output_type": "stream",
     "text": [
      "/Users/afengler/opt/miniconda3/envs/hddm_dev/lib/python3.7/site-packages/IPython/parallel.py:13: ShimWarning: The `IPython.parallel` package has been deprecated since IPython 4.0. You should import from ipyparallel instead.\n",
      "  \"You should import from ipyparallel instead.\", ShimWarning)\n"
     ]
    }
   ],
   "source": [
    "# MODULE IMPORTS ----\n",
    "\n",
    "# \n",
    "import hddm\n",
    "\n",
    "# Make simulators visible\n",
    "import sys\n",
    "sys.path.append('simulators')\n",
    "\n",
    "# Data management\n",
    "import pandas as pd\n",
    "import numpy as np\n",
    "import pickle\n",
    "\n",
    "# Plotting\n",
    "import matplotlib.pyplot as plt\n",
    "import matplotlib\n",
    "import seaborn as sns\n",
    "\n",
    "# Stats functionality\n",
    "from statsmodels.distributions.empirical_distribution import ECDF\n",
    "\n",
    "# CUSTOM IMPORTS (LOCAL FILES) --------\n",
    "import cddm_data_simulation as cds\n",
    "import boundary_functions as bf\n",
    "\n",
    "from helper_functions import simulator\n",
    "from helper_functions import simulator_covariate\n",
    "from helper_functions import simulator_stimcoding\n",
    "from helper_functions import model_plot\n",
    "from helper_functions import caterpillar_plot\n",
    "from helper_functions import posterior_pair_plot\n",
    "# from helper_functions import hddm_preprocess_hierarchical\n",
    "from helper_functions import simulator_condition_effects\n",
    "from helper_functions import make_parameter_sets\n",
    "from helper_functions import _make_trace_plotready_condition\n",
    "from helper_functions import hddm_preprocess\n",
    "from helper_functions import simulator_hierarchical\n",
    "from helper_functions import posterior_predictive_plot\n",
    "from helper_functions import hddm_include_config\n",
    "\n",
    "# --------------------------------------"
   ]
  },
  {
   "cell_type": "code",
   "execution_count": 2,
   "metadata": {},
   "outputs": [],
   "source": [
    "p_outlier = []\n",
    "include_conf = {'angle': ['z', 'theta'] + p_outlier,\n",
    "                'weibull_cdf':['z', 'alpha', 'beta'] + p_outlier,\n",
    "                'full_ddm': ['z', 'st', 'sv', 'sz'] + p_outlier,\n",
    "                'levy': ['z', 'alpha'] + p_outlier,\n",
    "                'ornstein': ['z', 'g'] + p_outlier,\n",
    "                'ddm_sdv': ['z', 'sv'] + p_outlier,\n",
    "                'ddm': ['z']}"
   ]
  },
  {
   "cell_type": "markdown",
   "metadata": {},
   "source": [
    "# Single Subjects"
   ]
  },
  {
   "cell_type": "code",
   "execution_count": null,
   "metadata": {},
   "outputs": [],
   "source": [
    "model = 'ornstein'\n",
    "n_samples = 10000\n",
    "p_outlier = [] # ['p_outlier']\n",
    "\n",
    "\n",
    "params = make_parameter_sets(model = model,\n",
    "                             n_parameter_sets = 1)\n",
    "\n",
    "simulations = simulator(theta = params.values[0],\n",
    "                        model = model,\n",
    "                        n_samples = n_samples)\n",
    "\n",
    "hddm_data_single_subject = hddm_preprocess(simulations)\n",
    "\n",
    "\n",
    "\n",
    "# hddm_model_ddm_analytic_single_subject = hddm.HDDMnn(hddm_data_ddm_single_subject, \n",
    "#                                                          model = 'ddm_analytic',\n",
    "#                                                          informative = False,\n",
    "#                                                          include = ['z'],\n",
    "#                                                          is_group_model = False)\n",
    "\n",
    "# Defining a hddm model\n",
    "hddm_model_single_subject = hddm.HDDMnn(hddm_data_single_subject,\n",
    "                                        model = model,\n",
    "                                        informative = False,\n",
    "                                        include = include_conf[model],\n",
    "                                        p_outlier = 0.0,\n",
    "                                        w_outlier = 0.01,\n",
    "                                        is_group_model = False)"
   ]
  },
  {
   "cell_type": "code",
   "execution_count": null,
   "metadata": {},
   "outputs": [],
   "source": [
    "nmcmc = 300\n",
    "hddm_model_single_subject.sample(nmcmc, \n",
    "                                     burn = 100)"
   ]
  },
  {
   "cell_type": "code",
   "execution_count": null,
   "metadata": {},
   "outputs": [],
   "source": [
    "print('dic: ', hddm_model_single_subject.dic)\n",
    "print(hddm_model_single_subject.gen_stats()['mean'])\n",
    "print('gt params: ', params)"
   ]
  },
  {
   "cell_type": "code",
   "execution_count": null,
   "metadata": {},
   "outputs": [],
   "source": [
    "params"
   ]
  },
  {
   "cell_type": "code",
   "execution_count": null,
   "metadata": {},
   "outputs": [],
   "source": [
    "posterior_predictive_plot(posterior_samples = hddm_model_single_subject.get_traces(), #hddm_model_weibull_single_subject.get_traces(),\n",
    "                          ground_truths_parameters = params.values[0], #weibull_params.values[0],\n",
    "                          ground_truths_data = np.concatenate([simulations[0], simulations[1]], axis = 1), # None\n",
    "                          n_plots = 1,\n",
    "                          cols = 1,\n",
    "                          model_fitted = model,\n",
    "                          model_gt = None, #'levy', #'weibull_cdf',\n",
    "                          datatype = 'single_subject',\n",
    "                          n_post_params = 200,\n",
    "                          samples_by_param = 100,\n",
    "                          xlimit = 10,\n",
    "                          bin_size = 0.025,\n",
    "                          hist_linewidth = 1)"
   ]
  },
  {
   "cell_type": "code",
   "execution_count": null,
   "metadata": {},
   "outputs": [],
   "source": [
    "# Caterpillar Plot: (Parameters recovered ok?)\n",
    "caterpillar_plot(posterior_samples = hddm_model_single_subject.get_traces(),\n",
    "                 ground_truths = params.values[0], #weibull_params.values[0],\n",
    "                 model = model,\n",
    "                 datatype = 'single_subject',\n",
    "                 drop_sd = True)"
   ]
  },
  {
   "cell_type": "markdown",
   "metadata": {},
   "source": [
    "# CONDITION"
   ]
  },
  {
   "cell_type": "code",
   "execution_count": null,
   "metadata": {},
   "outputs": [],
   "source": [
    "model = 'ornstein'\n",
    "n_samples_by_condition = 500\n",
    "p_outlier = [] # ['p_outlier']\n",
    "\n",
    "\n",
    "hddm_data_condition, gt_condition, gt_mat_condition = simulator_condition_effects(n_conditions = 4,\n",
    "                                                                                  n_samples_by_condition = n_samples_by_condition,\n",
    "                                                                                  condition_effect_on_param = ['v', 'a'],\n",
    "                                                                                  model = model)\n",
    "\n",
    "\n",
    "hddm_model_condition = hddm.HDDMnn(hddm_data_condition, \n",
    "                                   model = model,\n",
    "                                   informative = False,\n",
    "                                   include = include_conf[model],\n",
    "                                   p_outlier = 0.,\n",
    "                                   w_outlier = 0.,\n",
    "                                   is_group_model = False, \n",
    "                                   depends_on = {'v': 'condition', 'a': 'condition'})\n",
    "\n",
    "\n",
    "hddm_model_condition.sample(500, burn = 100)"
   ]
  },
  {
   "cell_type": "code",
   "execution_count": null,
   "metadata": {},
   "outputs": [],
   "source": [
    "# Caterpillar Plot: (Parameters recovered ok?)\n",
    "caterpillar_plot(posterior_samples = hddm_model_condition.get_traces(),\n",
    "                 ground_truths = gt_condition, #weibull_params.values[0],\n",
    "                 model = model,\n",
    "                 datatype = 'condition',\n",
    "                 drop_sd = True)"
   ]
  },
  {
   "cell_type": "markdown",
   "metadata": {},
   "source": [
    "# GROUP"
   ]
  },
  {
   "cell_type": "code",
   "execution_count": 2,
   "metadata": {},
   "outputs": [
    {
     "ename": "NameError",
     "evalue": "name 'simulator_hierarchical' is not defined",
     "output_type": "error",
     "traceback": [
      "\u001b[0;31m---------------------------------------------------------------------------\u001b[0m",
      "\u001b[0;31mNameError\u001b[0m                                 Traceback (most recent call last)",
      "\u001b[0;32m<ipython-input-2-349617700efd>\u001b[0m in \u001b[0;36m<module>\u001b[0;34m\u001b[0m\n\u001b[1;32m      6\u001b[0m \u001b[0;34m\u001b[0m\u001b[0m\n\u001b[1;32m      7\u001b[0m \u001b[0;31m# Simulate data angle\u001b[0m\u001b[0;34m\u001b[0m\u001b[0;34m\u001b[0m\u001b[0;34m\u001b[0m\u001b[0m\n\u001b[0;32m----> 8\u001b[0;31m hddm_data_hierarchical, gt_hierarchical, gt_mat_hierarchical = simulator_hierarchical(n_subjects = n_subjects,\n\u001b[0m\u001b[1;32m      9\u001b[0m                                                                                       \u001b[0mmodel\u001b[0m \u001b[0;34m=\u001b[0m \u001b[0mmodel\u001b[0m\u001b[0;34m,\u001b[0m\u001b[0;34m\u001b[0m\u001b[0;34m\u001b[0m\u001b[0m\n\u001b[1;32m     10\u001b[0m                                                                                       n_samples_by_subject = n_samples_by_subject)\n",
      "\u001b[0;31mNameError\u001b[0m: name 'simulator_hierarchical' is not defined"
     ]
    }
   ],
   "source": [
    "model = 'angle'\n",
    "n_subjects = 10\n",
    "n_samples_by_subject = 500\n",
    "p_outlier = [] # ['p_outlier']\n",
    "\n",
    "\n",
    "# Simulate data angle\n",
    "hddm_data_hierarchical, gt_hierarchical, gt_mat_hierarchical = simulator_hierarchical(n_subjects = n_subjects,\n",
    "                                                                                      model = model,\n",
    "                                                                                      n_samples_by_subject = n_samples_by_subject)\n",
    "\n",
    "\n",
    "hddm_hierarchical_model = hddm.HDDMnn(hddm_data_hierarchical, \n",
    "                                                    model = model,\n",
    "                                                    informative = False,\n",
    "                                                    include = include_conf[model],\n",
    "                                                    p_outlier = 0,\n",
    "                                                    w_outlier = 0,\n",
    "                                                    is_group_model = True)\n",
    "\n",
    "# # Sampling:\n",
    "nmcmc = 500\n",
    "hddm_hierarchical_model.sample(nmcmc,\n",
    "                               burn = 100)"
   ]
  },
  {
   "cell_type": "code",
   "execution_count": null,
   "metadata": {},
   "outputs": [],
   "source": [
    "# Subset data?\n",
    "hddm_data_hierarchical_limited = hddm_data_hierarchical.iloc[:2500]\n",
    "str_allowed = ['005', \n",
    "               '006', \n",
    "               '007', \n",
    "               '008', \n",
    "               '009', \n",
    "               '010', \n",
    "               '011', \n",
    "               '012', \n",
    "               '013', \n",
    "               '014', \n",
    "               '015', \n",
    "               '016',\n",
    "               '017',\n",
    "               '018',\n",
    "               '019']\n",
    "gt_hierarchical_limited = (gt_hierarchical).copy()\n",
    "for str_tmp in gt_hierarchical.keys():\n",
    "    for str_allowed_tmp in str_allowed:\n",
    "        if str_allowed_tmp in str_tmp:\n",
    "            gt_hierarchical_limited.pop(str_tmp)"
   ]
  },
  {
   "cell_type": "code",
   "execution_count": null,
   "metadata": {},
   "outputs": [],
   "source": [
    "# Caterpillar Plot\n",
    "caterpillar_plot(posterior_samples = hddm_hierarchical_model.get_traces(),\n",
    "                 ground_truths = gt_hierarchical,\n",
    "                 model = model,\n",
    "                 datatype = 'hierarchical',\n",
    "                 x_lims = [-2, 2],\n",
    "                 aspect_ratio = 2,\n",
    "                 drop_sd = False,\n",
    "                 save = False)"
   ]
  },
  {
   "cell_type": "markdown",
   "metadata": {},
   "source": [
    "# Regression"
   ]
  },
  {
   "cell_type": "code",
   "execution_count": null,
   "metadata": {},
   "outputs": [],
   "source": [
    "# Ornstein params\n",
    "model = 'ddm'\n",
    "n_samples = 1000\n",
    "\n",
    "params =  make_parameter_sets(model = model,\n",
    "                              n_parameter_sets = 1)\n",
    "\n",
    "simulations = simulator(theta = params.values[0],\n",
    "                        model = model, \n",
    "                        n_samples = n_samples)\n",
    "\n",
    "hddm_data_single_subject_regress = hddm_preprocess(simulations)\n",
    "\n",
    "# Add a regressor:\n",
    "hddm_data_single_subject_regress['BOLD'] = np.random.uniform(low = - 1, high = 1, size = n_samples)\n",
    "\n",
    "#v_reg = {'model': 'v ~ 1 + BOLD', 'link_func': lambda x: x}\n",
    "#a_reg = {'model': 'a ~ 1 + BOLD', 'link_func': lambda x: x}\n",
    "#t_reg = {'model': 't ~ 1 + BOLD', 'link_func': lambda x: x}\n",
    "g_reg = {'model': 'a ~ 1 + BOLD', 'link_func': lambda x: x}\n",
    "\n",
    "reg_descr = [g_reg] #[v_reg, a_reg, t_reg, g_reg] # theta_reg]\n",
    "\n",
    "hddm_reg = hddm.HDDMnnRegressor(hddm_data_single_subject_regress, \n",
    "                                reg_descr, \n",
    "                                include = set(include_conf[model]),\n",
    "                                model = model)"
   ]
  },
  {
   "cell_type": "code",
   "execution_count": null,
   "metadata": {},
   "outputs": [],
   "source": [
    "# # Sampling:\n",
    "nmcmc = 500\n",
    "hddm_reg.sample(nmcmc,\n",
    "                burn = 100)"
   ]
  },
  {
   "cell_type": "code",
   "execution_count": null,
   "metadata": {},
   "outputs": [],
   "source": []
  },
  {
   "cell_type": "markdown",
   "metadata": {},
   "source": [
    "# CNN TESTS"
   ]
  },
  {
   "cell_type": "code",
   "execution_count": 55,
   "metadata": {},
   "outputs": [],
   "source": [
    "nmcmc = 1000\n",
    "model = 'ornstein'\n",
    "n_samples = 1000\n",
    "# n_samples_by_condition = 500\n",
    "# split_param = 'z'\n",
    "includes = hddm_include_config[model]\n",
    "p_outlier = [] # empty of ['p_outlier']\n",
    "includes += p_outlier"
   ]
  },
  {
   "cell_type": "code",
   "execution_count": 56,
   "metadata": {},
   "outputs": [],
   "source": [
    "#model = 'angle'\n",
    "\n",
    "\n",
    "params =  make_parameter_sets(model = model,\n",
    "                              n_parameter_sets = 1)\n",
    "\n",
    "simulations = simulator(theta = params.values[0],\n",
    "                        model = model, \n",
    "                        n_samples = n_samples,\n",
    "                        bin_pointwise = True,\n",
    "                        max_t = 10.0,\n",
    "                        bin_dim = 512)"
   ]
  },
  {
   "cell_type": "code",
   "execution_count": 57,
   "metadata": {},
   "outputs": [
    {
     "data": {
      "text/html": [
       "<div>\n",
       "<style scoped>\n",
       "    .dataframe tbody tr th:only-of-type {\n",
       "        vertical-align: middle;\n",
       "    }\n",
       "\n",
       "    .dataframe tbody tr th {\n",
       "        vertical-align: top;\n",
       "    }\n",
       "\n",
       "    .dataframe thead th {\n",
       "        text-align: right;\n",
       "    }\n",
       "</style>\n",
       "<table border=\"1\" class=\"dataframe\">\n",
       "  <thead>\n",
       "    <tr style=\"text-align: right;\">\n",
       "      <th></th>\n",
       "      <th>v</th>\n",
       "      <th>a</th>\n",
       "      <th>z</th>\n",
       "      <th>g</th>\n",
       "      <th>t</th>\n",
       "    </tr>\n",
       "  </thead>\n",
       "  <tbody>\n",
       "    <tr>\n",
       "      <th>0</th>\n",
       "      <td>1.60061</td>\n",
       "      <td>1.50012</td>\n",
       "      <td>0.405508</td>\n",
       "      <td>-0.465554</td>\n",
       "      <td>1.825782</td>\n",
       "    </tr>\n",
       "  </tbody>\n",
       "</table>\n",
       "</div>"
      ],
      "text/plain": [
       "         v        a         z         g         t\n",
       "0  1.60061  1.50012  0.405508 -0.465554  1.825782"
      ]
     },
     "execution_count": 57,
     "metadata": {},
     "output_type": "execute_result"
    }
   ],
   "source": [
    "params"
   ]
  },
  {
   "cell_type": "code",
   "execution_count": 59,
   "metadata": {},
   "outputs": [],
   "source": [
    "hddm_binned_data = hddm_preprocess(simulations)"
   ]
  },
  {
   "cell_type": "code",
   "execution_count": 60,
   "metadata": {},
   "outputs": [],
   "source": [
    "hddm_binned_data['rt'] = hddm_binned_data['rt'].values.astype(np.int)\n",
    "hddm_binned_data['response'] = hddm_binned_data['response'].values.astype(np.int)"
   ]
  },
  {
   "cell_type": "code",
   "execution_count": 61,
   "metadata": {},
   "outputs": [
    {
     "name": "stdout",
     "output_type": "stream",
     "text": [
      "/Users/afengler/opt/miniconda3/envs/hddm_dev/lib/python3.7/site-packages/hddm/cnn_models/ornstein_training_data_binned_1_nbins_512_n_100000\n",
      "/Users/afengler/opt/miniconda3/envs/hddm_dev/lib/python3.7/site-packages/hddm/cnn_models/ornstein_training_data_binned_1_nbins_512_n_100000\n",
      "Now adding the HDDMBase include:\n",
      "Include from inside HDDMBase:  {'v', 'a', 't'}\n",
      "Recognized HDDMnn\n",
      "knodes\n",
      "OrderedDict([('a_bottom', a), ('v_bottom', v), ('t_bottom', t), ('z_trans', z_trans), ('z_bottom', z), ('g_bottom', g)])\n",
      "wfpt parents: \n",
      "OrderedDict([('a', a), ('v', v), ('t', t), ('z', z), ('p_outlier', 0.0), ('w_outlier', 0.1), ('g', g)])\n",
      "Is Neural Net?  True\n",
      "0.0\n"
     ]
    }
   ],
   "source": [
    "hddm_model = hddm.HDDMnn(hddm_binned_data, \n",
    "                         model = model,\n",
    "                         network_type = 'cnn',\n",
    "                         informative = False,\n",
    "                         include = includes,\n",
    "                         p_outlier = 0.00)"
   ]
  },
  {
   "cell_type": "code",
   "execution_count": 62,
   "metadata": {},
   "outputs": [
    {
     "name": "stdout",
     "output_type": "stream",
     "text": [
      " [-----------------100%-----------------] 1000 of 1000 complete in 45.9 sec"
     ]
    },
    {
     "data": {
      "text/plain": [
       "<pymc.MCMC.MCMC at 0x14f5ac850>"
      ]
     },
     "execution_count": 62,
     "metadata": {},
     "output_type": "execute_result"
    }
   ],
   "source": [
    "hddm_model.sample(1000,\n",
    "                  burn = 50, dbname = 'traces.db', db = 'pickle')"
   ]
  },
  {
   "cell_type": "code",
   "execution_count": 67,
   "metadata": {},
   "outputs": [
    {
     "data": {
      "text/html": [
       "<div>\n",
       "<style scoped>\n",
       "    .dataframe tbody tr th:only-of-type {\n",
       "        vertical-align: middle;\n",
       "    }\n",
       "\n",
       "    .dataframe tbody tr th {\n",
       "        vertical-align: top;\n",
       "    }\n",
       "\n",
       "    .dataframe thead th {\n",
       "        text-align: right;\n",
       "    }\n",
       "</style>\n",
       "<table border=\"1\" class=\"dataframe\">\n",
       "  <thead>\n",
       "    <tr style=\"text-align: right;\">\n",
       "      <th></th>\n",
       "      <th>mean</th>\n",
       "      <th>std</th>\n",
       "      <th>2.5q</th>\n",
       "      <th>25q</th>\n",
       "      <th>50q</th>\n",
       "      <th>75q</th>\n",
       "      <th>97.5q</th>\n",
       "      <th>mc err</th>\n",
       "    </tr>\n",
       "  </thead>\n",
       "  <tbody>\n",
       "    <tr>\n",
       "      <th>a</th>\n",
       "      <td>1.55722</td>\n",
       "      <td>0.151838</td>\n",
       "      <td>1.33156</td>\n",
       "      <td>1.43791</td>\n",
       "      <td>1.5353</td>\n",
       "      <td>1.66537</td>\n",
       "      <td>1.89148</td>\n",
       "      <td>0.0140674</td>\n",
       "    </tr>\n",
       "    <tr>\n",
       "      <th>v</th>\n",
       "      <td>1.64626</td>\n",
       "      <td>0.0716203</td>\n",
       "      <td>1.49944</td>\n",
       "      <td>1.59804</td>\n",
       "      <td>1.64766</td>\n",
       "      <td>1.6936</td>\n",
       "      <td>1.7974</td>\n",
       "      <td>0.0058333</td>\n",
       "    </tr>\n",
       "    <tr>\n",
       "      <th>t</th>\n",
       "      <td>1.80246</td>\n",
       "      <td>0.0376904</td>\n",
       "      <td>1.70658</td>\n",
       "      <td>1.78081</td>\n",
       "      <td>1.80679</td>\n",
       "      <td>1.82988</td>\n",
       "      <td>1.86332</td>\n",
       "      <td>0.00346795</td>\n",
       "    </tr>\n",
       "    <tr>\n",
       "      <th>z</th>\n",
       "      <td>0.396165</td>\n",
       "      <td>0.0169433</td>\n",
       "      <td>0.365603</td>\n",
       "      <td>0.384499</td>\n",
       "      <td>0.39555</td>\n",
       "      <td>0.406503</td>\n",
       "      <td>0.434066</td>\n",
       "      <td>0.00133883</td>\n",
       "    </tr>\n",
       "    <tr>\n",
       "      <th>g</th>\n",
       "      <td>-0.531689</td>\n",
       "      <td>0.248801</td>\n",
       "      <td>-0.943211</td>\n",
       "      <td>-0.73413</td>\n",
       "      <td>-0.542466</td>\n",
       "      <td>-0.324979</td>\n",
       "      <td>-0.0780754</td>\n",
       "      <td>0.0223822</td>\n",
       "    </tr>\n",
       "  </tbody>\n",
       "</table>\n",
       "</div>"
      ],
      "text/plain": [
       "       mean        std      2.5q       25q       50q       75q      97.5q  \\\n",
       "a   1.55722   0.151838   1.33156   1.43791    1.5353   1.66537    1.89148   \n",
       "v   1.64626  0.0716203   1.49944   1.59804   1.64766    1.6936     1.7974   \n",
       "t   1.80246  0.0376904   1.70658   1.78081   1.80679   1.82988    1.86332   \n",
       "z  0.396165  0.0169433  0.365603  0.384499   0.39555  0.406503   0.434066   \n",
       "g -0.531689   0.248801 -0.943211  -0.73413 -0.542466 -0.324979 -0.0780754   \n",
       "\n",
       "       mc err  \n",
       "a   0.0140674  \n",
       "v   0.0058333  \n",
       "t  0.00346795  \n",
       "z  0.00133883  \n",
       "g   0.0223822  "
      ]
     },
     "execution_count": 67,
     "metadata": {},
     "output_type": "execute_result"
    }
   ],
   "source": [
    "hddm_model.gen_stats()"
   ]
  },
  {
   "cell_type": "code",
   "execution_count": 68,
   "metadata": {},
   "outputs": [
    {
     "data": {
      "text/html": [
       "<div>\n",
       "<style scoped>\n",
       "    .dataframe tbody tr th:only-of-type {\n",
       "        vertical-align: middle;\n",
       "    }\n",
       "\n",
       "    .dataframe tbody tr th {\n",
       "        vertical-align: top;\n",
       "    }\n",
       "\n",
       "    .dataframe thead th {\n",
       "        text-align: right;\n",
       "    }\n",
       "</style>\n",
       "<table border=\"1\" class=\"dataframe\">\n",
       "  <thead>\n",
       "    <tr style=\"text-align: right;\">\n",
       "      <th></th>\n",
       "      <th>v</th>\n",
       "      <th>a</th>\n",
       "      <th>z</th>\n",
       "      <th>g</th>\n",
       "      <th>t</th>\n",
       "    </tr>\n",
       "  </thead>\n",
       "  <tbody>\n",
       "    <tr>\n",
       "      <th>0</th>\n",
       "      <td>1.60061</td>\n",
       "      <td>1.50012</td>\n",
       "      <td>0.405508</td>\n",
       "      <td>-0.465554</td>\n",
       "      <td>1.825782</td>\n",
       "    </tr>\n",
       "  </tbody>\n",
       "</table>\n",
       "</div>"
      ],
      "text/plain": [
       "         v        a         z         g         t\n",
       "0  1.60061  1.50012  0.405508 -0.465554  1.825782"
      ]
     },
     "execution_count": 68,
     "metadata": {},
     "output_type": "execute_result"
    }
   ],
   "source": [
    "params"
   ]
  },
  {
   "cell_type": "code",
   "execution_count": 69,
   "metadata": {},
   "outputs": [
    {
     "data": {
      "text/plain": [
       "1"
      ]
     },
     "execution_count": 69,
     "metadata": {},
     "output_type": "execute_result"
    }
   ],
   "source": [
    "simulations[1].max()"
   ]
  },
  {
   "cell_type": "code",
   "execution_count": 73,
   "metadata": {},
   "outputs": [
    {
     "data": {
      "image/png": "[encoded data removed]",
      "text/plain": [
       "<Figure size 720x720 with 1 Axes>"
      ]
     },
     "metadata": {},
     "output_type": "display_data"
    }
   ],
   "source": [
    "# Posterior Predictive: Do we generate meaningful data from the Posterior Model?\n",
    "simulations_plot = simulator(theta = params.values[0],\n",
    "                             model = model, \n",
    "                             n_samples = 20000,\n",
    "                             bin_pointwise = False,\n",
    "                             max_t = 10.0,\n",
    "                             bin_dim = None)\n",
    "\n",
    "posterior_predictive_plot(ground_truths_parameters = params.values[0],\n",
    "                          ground_truths_data = np.concatenate([simulations_plot[0], simulations_plot[1]], axis = 1),\n",
    "                          posterior_samples = hddm_model.get_traces(),\n",
    "                          model_gt = None,\n",
    "                          model_fitted = model,\n",
    "                          n_post_params = 500,\n",
    "                          n_plots = 1,\n",
    "                          max_t = 10, \n",
    "                          input_hddm_trace = True,\n",
    "                          datatype = 'single_subject',\n",
    "                          hist_linewidth = 3)"
   ]
  },
  {
   "cell_type": "code",
   "execution_count": 53,
   "metadata": {},
   "outputs": [
    {
     "ename": "UnboundLocalError",
     "evalue": "local variable 'b' referenced before assignment",
     "output_type": "error",
     "traceback": [
      "\u001b[0;31m---------------------------------------------------------------------------\u001b[0m",
      "\u001b[0;31mUnboundLocalError\u001b[0m                         Traceback (most recent call last)",
      "\u001b[0;32m<ipython-input-53-10bedaabb653>\u001b[0m in \u001b[0;36m<module>\u001b[0;34m\u001b[0m\n\u001b[1;32m     15\u001b[0m            \u001b[0mposterior_linewidth\u001b[0m \u001b[0;34m=\u001b[0m \u001b[0;36m3\u001b[0m\u001b[0;34m,\u001b[0m\u001b[0;34m\u001b[0m\u001b[0;34m\u001b[0m\u001b[0m\n\u001b[1;32m     16\u001b[0m            \u001b[0mgt_linewidth\u001b[0m \u001b[0;34m=\u001b[0m \u001b[0;36m3\u001b[0m\u001b[0;34m,\u001b[0m\u001b[0;34m\u001b[0m\u001b[0;34m\u001b[0m\u001b[0m\n\u001b[0;32m---> 17\u001b[0;31m            hist_linewidth = 3,)\n\u001b[0m",
      "\u001b[0;32m~/OneDrive/git_repos/hddmnn_tutorial/helper_functions.py\u001b[0m in \u001b[0;36mmodel_plot\u001b[0;34m(posterior_samples, ground_truths_parameters, ground_truths_data, cols, model_gt, model_fitted, n_post_params, n_plots, samples_by_param, max_t, input_hddm_trace, datatype, condition_column, show_model, ylimit, posterior_linewidth, gt_linewidth, hist_linewidth, bin_size, save)\u001b[0m\n\u001b[1;32m    972\u001b[0m                                    linewidth = posterior_linewidth,)\n\u001b[1;32m    973\u001b[0m                     \u001b[0;32melse\u001b[0m\u001b[0;34m:\u001b[0m\u001b[0;34m\u001b[0m\u001b[0;34m\u001b[0m\u001b[0m\n\u001b[0;32m--> 974\u001b[0;31m                         ax.plot(t_s + posterior_samples[i, idx[j], 3], b, 'black',\n\u001b[0m\u001b[1;32m    975\u001b[0m                                 \u001b[0mt_s\u001b[0m \u001b[0;34m+\u001b[0m \u001b[0mposterior_samples\u001b[0m\u001b[0;34m[\u001b[0m\u001b[0mi\u001b[0m\u001b[0;34m,\u001b[0m \u001b[0midx\u001b[0m\u001b[0;34m[\u001b[0m\u001b[0mj\u001b[0m\u001b[0;34m]\u001b[0m\u001b[0;34m,\u001b[0m \u001b[0;36m3\u001b[0m\u001b[0;34m]\u001b[0m\u001b[0;34m,\u001b[0m \u001b[0;34m-\u001b[0m \u001b[0mb\u001b[0m\u001b[0;34m,\u001b[0m \u001b[0;34m'black'\u001b[0m\u001b[0;34m,\u001b[0m\u001b[0;34m\u001b[0m\u001b[0;34m\u001b[0m\u001b[0m\n\u001b[1;32m    976\u001b[0m                                 \u001b[0malpha\u001b[0m \u001b[0;34m=\u001b[0m \u001b[0;36m0.05\u001b[0m\u001b[0;34m,\u001b[0m\u001b[0;34m\u001b[0m\u001b[0;34m\u001b[0m\u001b[0m\n",
      "\u001b[0;31mUnboundLocalError\u001b[0m: local variable 'b' referenced before assignment"
     ]
    },
    {
     "data": {
      "image/png": "[encoded data removed]",
      "text/plain": [
       "<Figure size 1440x1440 with 3 Axes>"
      ]
     },
     "metadata": {},
     "output_type": "display_data"
    }
   ],
   "source": [
    "# Posterior Predictive: Do we generate meaningful data from the Posterior Model?\n",
    "model_plot(ground_truths_parameters = params.values[0],\n",
    "           ground_truths_data = np.concatenate([simulations_plot[0], simulations_plot[1]], axis = 1),\n",
    "           posterior_samples = hddm_model.get_traces(),\n",
    "           model_gt = model,\n",
    "           model_fitted = model,\n",
    "           n_post_params = 100,\n",
    "           cols = 1,\n",
    "           n_plots = 1,\n",
    "           max_t = 5, \n",
    "           show_model = True,\n",
    "           input_hddm_trace = True,\n",
    "           datatype = 'single_subject',\n",
    "           ylimit = 3,\n",
    "           posterior_linewidth = 3,\n",
    "           gt_linewidth = 3,\n",
    "           hist_linewidth = 3,)"
   ]
  },
  {
   "cell_type": "code",
   "execution_count": 71,
   "metadata": {},
   "outputs": [
    {
     "data": {
      "image/png": "[encoded data removed]",
      "text/plain": [
       "<Figure size 720x720 with 30 Axes>"
      ]
     },
     "metadata": {},
     "output_type": "display_data"
    }
   ],
   "source": [
    "posterior_pair_plot(posterior_samples = hddm_model.get_traces(),\n",
    "                    height = 10,\n",
    "                    aspect = 1,\n",
    "                    n_subsample = 200,\n",
    "                    ground_truths = params.values[0],\n",
    "                    model = model)"
   ]
  },
  {
   "cell_type": "code",
   "execution_count": 12,
   "metadata": {},
   "outputs": [],
   "source": [
    "#hddm_model.dbname = 'disk'\n"
   ]
  },
  {
   "cell_type": "code",
   "execution_count": 76,
   "metadata": {},
   "outputs": [
    {
     "data": {
      "text/plain": [
       "'traces.db'"
      ]
     },
     "execution_count": 76,
     "metadata": {},
     "output_type": "execute_result"
    }
   ],
   "source": [
    "#hddm_model.mc.db.__name__\n",
    "hddm_model.mc.db.filename "
   ]
  },
  {
   "cell_type": "code",
   "execution_count": 37,
   "metadata": {},
   "outputs": [],
   "source": [
    "hddm_model.mc.db.__name__ = 'pickle'\n",
    "hddm_model.mc.db.filename = 'test_traces.pickle'"
   ]
  },
  {
   "cell_type": "code",
   "execution_count": 12,
   "metadata": {},
   "outputs": [
    {
     "name": "stdout",
     "output_type": "stream",
     "text": [
      "{'network_type': 'cnn', 'network': <bound method Infer.forward of <hddm.cnn.wrapper.Infer object at 0x1060f2190>>, 'non_centered': False, 'w_outlier': 0.1, 'model': 'angle', 'nbin': 512, 'wfpt_nn': <class 'pymc.distributions.new_dist_class.<locals>.new_class'>, 'slice_widths': {'a': 1, 't': 0.01, 'a_std': 1, 't_std': 0.15, 'sz': 1.1, 'v': 1.5, 'st': 0.1, 'sv': 0.5, 'z_trans': 0.2, 'z': 0.1, 'p_outlier': 1.0, 'v_std': 1, 'alpha': 1.0, 'dual_alpha': 1.5, 'theta': 0.1, 'beta': 1.0, 'g': 0.5}, 'emcee_dispersions': {'a': 1, 't': 0.1, 'a_std': 1, 't_std': 0.15, 'sz': 1.1, 'v': 1.5, 'st': 0.1, 'sv': 3, 'z_trans': 0.2, 'z': 0.1, 'p_outlier': 1.0, 'v_std': 1, 'alpha': 1.5, 'dual_alpha': 1.5, 'theta': 0.1}, 'is_informative': False, 'default_intervars': {'sz': 0, 'st': 0, 'sv': 0}, '_kwargs': {'nn': True}, 'include': {'v', 'a', 't', 'theta', 'z'}, 'wiener_params': {'err': 0.0001, 'n_st': 2, 'n_sz': 2, 'use_adaptive': 1, 'simps_err': 0.001, 'w_outlier': 0.1}, 'p_outlier': 0.0, 'cdf_range': (-76, 76), 'nn': True, 'std_depends': False, 'plot_subjs': False, 'depends_on': None, 'data':      rt  response  nn_response subj_idx\n",
      "0    49         1            1     none\n",
      "1    57         1            1     none\n",
      "2    43         0            0     none\n",
      "3    56         1            1     none\n",
      "4    44         0            0     none\n",
      "..   ..       ...          ...      ...\n",
      "995  55         1            1     none\n",
      "996  60         1            1     none\n",
      "997  68         0            0     none\n",
      "998  58         1            1     none\n",
      "999  51         1            1     none\n",
      "\n",
      "[1000 rows x 4 columns], 'group_only_nodes': (), 'depends': {'a': (), 'v': (), 't': (), 'z': (), 'theta': ()}, 'is_group_model': False, '_num_subjs': 1, 'num_subjs': 1, 'sampled': True, 'dbname': 'traces.db', 'db': 'pickle', 'nodes_db':         knode_name stochastic observed   subj tag depends hidden   rt  \\\n",
      "a                a       True    False  False  ()      []  False  NaN   \n",
      "v                v       True    False  False  ()      []  False  NaN   \n",
      "t                t       True    False  False  ()      []  False  NaN   \n",
      "z_trans    z_trans       True    False  False  ()      []   True  NaN   \n",
      "z                z      False    False  False  ()      []  False  NaN   \n",
      "theta        theta       True    False  False  ()      []  False  NaN   \n",
      "wfpt          wfpt      False     True  False  ()      []  False  NaN   \n",
      "\n",
      "        response nn_response subj_idx      mean         std      2.5q  \\\n",
      "a            NaN         NaN      NaN   1.47064   0.0883471   1.30669   \n",
      "v            NaN         NaN      NaN   1.54158   0.0666659   1.42556   \n",
      "t            NaN         NaN      NaN  0.562424  0.00703201  0.552208   \n",
      "z_trans      NaN         NaN      NaN       NaN         NaN       NaN   \n",
      "z            NaN         NaN      NaN  0.335686  0.00742979  0.322774   \n",
      "theta        NaN         NaN      NaN  0.967539   0.0422754  0.874378   \n",
      "wfpt         NaN         NaN      NaN       NaN         NaN       NaN   \n",
      "\n",
      "              25q       50q       75q     97.5q       mc err  \n",
      "a         1.38173   1.53053   1.54245   1.55804    0.0124942  \n",
      "v         1.48936   1.54932   1.60046   1.64558   0.00942798  \n",
      "t        0.556105  0.564165  0.567395  0.575283  0.000994476  \n",
      "z_trans       NaN       NaN       NaN       NaN          NaN  \n",
      "z        0.330833  0.336416  0.342172   0.34808   0.00105073  \n",
      "theta    0.941388  0.993801  0.998191   1.00626   0.00597865  \n",
      "wfpt          NaN       NaN       NaN       NaN          NaN  , '_stats': {'theta': {'n': 50, 'standard deviation': 0.04227544169230141, 'mean': 0.9675388314125578, '95% HPD interval': array([0.88317591, 1.00707052]), 'mc error': 0.005978650299656564, 'quantiles': {2.5: 0.8743777439400725, 25: 0.9413879375217125, 50: 0.993800571507532, 75: 0.9981908836605111, 97.5: 1.0062597332953431}}, 'v': {'n': 50, 'standard deviation': 0.06666589658052062, 'mean': 1.541582685805708, '95% HPD interval': array([1.43012621, 1.64638524]), 'mc error': 0.00942798150919344, 'quantiles': {2.5: 1.4255591191559032, 25: 1.489359834653587, 50: 1.549324228189674, 75: 1.6004557091805358, 97.5: 1.6455769051953677}}, 'z_trans': {'n': 50, 'standard deviation': 0.03334466331808906, 'mean': -0.6827632050876568, '95% HPD interval': array([-0.74105349, -0.62748918]), 'mc error': 0.00471564750972062, 'quantiles': {2.5: -0.7410534946757409, 25: -0.7044202785389844, 50: -0.6793069345899452, 75: -0.6536291986418599, 97.5: -0.6274891813084974}}, 'z': {'n': 50, 'standard deviation': 0.007429787181226491, 'mean': 0.33568565267293915, '95% HPD interval': array([0.32277382, 0.34808008]), 'mc error': 0.0010507305797236271, 'quantiles': {2.5: 0.322773816450992, 25: 0.33083292482063487, 50: 0.33641600516400844, 75: 0.34217217235649117, 97.5: 0.3480800760843523}}, 't': {'n': 50, 'standard deviation': 0.007032007447123709, 'mean': 0.5624244070561839, '95% HPD interval': array([0.55201227, 0.57452421]), 'mc error': 0.0009944760302430954, 'quantiles': {2.5: 0.5522081168991629, 25: 0.556105392949352, 50: 0.5641648198461954, 75: 0.5673949870057512, 97.5: 0.5752825099445641}}, 'a': {'n': 50, 'standard deviation': 0.08834707421624308, 'mean': 1.470637350795816, '95% HPD interval': array([1.31455442, 1.55888004]), 'mc error': 0.012494163055259333, 'quantiles': {2.5: 1.3066887104715228, 25: 1.3817344658701767, 50: 1.5305336826860407, 75: 1.5424488808455314, 97.5: 1.5580433936257598}}}, '_stats_chain': 1}\n"
     ]
    }
   ],
   "source": [
    "hddm_model.save('hddm_model_test_saver.pickle')"
   ]
  },
  {
   "cell_type": "code",
   "execution_count": 13,
   "metadata": {},
   "outputs": [
    {
     "name": "stdout",
     "output_type": "stream",
     "text": [
      "/Users/afengler/opt/miniconda3/envs/hddm_dev/lib/python3.7/site-packages/hddm/cnn_models/angle_training_data_binned_1_nbins_512_n_100000\n",
      "/Users/afengler/opt/miniconda3/envs/hddm_dev/lib/python3.7/site-packages/hddm/cnn_models/angle_training_data_binned_1_nbins_512_n_100000\n",
      "{'network_type': 'cnn', 'non_centered': False, 'w_outlier': 0.1, 'model': 'angle', 'nbin': 512, 'slice_widths': {'a': 1, 't': 0.01, 'a_std': 1, 't_std': 0.15, 'sz': 1.1, 'v': 1.5, 'st': 0.1, 'sv': 0.5, 'z_trans': 0.2, 'z': 0.1, 'p_outlier': 1.0, 'v_std': 1, 'alpha': 1.0, 'dual_alpha': 1.5, 'theta': 0.1, 'beta': 1.0, 'g': 0.5}, 'emcee_dispersions': {'a': 1, 't': 0.1, 'a_std': 1, 't_std': 0.15, 'sz': 1.1, 'v': 1.5, 'st': 0.1, 'sv': 3, 'z_trans': 0.2, 'z': 0.1, 'p_outlier': 1.0, 'v_std': 1, 'alpha': 1.5, 'dual_alpha': 1.5, 'theta': 0.1}, 'is_informative': False, 'default_intervars': {'sz': 0, 'st': 0, 'sv': 0}, '_kwargs': {'nn': True}, 'include': {'v', 'a', 't', 'theta', 'z'}, 'wiener_params': {'err': 0.0001, 'n_st': 2, 'n_sz': 2, 'use_adaptive': 1, 'simps_err': 0.001, 'w_outlier': 0.1}, 'p_outlier': 0.0, 'cdf_range': (-76, 76), 'nn': True, 'std_depends': False, 'plot_subjs': False, 'depends_on': None, 'data':      rt  response  nn_response subj_idx\n",
      "0    49         1            1     none\n",
      "1    57         1            1     none\n",
      "2    43         0            0     none\n",
      "3    56         1            1     none\n",
      "4    44         0            0     none\n",
      "..   ..       ...          ...      ...\n",
      "995  55         1            1     none\n",
      "996  60         1            1     none\n",
      "997  68         0            0     none\n",
      "998  58         1            1     none\n",
      "999  51         1            1     none\n",
      "\n",
      "[1000 rows x 4 columns], 'group_only_nodes': (), 'depends': {'a': (), 'v': (), 't': (), 'z': (), 'theta': ()}, 'is_group_model': False, '_num_subjs': 1, 'num_subjs': 1, 'sampled': True, 'dbname': 'traces.db', 'db': 'pickle', 'nodes_db':         knode_name stochastic observed   subj tag depends hidden   rt  \\\n",
      "a                a       True    False  False  ()      []  False  NaN   \n",
      "v                v       True    False  False  ()      []  False  NaN   \n",
      "t                t       True    False  False  ()      []  False  NaN   \n",
      "z_trans    z_trans       True    False  False  ()      []   True  NaN   \n",
      "z                z      False    False  False  ()      []  False  NaN   \n",
      "theta        theta       True    False  False  ()      []  False  NaN   \n",
      "wfpt          wfpt      False     True  False  ()      []  False  NaN   \n",
      "\n",
      "        response nn_response subj_idx      mean         std      2.5q  \\\n",
      "a            NaN         NaN      NaN   1.47064   0.0883471   1.30669   \n",
      "v            NaN         NaN      NaN   1.54158   0.0666659   1.42556   \n",
      "t            NaN         NaN      NaN  0.562424  0.00703201  0.552208   \n",
      "z_trans      NaN         NaN      NaN       NaN         NaN       NaN   \n",
      "z            NaN         NaN      NaN  0.335686  0.00742979  0.322774   \n",
      "theta        NaN         NaN      NaN  0.967539   0.0422754  0.874378   \n",
      "wfpt         NaN         NaN      NaN       NaN         NaN       NaN   \n",
      "\n",
      "              25q       50q       75q     97.5q       mc err  \n",
      "a         1.38173   1.53053   1.54245   1.55804    0.0124942  \n",
      "v         1.48936   1.54932   1.60046   1.64558   0.00942798  \n",
      "t        0.556105  0.564165  0.567395  0.575283  0.000994476  \n",
      "z_trans       NaN       NaN       NaN       NaN          NaN  \n",
      "z        0.330833  0.336416  0.342172   0.34808   0.00105073  \n",
      "theta    0.941388  0.993801  0.998191   1.00626   0.00597865  \n",
      "wfpt          NaN       NaN       NaN       NaN          NaN  , '_stats': {'theta': {'n': 50, 'standard deviation': 0.04227544169230141, 'mean': 0.9675388314125578, '95% HPD interval': array([0.88317591, 1.00707052]), 'mc error': 0.005978650299656564, 'quantiles': {2.5: 0.8743777439400725, 25: 0.9413879375217125, 50: 0.993800571507532, 75: 0.9981908836605111, 97.5: 1.0062597332953431}}, 'v': {'n': 50, 'standard deviation': 0.06666589658052062, 'mean': 1.541582685805708, '95% HPD interval': array([1.43012621, 1.64638524]), 'mc error': 0.00942798150919344, 'quantiles': {2.5: 1.4255591191559032, 25: 1.489359834653587, 50: 1.549324228189674, 75: 1.6004557091805358, 97.5: 1.6455769051953677}}, 'z_trans': {'n': 50, 'standard deviation': 0.03334466331808906, 'mean': -0.6827632050876568, '95% HPD interval': array([-0.74105349, -0.62748918]), 'mc error': 0.00471564750972062, 'quantiles': {2.5: -0.7410534946757409, 25: -0.7044202785389844, 50: -0.6793069345899452, 75: -0.6536291986418599, 97.5: -0.6274891813084974}}, 'z': {'n': 50, 'standard deviation': 0.007429787181226491, 'mean': 0.33568565267293915, '95% HPD interval': array([0.32277382, 0.34808008]), 'mc error': 0.0010507305797236271, 'quantiles': {2.5: 0.322773816450992, 25: 0.33083292482063487, 50: 0.33641600516400844, 75: 0.34217217235649117, 97.5: 0.3480800760843523}}, 't': {'n': 50, 'standard deviation': 0.007032007447123709, 'mean': 0.5624244070561839, '95% HPD interval': array([0.55201227, 0.57452421]), 'mc error': 0.0009944760302430954, 'quantiles': {2.5: 0.5522081168991629, 25: 0.556105392949352, 50: 0.5641648198461954, 75: 0.5673949870057512, 97.5: 0.5752825099445641}}, 'a': {'n': 50, 'standard deviation': 0.08834707421624308, 'mean': 1.470637350795816, '95% HPD interval': array([1.31455442, 1.55888004]), 'mc error': 0.012494163055259333, 'quantiles': {2.5: 1.3066887104715228, 25: 1.3817344658701767, 50: 1.5305336826860407, 75: 1.5424488808455314, 97.5: 1.5580433936257598}}}, '_stats_chain': 1, 'network': <bound method Infer.forward of <hddm.cnn.wrapper.Infer object at 0x14c3e3f90>>, 'wfpt_nn': <class 'pymc.distributions.new_dist_class.<locals>.new_class'>}\n",
      "knodes\n",
      "OrderedDict([('a_bottom', a), ('v_bottom', v), ('t_bottom', t), ('z_trans', z_trans), ('z_bottom', z), ('theta_bottom', theta)])\n",
      "wfpt parents: \n",
      "OrderedDict([('a', a), ('v', v), ('t', t), ('z', z), ('p_outlier', 0.0), ('w_outlier', 0.1), ('theta', theta)])\n"
     ]
    }
   ],
   "source": [
    "new_mod = hddm.load('hddm_model_test_saver.pickle')"
   ]
  },
  {
   "cell_type": "code",
   "execution_count": 14,
   "metadata": {},
   "outputs": [
    {
     "data": {
      "text/html": [
       "<div>\n",
       "<style scoped>\n",
       "    .dataframe tbody tr th:only-of-type {\n",
       "        vertical-align: middle;\n",
       "    }\n",
       "\n",
       "    .dataframe tbody tr th {\n",
       "        vertical-align: top;\n",
       "    }\n",
       "\n",
       "    .dataframe thead th {\n",
       "        text-align: right;\n",
       "    }\n",
       "</style>\n",
       "<table border=\"1\" class=\"dataframe\">\n",
       "  <thead>\n",
       "    <tr style=\"text-align: right;\">\n",
       "      <th></th>\n",
       "      <th>mean</th>\n",
       "      <th>std</th>\n",
       "      <th>2.5q</th>\n",
       "      <th>25q</th>\n",
       "      <th>50q</th>\n",
       "      <th>75q</th>\n",
       "      <th>97.5q</th>\n",
       "      <th>mc err</th>\n",
       "    </tr>\n",
       "  </thead>\n",
       "  <tbody>\n",
       "    <tr>\n",
       "      <th>a</th>\n",
       "      <td>1.47064</td>\n",
       "      <td>0.0883471</td>\n",
       "      <td>1.30669</td>\n",
       "      <td>1.38173</td>\n",
       "      <td>1.53053</td>\n",
       "      <td>1.54245</td>\n",
       "      <td>1.55804</td>\n",
       "      <td>0.0124942</td>\n",
       "    </tr>\n",
       "    <tr>\n",
       "      <th>v</th>\n",
       "      <td>1.54158</td>\n",
       "      <td>0.0666659</td>\n",
       "      <td>1.42556</td>\n",
       "      <td>1.48936</td>\n",
       "      <td>1.54932</td>\n",
       "      <td>1.60046</td>\n",
       "      <td>1.64558</td>\n",
       "      <td>0.00942798</td>\n",
       "    </tr>\n",
       "    <tr>\n",
       "      <th>t</th>\n",
       "      <td>0.562424</td>\n",
       "      <td>0.00703201</td>\n",
       "      <td>0.552208</td>\n",
       "      <td>0.556105</td>\n",
       "      <td>0.564165</td>\n",
       "      <td>0.567395</td>\n",
       "      <td>0.575283</td>\n",
       "      <td>0.000994476</td>\n",
       "    </tr>\n",
       "    <tr>\n",
       "      <th>z</th>\n",
       "      <td>0.335686</td>\n",
       "      <td>0.00742979</td>\n",
       "      <td>0.322774</td>\n",
       "      <td>0.330833</td>\n",
       "      <td>0.336416</td>\n",
       "      <td>0.342172</td>\n",
       "      <td>0.34808</td>\n",
       "      <td>0.00105073</td>\n",
       "    </tr>\n",
       "    <tr>\n",
       "      <th>theta</th>\n",
       "      <td>0.967539</td>\n",
       "      <td>0.0422754</td>\n",
       "      <td>0.874378</td>\n",
       "      <td>0.941388</td>\n",
       "      <td>0.993801</td>\n",
       "      <td>0.998191</td>\n",
       "      <td>1.00626</td>\n",
       "      <td>0.00597865</td>\n",
       "    </tr>\n",
       "  </tbody>\n",
       "</table>\n",
       "</div>"
      ],
      "text/plain": [
       "           mean         std      2.5q       25q       50q       75q     97.5q  \\\n",
       "a       1.47064   0.0883471   1.30669   1.38173   1.53053   1.54245   1.55804   \n",
       "v       1.54158   0.0666659   1.42556   1.48936   1.54932   1.60046   1.64558   \n",
       "t      0.562424  0.00703201  0.552208  0.556105  0.564165  0.567395  0.575283   \n",
       "z      0.335686  0.00742979  0.322774  0.330833  0.336416  0.342172   0.34808   \n",
       "theta  0.967539   0.0422754  0.874378  0.941388  0.993801  0.998191   1.00626   \n",
       "\n",
       "            mc err  \n",
       "a        0.0124942  \n",
       "v       0.00942798  \n",
       "t      0.000994476  \n",
       "z       0.00105073  \n",
       "theta   0.00597865  "
      ]
     },
     "execution_count": 14,
     "metadata": {},
     "output_type": "execute_result"
    }
   ],
   "source": [
    "new_mod.gen_stats()"
   ]
  },
  {
   "cell_type": "code",
   "execution_count": 15,
   "metadata": {},
   "outputs": [
    {
     "data": {
      "text/html": [
       "<div>\n",
       "<style scoped>\n",
       "    .dataframe tbody tr th:only-of-type {\n",
       "        vertical-align: middle;\n",
       "    }\n",
       "\n",
       "    .dataframe tbody tr th {\n",
       "        vertical-align: top;\n",
       "    }\n",
       "\n",
       "    .dataframe thead th {\n",
       "        text-align: right;\n",
       "    }\n",
       "</style>\n",
       "<table border=\"1\" class=\"dataframe\">\n",
       "  <thead>\n",
       "    <tr style=\"text-align: right;\">\n",
       "      <th></th>\n",
       "      <th>mean</th>\n",
       "      <th>std</th>\n",
       "      <th>2.5q</th>\n",
       "      <th>25q</th>\n",
       "      <th>50q</th>\n",
       "      <th>75q</th>\n",
       "      <th>97.5q</th>\n",
       "      <th>mc err</th>\n",
       "    </tr>\n",
       "  </thead>\n",
       "  <tbody>\n",
       "    <tr>\n",
       "      <th>a</th>\n",
       "      <td>1.47064</td>\n",
       "      <td>0.0883471</td>\n",
       "      <td>1.30669</td>\n",
       "      <td>1.38173</td>\n",
       "      <td>1.53053</td>\n",
       "      <td>1.54245</td>\n",
       "      <td>1.55804</td>\n",
       "      <td>0.0124942</td>\n",
       "    </tr>\n",
       "    <tr>\n",
       "      <th>v</th>\n",
       "      <td>1.54158</td>\n",
       "      <td>0.0666659</td>\n",
       "      <td>1.42556</td>\n",
       "      <td>1.48936</td>\n",
       "      <td>1.54932</td>\n",
       "      <td>1.60046</td>\n",
       "      <td>1.64558</td>\n",
       "      <td>0.00942798</td>\n",
       "    </tr>\n",
       "    <tr>\n",
       "      <th>t</th>\n",
       "      <td>0.562424</td>\n",
       "      <td>0.00703201</td>\n",
       "      <td>0.552208</td>\n",
       "      <td>0.556105</td>\n",
       "      <td>0.564165</td>\n",
       "      <td>0.567395</td>\n",
       "      <td>0.575283</td>\n",
       "      <td>0.000994476</td>\n",
       "    </tr>\n",
       "    <tr>\n",
       "      <th>z</th>\n",
       "      <td>0.335686</td>\n",
       "      <td>0.00742979</td>\n",
       "      <td>0.322774</td>\n",
       "      <td>0.330833</td>\n",
       "      <td>0.336416</td>\n",
       "      <td>0.342172</td>\n",
       "      <td>0.34808</td>\n",
       "      <td>0.00105073</td>\n",
       "    </tr>\n",
       "    <tr>\n",
       "      <th>theta</th>\n",
       "      <td>0.967539</td>\n",
       "      <td>0.0422754</td>\n",
       "      <td>0.874378</td>\n",
       "      <td>0.941388</td>\n",
       "      <td>0.993801</td>\n",
       "      <td>0.998191</td>\n",
       "      <td>1.00626</td>\n",
       "      <td>0.00597865</td>\n",
       "    </tr>\n",
       "  </tbody>\n",
       "</table>\n",
       "</div>"
      ],
      "text/plain": [
       "           mean         std      2.5q       25q       50q       75q     97.5q  \\\n",
       "a       1.47064   0.0883471   1.30669   1.38173   1.53053   1.54245   1.55804   \n",
       "v       1.54158   0.0666659   1.42556   1.48936   1.54932   1.60046   1.64558   \n",
       "t      0.562424  0.00703201  0.552208  0.556105  0.564165  0.567395  0.575283   \n",
       "z      0.335686  0.00742979  0.322774  0.330833  0.336416  0.342172   0.34808   \n",
       "theta  0.967539   0.0422754  0.874378  0.941388  0.993801  0.998191   1.00626   \n",
       "\n",
       "            mc err  \n",
       "a        0.0124942  \n",
       "v       0.00942798  \n",
       "t      0.000994476  \n",
       "z       0.00105073  \n",
       "theta   0.00597865  "
      ]
     },
     "execution_count": 15,
     "metadata": {},
     "output_type": "execute_result"
    }
   ],
   "source": [
    "hddm_model.gen_stats()"
   ]
  },
  {
   "cell_type": "code",
   "execution_count": 11,
   "metadata": {},
   "outputs": [
    {
     "data": {
      "text/html": [
       "<div>\n",
       "<style scoped>\n",
       "    .dataframe tbody tr th:only-of-type {\n",
       "        vertical-align: middle;\n",
       "    }\n",
       "\n",
       "    .dataframe tbody tr th {\n",
       "        vertical-align: top;\n",
       "    }\n",
       "\n",
       "    .dataframe thead th {\n",
       "        text-align: right;\n",
       "    }\n",
       "</style>\n",
       "<table border=\"1\" class=\"dataframe\">\n",
       "  <thead>\n",
       "    <tr style=\"text-align: right;\">\n",
       "      <th></th>\n",
       "      <th>v</th>\n",
       "      <th>a</th>\n",
       "      <th>z</th>\n",
       "      <th>t</th>\n",
       "    </tr>\n",
       "  </thead>\n",
       "  <tbody>\n",
       "    <tr>\n",
       "      <th>0</th>\n",
       "      <td>0.799141</td>\n",
       "      <td>1.020869</td>\n",
       "      <td>0.576349</td>\n",
       "      <td>1.787239</td>\n",
       "    </tr>\n",
       "  </tbody>\n",
       "</table>\n",
       "</div>"
      ],
      "text/plain": [
       "          v         a         z         t\n",
       "0  0.799141  1.020869  0.576349  1.787239"
      ]
     },
     "execution_count": 11,
     "metadata": {},
     "output_type": "execute_result"
    }
   ],
   "source": [
    "params"
   ]
  },
  {
   "cell_type": "code",
   "execution_count": null,
   "metadata": {},
   "outputs": [],
   "source": [
    "import tensorflow as tf\n",
    "from hddm.cnn.wrapper import Infer\n",
    "from hddm.cnn.config import *\n",
    "tf.reset_default_graph()\n",
    "InferenceClass = Infer(config = Config('ddm', 512))"
   ]
  },
  {
   "cell_type": "code",
   "execution_count": null,
   "metadata": {},
   "outputs": [],
   "source": [
    "#params = np.zeros((1, 1, 4, 1))\n",
    "tiny_x = np.array([-1.0, 2.0, 0.5, 2.0])\n",
    "#tiny_x = np.zeros(4)\n",
    "#tiny_x = np.expand_dims(tiny_x, axis = (0, 1, 3))\n",
    "x = InferenceClass.forward(tiny_x)\n",
    "\n",
    "#0.50\t1.150202\t0.601982\t0.580975"
   ]
  },
  {
   "cell_type": "code",
   "execution_count": null,
   "metadata": {},
   "outputs": [],
   "source": [
    "import numpy as np\n",
    "from .train_detector import cnn_model_struct\n",
    "from .config import *\n",
    "import tensorflow as tf\n",
    "import tqdm, gzip, cProfile, time, argparse, pickle, os\n",
    "# just to prevent tensorflow from printing logs\n",
    "os.environ['TF_CPP_MIN_LOG_LEVEL']=\"2\"\n",
    "tf.logging.set_verbosity(tf.logging.ERROR)\n",
    "\n",
    "class Infer:\n",
    "\tdef __init__(self, config):\n",
    "\t\tself.cfg = config\n",
    "\t\tself.target = []\n",
    "\t\tself.inp = tf.placeholder(tf.float32, self.cfg.test_param_dims)\n",
    "\t\tself.initialized = False\n",
    "\n",
    "\t\twith tf.device('/gpu:0'):\n",
    "\t\t\twith tf.variable_scope(\"model\", reuse=tf.AUTO_REUSE) as scope:\n",
    "\t\t\t\tself.model = cnn_model_struct()\n",
    "\t\t\t\tself.model.build(self.inp, self.cfg.test_param_dims[1:], self.cfg.output_hist_dims[1:], train_mode=False, verbose=False)\n",
    "\t\t\t\tself.gpuconfig = tf.ConfigProto()\n",
    "\t\t\t\tself.gpuconfig.gpu_options.allow_growth = True\n",
    "\t\t\t\tself.gpuconfig.allow_soft_placement = True\n",
    "\t\t\t\tself.saver = tf.train.Saver()\n",
    "\t\t\n",
    "\t\tself.sess = tf.Session(config=self.gpuconfig)\n",
    "\t\tprint(self.cfg.model_output)\n",
    "\t\tckpts = tf.train.latest_checkpoint(self.cfg.model_output)\n",
    "\t\tself.saver.restore(self.sess, ckpts)\n",
    "\n",
    "\tdef __getitem__(self, item):\n",
    "\t\treturn getattr(self, item)\n",
    "\n",
    "\tdef __contains__(self, item):\n",
    "\t\treturn hasattr(self, item)\n",
    "\n",
    "\tdef forward(self, params):\n",
    "\t\tpred_hist = self.sess.run(self.model.output, feed_dict={self.inp:params.reshape(self.cfg.test_param_dims)})\n",
    "\t\treturn pred_hist\n",
    "\n",
    "def load_cnn(model, nbin):\n",
    "\tcfg = Config(model=model, bins=nbin)\n",
    "\tinference_class = Infer(config=cfg)\n",
    "\treturn inference_class.forward\n",
    "\n",
    "\n",
    "if __name__ == '__main__':\n",
    "\tparser = argparse.ArgumentParser()\n",
    "\tparser.add_argument('--model', type=str)\n",
    "\tparser.add_argument('--nbin', type=int)\n",
    "\targs = parser.parse_args()\n",
    "\n",
    "\tcfg = Config(model=args.model, bins=args.nbin)\n",
    "\tinference_class = Infer(config=cfg)\n",
    "\n",
    "\texample_params = np.array([0., 1.5, 0.5, 1])\n",
    "\tprint(inference_class.forward(example_params))"
   ]
  },
  {
   "cell_type": "markdown",
   "metadata": {},
   "source": [
    "# SAVING MODEL"
   ]
  },
  {
   "cell_type": "code",
   "execution_count": 3,
   "metadata": {},
   "outputs": [
    {
     "name": "stdout",
     "output_type": "stream",
     "text": [
      "Now adding the HDDMBase include:\n",
      "Include from inside HDDMBase:  {'t', 'a', 'v'}\n",
      "Is Neural Net?  False\n"
     ]
    }
   ],
   "source": [
    "model = 'ddm'\n",
    "n_samples = 1000\n",
    "p_outlier = [] # ['p_outlier']\n",
    "\n",
    "\n",
    "params = make_parameter_sets(model = model,\n",
    "                             n_parameter_sets = 1)\n",
    "\n",
    "simulations = simulator(theta = params.values[0],\n",
    "                        model = model,\n",
    "                        n_samples = n_samples)\n",
    "\n",
    "hddm_data_single_subject = hddm_preprocess(simulations)\n",
    "\n",
    "\n",
    "\n",
    "# hddm_model_ddm_analytic_single_subject = hddm.HDDMnn(hddm_data_ddm_single_subject, \n",
    "#                                                          model = 'ddm_analytic',\n",
    "#                                                          informative = False,\n",
    "#                                                          include = ['z'],\n",
    "#                                                          is_group_model = False)\n",
    "\n",
    "# Defining a hddm model\n",
    "hddm_model_single_subject = hddm.HDDM(hddm_data_single_subject,\n",
    "                                      informative = False,\n",
    "                                      include = include_conf[model],\n",
    "                                      p_outlier = 0.0,\n",
    "                                      is_group_model = False)"
   ]
  },
  {
   "cell_type": "code",
   "execution_count": 4,
   "metadata": {},
   "outputs": [
    {
     "name": "stdout",
     "output_type": "stream",
     "text": [
      " [-----------------100%-----------------] 500 of 500 complete in 6.7 sec"
     ]
    },
    {
     "data": {
      "text/plain": [
       "<pymc.MCMC.MCMC at 0x1480b4f50>"
      ]
     },
     "execution_count": 4,
     "metadata": {},
     "output_type": "execute_result"
    }
   ],
   "source": [
    "hddm_model_single_subject.sample(500, burn = 100, dbname = 'traces.db', db = 'pickle')"
   ]
  },
  {
   "cell_type": "code",
   "execution_count": 5,
   "metadata": {},
   "outputs": [
    {
     "data": {
      "text/plain": [
       "'pickle'"
      ]
     },
     "execution_count": 5,
     "metadata": {},
     "output_type": "execute_result"
    }
   ],
   "source": [
    "hddm_model_single_subject.mc.db.__name__ "
   ]
  },
  {
   "cell_type": "code",
   "execution_count": 6,
   "metadata": {},
   "outputs": [
    {
     "data": {
      "text/plain": [
       "'traces.db'"
      ]
     },
     "execution_count": 6,
     "metadata": {},
     "output_type": "execute_result"
    }
   ],
   "source": [
    "\n",
    "hddm_model_single_subject.mc.db.filename "
   ]
  },
  {
   "cell_type": "code",
   "execution_count": 7,
   "metadata": {},
   "outputs": [
    {
     "name": "stdout",
     "output_type": "stream",
     "text": [
      "{'slice_widths': {'a': 1, 't': 0.01, 'a_std': 1, 't_std': 0.15, 'sz': 1.1, 'v': 1.5, 'st': 0.1, 'sv': 0.5, 'z_trans': 0.2, 'z': 0.1, 'p_outlier': 1.0, 'v_std': 1, 'alpha': 1.0, 'dual_alpha': 1.5, 'theta': 0.1, 'beta': 1.0, 'g': 0.5}, 'emcee_dispersions': {'a': 1, 't': 0.1, 'a_std': 1, 't_std': 0.15, 'sz': 1.1, 'v': 1.5, 'st': 0.1, 'sv': 3, 'z_trans': 0.2, 'z': 0.1, 'p_outlier': 1.0, 'v_std': 1, 'alpha': 1.5, 'dual_alpha': 1.5, 'theta': 0.1}, 'is_informative': False, 'default_intervars': {'sz': 0, 'st': 0, 'sv': 0}, '_kwargs': {'is_group_model': False}, 'include': {'z', 't', 'v', 'a'}, 'wiener_params': {'err': 0.0001, 'n_st': 2, 'n_sz': 2, 'use_adaptive': 1, 'simps_err': 0.001, 'w_outlier': 0.1}, 'p_outlier': 0.0, 'cdf_range': (-7.851844310760498, 7.851844310760498), 'wfpt_class': <class 'pymc.distributions.new_dist_class.<locals>.new_class'>, 'nn': False, 'std_depends': False, 'plot_subjs': False, 'depends_on': None, 'data':            rt  response  nn_response subj_idx\n",
      "0    1.535084         1            1     none\n",
      "1    4.155040         1            1     none\n",
      "2    1.927079         1            1     none\n",
      "3    2.367098         1            1     none\n",
      "4    1.555084         1            1     none\n",
      "..        ...       ...          ...      ...\n",
      "995  1.502085         1            1     none\n",
      "996  2.817119         1            1     none\n",
      "997  4.315028         1            1     none\n",
      "998  2.887122         1            1     none\n",
      "999  1.841081         1            1     none\n",
      "\n",
      "[1000 rows x 4 columns], 'group_only_nodes': (), 'depends': {'a': (), 'v': (), 't': (), 'z': ()}, 'is_group_model': False, '_num_subjs': 1, 'num_subjs': 1, 'sampled': True, 'dbname': 'traces.db', 'db': 'pickle', 'nodes_db':         knode_name stochastic observed   subj tag depends hidden   rt  \\\n",
      "a                a       True    False  False  ()      []  False  NaN   \n",
      "v                v       True    False  False  ()      []  False  NaN   \n",
      "t                t       True    False  False  ()      []  False  NaN   \n",
      "z_trans    z_trans       True    False  False  ()      []   True  NaN   \n",
      "z                z      False    False  False  ()      []  False  NaN   \n",
      "wfpt          wfpt      False     True  False  ()      []  False  NaN   \n",
      "\n",
      "        response nn_response subj_idx      mean         std      2.5q  \\\n",
      "a            NaN         NaN      NaN   2.34195   0.0412182    2.2608   \n",
      "v            NaN         NaN      NaN   1.08709   0.0402269   1.00558   \n",
      "t            NaN         NaN      NaN  0.966102   0.0104182  0.943622   \n",
      "z_trans      NaN         NaN      NaN       NaN         NaN       NaN   \n",
      "z            NaN         NaN      NaN  0.344604  0.00986111  0.326567   \n",
      "wfpt         NaN         NaN      NaN       NaN         NaN       NaN   \n",
      "\n",
      "              25q       50q       75q     97.5q       mc err  \n",
      "a         2.31397   2.34093   2.36909   2.42809   0.00307547  \n",
      "v         1.06066   1.08886   1.11544   1.16188   0.00281292  \n",
      "t        0.959115  0.966563  0.972455  0.986645  0.000742724  \n",
      "z_trans       NaN       NaN       NaN       NaN          NaN  \n",
      "z        0.337672  0.344039   0.35139  0.365076  0.000584577  \n",
      "wfpt          NaN       NaN       NaN       NaN          NaN  , '_stats': {'z_trans': {'n': 400, 'standard deviation': 0.04363212790204072, 'mean': -0.6431379325056824, '95% HPD interval': array([-0.72926799, -0.56069881]), 'mc error': 0.002584308850708179, 'quantiles': {2.5: -0.7237520626677743, 25: -0.6736850152849806, 50: -0.6453453281176911, 75: -0.6129328042987005, 97.5: -0.553400604326495}}, 'v': {'n': 400, 'standard deviation': 0.040226869020546833, 'mean': 1.0870922440668298, '95% HPD interval': array([1.00940593, 1.16207068]), 'mc error': 0.0028129222830875185, 'quantiles': {2.5: 1.0055755391813987, 25: 1.0606609616292788, 50: 1.088856017910251, 75: 1.11543608813093, 97.5: 1.161883601170393}}, 'z': {'n': 400, 'standard deviation': 0.009861110688966284, 'mean': 0.3446041690111917, '95% HPD interval': array([0.32535538, 0.36338578]), 'mc error': 0.0005845771002305042, 'quantiles': {2.5: 0.32656728886737013, 25: 0.33767219593967424, 50: 0.344039222245765, 75: 0.35139047623524033, 97.5: 0.36507580327007744}}, 'a': {'n': 400, 'standard deviation': 0.041218212676862355, 'mean': 2.341950733431241, '95% HPD interval': array([2.25553629, 2.41806907]), 'mc error': 0.0030754697959711774, 'quantiles': {2.5: 2.2608035773426547, 25: 2.3139675824904833, 50: 2.340926978840033, 75: 2.369085328495984, 97.5: 2.428087227532054}}, 't': {'n': 400, 'standard deviation': 0.010418214505691572, 'mean': 0.9661018900449622, '95% HPD interval': array([0.94643242, 0.98760896]), 'mc error': 0.0007427238164167703, 'quantiles': {2.5: 0.9436219554840992, 25: 0.9591148471270038, 50: 0.9665630063316663, 75: 0.9724546806354474, 97.5: 0.9866447800063919}}}, '_stats_chain': 1}\n"
     ]
    }
   ],
   "source": [
    "hddm_model_single_subject.save('test_hddm_saver.pickle')"
   ]
  },
  {
   "cell_type": "code",
   "execution_count": null,
   "metadata": {},
   "outputs": [],
   "source": []
  }
 ],
 "metadata": {
  "kernelspec": {
   "display_name": "Python 3",
   "language": "python",
   "name": "python3"
  },
  "language_info": {
   "codemirror_mode": {
    "name": "ipython",
    "version": 3
   },
   "file_extension": ".py",
   "mimetype": "text/x-python",
   "name": "python",
   "nbconvert_exporter": "python",
   "pygments_lexer": "ipython3",
   "version": "3.7.9"
  }
 },
 "nbformat": 4,
 "nbformat_minor": 4
}
